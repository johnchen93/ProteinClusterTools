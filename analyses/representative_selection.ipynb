{
 "cells": [
  {
   "cell_type": "markdown",
   "metadata": {},
   "source": [
    "# Isolating target clusters and selecting best representatives\n",
    "\n",
    "This notebook is an example of how to select representatives given a set of protein clusters of interest.\n",
    "\n",
    "**Required:** Run the [**run pipeline**](./run_pipeline.ipynb) notebook first to make sure the required outputs are present. Also run **Step 1** from the [**hierarchical cluster plot**](./hierarchical_cluster_plot.ipynb) notebook as we will re-use some of those outputs.  \n",
    "  "
   ]
  },
  {
   "cell_type": "markdown",
   "metadata": {},
   "source": [
    "## Perform some exploration to select clusters"
   ]
  },
  {
   "cell_type": "code",
   "execution_count": 1,
   "metadata": {},
   "outputs": [
    {
     "data": {
      "text/html": [
       "    <style>\n",
       "        .bk-notebook-logo {\n",
       "            display: block;\n",
       "            width: 20px;\n",
       "            height: 20px;\n",
       "            background-image: url(data:image/png;base64,iVBORw0KGgoAAAANSUhEUgAAABQAAAAUCAYAAACNiR0NAAAABHNCSVQICAgIfAhkiAAAAAlwSFlzAAALEgAACxIB0t1+/AAAABx0RVh0U29mdHdhcmUAQWRvYmUgRmlyZXdvcmtzIENTNui8sowAAAOkSURBVDiNjZRtaJVlGMd/1/08zzln5zjP1LWcU9N0NkN8m2CYjpgQYQXqSs0I84OLIC0hkEKoPtiH3gmKoiJDU7QpLgoLjLIQCpEsNJ1vqUOdO7ppbuec5+V+rj4ctwzd8IIbbi6u+8f1539dt3A78eXC7QizUF7gyV1fD1Yqg4JWz84yffhm0qkFqBogB9rM8tZdtwVsPUhWhGcFJngGeWrPzHm5oaMmkfEg1usvLFyc8jLRqDOMru7AyC8saQr7GG7f5fvDeH7Ej8CM66nIF+8yngt6HWaKh7k49Soy9nXurCi1o3qUbS3zWfrYeQDTB/Qj6kX6Ybhw4B+bOYoLKCC9H3Nu/leUTZ1JdRWkkn2ldcCamzrcf47KKXdAJllSlxAOkRgyHsGC/zRday5Qld9DyoM4/q/rUoy/CXh3jzOu3bHUVZeU+DEn8FInkPBFlu3+nW3Nw0mk6vCDiWg8CeJaxEwuHS3+z5RgY+YBR6V1Z1nxSOfoaPa4LASWxxdNp+VWTk7+4vzaou8v8PN+xo+KY2xsw6une2frhw05CTYOmQvsEhjhWjn0bmXPjpE1+kplmmkP3suftwTubK9Vq22qKmrBhpY4jvd5afdRA3wGjFAgcnTK2s4hY0/GPNIb0nErGMCRxWOOX64Z8RAC4oCXdklmEvcL8o0BfkNK4lUg9HTl+oPlQxdNo3Mg4Nv175e/1LDGzZen30MEjRUtmXSfiTVu1kK8W4txyV6BMKlbgk3lMwYCiusNy9fVfvvwMxv8Ynl6vxoByANLTWplvuj/nF9m2+PDtt1eiHPBr1oIfhCChQMBw6Aw0UulqTKZdfVvfG7VcfIqLG9bcldL/+pdWTLxLUy8Qq38heUIjh4XlzZxzQm19lLFlr8vdQ97rjZVOLf8nclzckbcD4wxXMidpX30sFd37Fv/GtwwhzhxGVAprjbg0gCAEeIgwCZyTV2Z1REEW8O4py0wsjeloKoMr6iCY6dP92H6Vw/oTyICIthibxjm/DfN9lVz8IqtqKYLUXfoKVMVQVVJOElGjrnnUt9T9wbgp8AyYKaGlqingHZU/uG2NTZSVqwHQTWkx9hxjkpWDaCg6Ckj5qebgBVbT3V3NNXMSiWSDdGV3hrtzla7J+duwPOToIg42ChPQOQjspnSlp1V+Gjdged7+8UN5CRAV7a5EdFNwCjEaBR27b3W890TE7g24NAP/mMDXRWrGoFPQI9ls/MWO2dWFAar/xcOIImbbpA3zgAAAABJRU5ErkJggg==);\n",
       "        }\n",
       "    </style>\n",
       "    <div>\n",
       "        <a href=\"https://bokeh.org\" target=\"_blank\" class=\"bk-notebook-logo\"></a>\n",
       "        <span id=\"f6d22ac5-0c72-414b-ba44-d4d5f2ae2dcf\">Loading BokehJS ...</span>\n",
       "    </div>\n"
      ]
     },
     "metadata": {},
     "output_type": "display_data"
    },
    {
     "data": {
      "application/javascript": "'use strict';\n(function(root) {\n  function now() {\n    return new Date();\n  }\n\n  const force = true;\n\n  if (typeof root._bokeh_onload_callbacks === \"undefined\" || force === true) {\n    root._bokeh_onload_callbacks = [];\n    root._bokeh_is_loading = undefined;\n  }\n\nconst JS_MIME_TYPE = 'application/javascript';\n  const HTML_MIME_TYPE = 'text/html';\n  const EXEC_MIME_TYPE = 'application/vnd.bokehjs_exec.v0+json';\n  const CLASS_NAME = 'output_bokeh rendered_html';\n\n  /**\n   * Render data to the DOM node\n   */\n  function render(props, node) {\n    const script = document.createElement(\"script\");\n    node.appendChild(script);\n  }\n\n  /**\n   * Handle when an output is cleared or removed\n   */\n  function handleClearOutput(event, handle) {\n    function drop(id) {\n      const view = Bokeh.index.get_by_id(id)\n      if (view != null) {\n        view.model.document.clear()\n        Bokeh.index.delete(view)\n      }\n    }\n\n    const cell = handle.cell;\n\n    const id = cell.output_area._bokeh_element_id;\n    const server_id = cell.output_area._bokeh_server_id;\n\n    // Clean up Bokeh references\n    if (id != null) {\n      drop(id)\n    }\n\n    if (server_id !== undefined) {\n      // Clean up Bokeh references\n      const cmd_clean = \"from bokeh.io.state import curstate; print(curstate().uuid_to_server['\" + server_id + \"'].get_sessions()[0].document.roots[0]._id)\";\n      cell.notebook.kernel.execute(cmd_clean, {\n        iopub: {\n          output: function(msg) {\n            const id = msg.content.text.trim()\n            drop(id)\n          }\n        }\n      });\n      // Destroy server and session\n      const cmd_destroy = \"import bokeh.io.notebook as ion; ion.destroy_server('\" + server_id + \"')\";\n      cell.notebook.kernel.execute(cmd_destroy);\n    }\n  }\n\n  /**\n   * Handle when a new output is added\n   */\n  function handleAddOutput(event, handle) {\n    const output_area = handle.output_area;\n    const output = handle.output;\n\n    // limit handleAddOutput to display_data with EXEC_MIME_TYPE content only\n    if ((output.output_type != \"display_data\") || (!Object.prototype.hasOwnProperty.call(output.data, EXEC_MIME_TYPE))) {\n      return\n    }\n\n    const toinsert = output_area.element.find(\".\" + CLASS_NAME.split(' ')[0]);\n\n    if (output.metadata[EXEC_MIME_TYPE][\"id\"] !== undefined) {\n      toinsert[toinsert.length - 1].firstChild.textContent = output.data[JS_MIME_TYPE];\n      // store reference to embed id on output_area\n      output_area._bokeh_element_id = output.metadata[EXEC_MIME_TYPE][\"id\"];\n    }\n    if (output.metadata[EXEC_MIME_TYPE][\"server_id\"] !== undefined) {\n      const bk_div = document.createElement(\"div\");\n      bk_div.innerHTML = output.data[HTML_MIME_TYPE];\n      const script_attrs = bk_div.children[0].attributes;\n      for (let i = 0; i < script_attrs.length; i++) {\n        toinsert[toinsert.length - 1].firstChild.setAttribute(script_attrs[i].name, script_attrs[i].value);\n        toinsert[toinsert.length - 1].firstChild.textContent = bk_div.children[0].textContent\n      }\n      // store reference to server id on output_area\n      output_area._bokeh_server_id = output.metadata[EXEC_MIME_TYPE][\"server_id\"];\n    }\n  }\n\n  function register_renderer(events, OutputArea) {\n\n    function append_mime(data, metadata, element) {\n      // create a DOM node to render to\n      const toinsert = this.create_output_subarea(\n        metadata,\n        CLASS_NAME,\n        EXEC_MIME_TYPE\n      );\n      this.keyboard_manager.register_events(toinsert);\n      // Render to node\n      const props = {data: data, metadata: metadata[EXEC_MIME_TYPE]};\n      render(props, toinsert[toinsert.length - 1]);\n      element.append(toinsert);\n      return toinsert\n    }\n\n    /* Handle when an output is cleared or removed */\n    events.on('clear_output.CodeCell', handleClearOutput);\n    events.on('delete.Cell', handleClearOutput);\n\n    /* Handle when a new output is added */\n    events.on('output_added.OutputArea', handleAddOutput);\n\n    /**\n     * Register the mime type and append_mime function with output_area\n     */\n    OutputArea.prototype.register_mime_type(EXEC_MIME_TYPE, append_mime, {\n      /* Is output safe? */\n      safe: true,\n      /* Index of renderer in `output_area.display_order` */\n      index: 0\n    });\n  }\n\n  // register the mime type if in Jupyter Notebook environment and previously unregistered\n  if (root.Jupyter !== undefined) {\n    const events = require('base/js/events');\n    const OutputArea = require('notebook/js/outputarea').OutputArea;\n\n    if (OutputArea.prototype.mime_types().indexOf(EXEC_MIME_TYPE) == -1) {\n      register_renderer(events, OutputArea);\n    }\n  }\n  if (typeof (root._bokeh_timeout) === \"undefined\" || force === true) {\n    root._bokeh_timeout = Date.now() + 5000;\n    root._bokeh_failed_load = false;\n  }\n\n  const NB_LOAD_WARNING = {'data': {'text/html':\n     \"<div style='background-color: #fdd'>\\n\"+\n     \"<p>\\n\"+\n     \"BokehJS does not appear to have successfully loaded. If loading BokehJS from CDN, this \\n\"+\n     \"may be due to a slow or bad network connection. Possible fixes:\\n\"+\n     \"</p>\\n\"+\n     \"<ul>\\n\"+\n     \"<li>re-rerun `output_notebook()` to attempt to load from CDN again, or</li>\\n\"+\n     \"<li>use INLINE resources instead, as so:</li>\\n\"+\n     \"</ul>\\n\"+\n     \"<code>\\n\"+\n     \"from bokeh.resources import INLINE\\n\"+\n     \"output_notebook(resources=INLINE)\\n\"+\n     \"</code>\\n\"+\n     \"</div>\"}};\n\n  function display_loaded(error = null) {\n    const el = document.getElementById(\"f6d22ac5-0c72-414b-ba44-d4d5f2ae2dcf\");\n    if (el != null) {\n      const html = (() => {\n        if (typeof root.Bokeh === \"undefined\") {\n          if (error == null) {\n            return \"BokehJS is loading ...\";\n          } else {\n            return \"BokehJS failed to load.\";\n          }\n        } else {\n          const prefix = `BokehJS ${root.Bokeh.version}`;\n          if (error == null) {\n            return `${prefix} successfully loaded.`;\n          } else {\n            return `${prefix} <b>encountered errors</b> while loading and may not function as expected.`;\n          }\n        }\n      })();\n      el.innerHTML = html;\n\n      if (error != null) {\n        const wrapper = document.createElement(\"div\");\n        wrapper.style.overflow = \"auto\";\n        wrapper.style.height = \"5em\";\n        wrapper.style.resize = \"vertical\";\n        const content = document.createElement(\"div\");\n        content.style.fontFamily = \"monospace\";\n        content.style.whiteSpace = \"pre-wrap\";\n        content.style.backgroundColor = \"rgb(255, 221, 221)\";\n        content.textContent = error.stack ?? error.toString();\n        wrapper.append(content);\n        el.append(wrapper);\n      }\n    } else if (Date.now() < root._bokeh_timeout) {\n      setTimeout(() => display_loaded(error), 100);\n    }\n  }\n\n  function run_callbacks() {\n    try {\n      root._bokeh_onload_callbacks.forEach(function(callback) {\n        if (callback != null)\n          callback();\n      });\n    } finally {\n      delete root._bokeh_onload_callbacks\n    }\n    console.debug(\"Bokeh: all callbacks have finished\");\n  }\n\n  function load_libs(css_urls, js_urls, callback) {\n    if (css_urls == null) css_urls = [];\n    if (js_urls == null) js_urls = [];\n\n    root._bokeh_onload_callbacks.push(callback);\n    if (root._bokeh_is_loading > 0) {\n      console.debug(\"Bokeh: BokehJS is being loaded, scheduling callback at\", now());\n      return null;\n    }\n    if (js_urls == null || js_urls.length === 0) {\n      run_callbacks();\n      return null;\n    }\n    console.debug(\"Bokeh: BokehJS not loaded, scheduling load and callback at\", now());\n    root._bokeh_is_loading = css_urls.length + js_urls.length;\n\n    function on_load() {\n      root._bokeh_is_loading--;\n      if (root._bokeh_is_loading === 0) {\n        console.debug(\"Bokeh: all BokehJS libraries/stylesheets loaded\");\n        run_callbacks()\n      }\n    }\n\n    function on_error(url) {\n      console.error(\"failed to load \" + url);\n    }\n\n    for (let i = 0; i < css_urls.length; i++) {\n      const url = css_urls[i];\n      const element = document.createElement(\"link\");\n      element.onload = on_load;\n      element.onerror = on_error.bind(null, url);\n      element.rel = \"stylesheet\";\n      element.type = \"text/css\";\n      element.href = url;\n      console.debug(\"Bokeh: injecting link tag for BokehJS stylesheet: \", url);\n      document.body.appendChild(element);\n    }\n\n    for (let i = 0; i < js_urls.length; i++) {\n      const url = js_urls[i];\n      const element = document.createElement('script');\n      element.onload = on_load;\n      element.onerror = on_error.bind(null, url);\n      element.async = false;\n      element.src = url;\n      console.debug(\"Bokeh: injecting script tag for BokehJS library: \", url);\n      document.head.appendChild(element);\n    }\n  };\n\n  function inject_raw_css(css) {\n    const element = document.createElement(\"style\");\n    element.appendChild(document.createTextNode(css));\n    document.body.appendChild(element);\n  }\n\n  const js_urls = [\"https://cdn.bokeh.org/bokeh/release/bokeh-3.4.0.min.js\", \"https://cdn.bokeh.org/bokeh/release/bokeh-gl-3.4.0.min.js\", \"https://cdn.bokeh.org/bokeh/release/bokeh-widgets-3.4.0.min.js\", \"https://cdn.bokeh.org/bokeh/release/bokeh-tables-3.4.0.min.js\", \"https://cdn.bokeh.org/bokeh/release/bokeh-mathjax-3.4.0.min.js\"];\n  const css_urls = [];\n\n  const inline_js = [    function(Bokeh) {\n      Bokeh.set_log_level(\"info\");\n    },\nfunction(Bokeh) {\n    }\n  ];\n\n  function run_inline_js() {\n    if (root.Bokeh !== undefined || force === true) {\n      try {\n            for (let i = 0; i < inline_js.length; i++) {\n      inline_js[i].call(root, root.Bokeh);\n    }\n\n      } catch (error) {display_loaded(error);throw error;\n      }if (force === true) {\n        display_loaded();\n      }} else if (Date.now() < root._bokeh_timeout) {\n      setTimeout(run_inline_js, 100);\n    } else if (!root._bokeh_failed_load) {\n      console.log(\"Bokeh: BokehJS failed to load within specified timeout.\");\n      root._bokeh_failed_load = true;\n    } else if (force !== true) {\n      const cell = $(document.getElementById(\"f6d22ac5-0c72-414b-ba44-d4d5f2ae2dcf\")).parents('.cell').data().cell;\n      cell.output_area.append_execute_result(NB_LOAD_WARNING)\n    }\n  }\n\n  if (root._bokeh_is_loading === 0) {\n    console.debug(\"Bokeh: BokehJS loaded, going straight to plotting\");\n    run_inline_js();\n  } else {\n    load_libs(css_urls, js_urls, function() {\n      console.debug(\"Bokeh: BokehJS plotting callback run at\", now());\n      run_inline_js();\n    });\n  }\n}(window));",
      "application/vnd.bokehjs_load.v0+json": ""
     },
     "metadata": {},
     "output_type": "display_data"
    }
   ],
   "source": [
    "import pandas as pd\n",
    "import pickle\n",
    "import proteinclustertools.visuals.circle_plot as cp\n",
    "import proteinclustertools.visuals.annotate as an\n",
    "from matplotlib.colors import ListedColormap"
   ]
  },
  {
   "cell_type": "markdown",
   "metadata": {},
   "source": [
    "Read files from previous visualization.  \n",
    "  \n",
    "We will use multiple levels to filter the data as an example, but if you have a particular level of interest you can just pick representatives directly from them as well."
   ]
  },
  {
   "cell_type": "code",
   "execution_count": 2,
   "metadata": {},
   "outputs": [
    {
     "data": {
      "text/html": [
       "<div>\n",
       "<style scoped>\n",
       "    .dataframe tbody tr th:only-of-type {\n",
       "        vertical-align: middle;\n",
       "    }\n",
       "\n",
       "    .dataframe tbody tr th {\n",
       "        vertical-align: top;\n",
       "    }\n",
       "\n",
       "    .dataframe thead th {\n",
       "        text-align: right;\n",
       "    }\n",
       "</style>\n",
       "<table border=\"1\" class=\"dataframe\">\n",
       "  <thead>\n",
       "    <tr style=\"text-align: right;\">\n",
       "      <th></th>\n",
       "      <th>id</th>\n",
       "      <th>137.0</th>\n",
       "      <th>196.0</th>\n",
       "      <th>303.0</th>\n",
       "    </tr>\n",
       "  </thead>\n",
       "  <tbody>\n",
       "    <tr>\n",
       "      <th>0</th>\n",
       "      <td>0</td>\n",
       "      <td>0</td>\n",
       "      <td>0</td>\n",
       "      <td>7</td>\n",
       "    </tr>\n",
       "    <tr>\n",
       "      <th>1</th>\n",
       "      <td>1</td>\n",
       "      <td>0</td>\n",
       "      <td>0</td>\n",
       "      <td>187</td>\n",
       "    </tr>\n",
       "    <tr>\n",
       "      <th>2</th>\n",
       "      <td>10</td>\n",
       "      <td>0</td>\n",
       "      <td>0</td>\n",
       "      <td>3</td>\n",
       "    </tr>\n",
       "    <tr>\n",
       "      <th>3</th>\n",
       "      <td>100</td>\n",
       "      <td>0</td>\n",
       "      <td>0</td>\n",
       "      <td>3</td>\n",
       "    </tr>\n",
       "    <tr>\n",
       "      <th>4</th>\n",
       "      <td>1000</td>\n",
       "      <td>0</td>\n",
       "      <td>0</td>\n",
       "      <td>260</td>\n",
       "    </tr>\n",
       "  </tbody>\n",
       "</table>\n",
       "</div>"
      ],
      "text/plain": [
       "     id 137.0 196.0 303.0\n",
       "0     0     0     0     7\n",
       "1     1     0     0   187\n",
       "2    10     0     0     3\n",
       "3   100     0     0     3\n",
       "4  1000     0     0   260"
      ]
     },
     "execution_count": 2,
     "metadata": {},
     "output_type": "execute_result"
    }
   ],
   "source": [
    "clusters=pd.read_csv(\"layouts/mmseqs_137-196-303.csv\", dtype=str)\n",
    "clusters.head()"
   ]
  },
  {
   "cell_type": "markdown",
   "metadata": {},
   "source": [
    "Load some annotations as picking criteria."
   ]
  },
  {
   "cell_type": "code",
   "execution_count": 3,
   "metadata": {},
   "outputs": [
    {
     "data": {
      "text/html": [
       "<div>\n",
       "<style scoped>\n",
       "    .dataframe tbody tr th:only-of-type {\n",
       "        vertical-align: middle;\n",
       "    }\n",
       "\n",
       "    .dataframe tbody tr th {\n",
       "        vertical-align: top;\n",
       "    }\n",
       "\n",
       "    .dataframe thead th {\n",
       "        text-align: right;\n",
       "    }\n",
       "</style>\n",
       "<table border=\"1\" class=\"dataframe\">\n",
       "  <thead>\n",
       "    <tr style=\"text-align: right;\">\n",
       "      <th></th>\n",
       "      <th>Entry</th>\n",
       "      <th>Reviewed</th>\n",
       "      <th>Length</th>\n",
       "      <th>Organism (ID)</th>\n",
       "      <th>PDB</th>\n",
       "      <th>Superkingdom</th>\n",
       "      <th>Phylum</th>\n",
       "    </tr>\n",
       "  </thead>\n",
       "  <tbody>\n",
       "    <tr>\n",
       "      <th>0</th>\n",
       "      <td>G3XD97</td>\n",
       "      <td>reviewed</td>\n",
       "      <td>340</td>\n",
       "      <td>208964</td>\n",
       "      <td>NaN</td>\n",
       "      <td>Bacteria</td>\n",
       "      <td>Pseudomonadota</td>\n",
       "    </tr>\n",
       "    <tr>\n",
       "      <th>1</th>\n",
       "      <td>P02924</td>\n",
       "      <td>reviewed</td>\n",
       "      <td>329</td>\n",
       "      <td>83333</td>\n",
       "      <td>1ABE;1ABF;1APB;1BAP;2WRZ;5ABP;6ABP;7ABP;8ABP;9...</td>\n",
       "      <td>Bacteria</td>\n",
       "      <td>Pseudomonadota</td>\n",
       "    </tr>\n",
       "    <tr>\n",
       "      <th>2</th>\n",
       "      <td>P0ACP1</td>\n",
       "      <td>reviewed</td>\n",
       "      <td>334</td>\n",
       "      <td>83333</td>\n",
       "      <td>1UXC;1UXD;2IKS;</td>\n",
       "      <td>Bacteria</td>\n",
       "      <td>Pseudomonadota</td>\n",
       "    </tr>\n",
       "    <tr>\n",
       "      <th>3</th>\n",
       "      <td>Q88HH7</td>\n",
       "      <td>reviewed</td>\n",
       "      <td>339</td>\n",
       "      <td>160488</td>\n",
       "      <td>NaN</td>\n",
       "      <td>Bacteria</td>\n",
       "      <td>Pseudomonadota</td>\n",
       "    </tr>\n",
       "    <tr>\n",
       "      <th>4</th>\n",
       "      <td>Q9KM69</td>\n",
       "      <td>reviewed</td>\n",
       "      <td>326</td>\n",
       "      <td>243277</td>\n",
       "      <td>NaN</td>\n",
       "      <td>Bacteria</td>\n",
       "      <td>Pseudomonadota</td>\n",
       "    </tr>\n",
       "  </tbody>\n",
       "</table>\n",
       "</div>"
      ],
      "text/plain": [
       "    Entry  Reviewed  Length  Organism (ID)  \\\n",
       "0  G3XD97  reviewed     340         208964   \n",
       "1  P02924  reviewed     329          83333   \n",
       "2  P0ACP1  reviewed     334          83333   \n",
       "3  Q88HH7  reviewed     339         160488   \n",
       "4  Q9KM69  reviewed     326         243277   \n",
       "\n",
       "                                                 PDB Superkingdom  \\\n",
       "0                                                NaN     Bacteria   \n",
       "1  1ABE;1ABF;1APB;1BAP;2WRZ;5ABP;6ABP;7ABP;8ABP;9...     Bacteria   \n",
       "2                                    1UXC;1UXD;2IKS;     Bacteria   \n",
       "3                                                NaN     Bacteria   \n",
       "4                                                NaN     Bacteria   \n",
       "\n",
       "           Phylum  \n",
       "0  Pseudomonadota  \n",
       "1  Pseudomonadota  \n",
       "2  Pseudomonadota  \n",
       "3  Pseudomonadota  \n",
       "4  Pseudomonadota  "
      ]
     },
     "execution_count": 3,
     "metadata": {},
     "output_type": "execute_result"
    }
   ],
   "source": [
    "annot_table=pd.read_csv(\"../data/IPR001761_with_taxonomy.tsv\", sep=\"\\t\")\n",
    "annot_table.head()"
   ]
  },
  {
   "cell_type": "markdown",
   "metadata": {},
   "source": [
    "Again, we will need to remap the numeric sequence ids back to their original."
   ]
  },
  {
   "cell_type": "code",
   "execution_count": 4,
   "metadata": {},
   "outputs": [
    {
     "data": {
      "text/html": [
       "<div>\n",
       "<style scoped>\n",
       "    .dataframe tbody tr th:only-of-type {\n",
       "        vertical-align: middle;\n",
       "    }\n",
       "\n",
       "    .dataframe tbody tr th {\n",
       "        vertical-align: top;\n",
       "    }\n",
       "\n",
       "    .dataframe thead th {\n",
       "        text-align: right;\n",
       "    }\n",
       "</style>\n",
       "<table border=\"1\" class=\"dataframe\">\n",
       "  <thead>\n",
       "    <tr style=\"text-align: right;\">\n",
       "      <th></th>\n",
       "      <th>id</th>\n",
       "      <th>header</th>\n",
       "      <th>Entry</th>\n",
       "    </tr>\n",
       "  </thead>\n",
       "  <tbody>\n",
       "    <tr>\n",
       "      <th>0</th>\n",
       "      <td>0</td>\n",
       "      <td>sp|Q88HH7|PTXS_PSEPK</td>\n",
       "      <td>Q88HH7</td>\n",
       "    </tr>\n",
       "    <tr>\n",
       "      <th>1</th>\n",
       "      <td>1</td>\n",
       "      <td>tr|A0A0M1P0M0|A0A0M1P0M0_9BACL</td>\n",
       "      <td>A0A0M1P0M0</td>\n",
       "    </tr>\n",
       "    <tr>\n",
       "      <th>2</th>\n",
       "      <td>2</td>\n",
       "      <td>tr|A0A100YV14|A0A100YV14_TRASO</td>\n",
       "      <td>A0A100YV14</td>\n",
       "    </tr>\n",
       "    <tr>\n",
       "      <th>3</th>\n",
       "      <td>3</td>\n",
       "      <td>tr|A0A1C7IBZ4|A0A1C7IBZ4_9FIRM</td>\n",
       "      <td>A0A1C7IBZ4</td>\n",
       "    </tr>\n",
       "    <tr>\n",
       "      <th>4</th>\n",
       "      <td>4</td>\n",
       "      <td>tr|A0A1R4KFK1|A0A1R4KFK1_9LACT</td>\n",
       "      <td>A0A1R4KFK1</td>\n",
       "    </tr>\n",
       "  </tbody>\n",
       "</table>\n",
       "</div>"
      ],
      "text/plain": [
       "  id                          header       Entry\n",
       "0  0            sp|Q88HH7|PTXS_PSEPK      Q88HH7\n",
       "1  1  tr|A0A0M1P0M0|A0A0M1P0M0_9BACL  A0A0M1P0M0\n",
       "2  2  tr|A0A100YV14|A0A100YV14_TRASO  A0A100YV14\n",
       "3  3  tr|A0A1C7IBZ4|A0A1C7IBZ4_9FIRM  A0A1C7IBZ4\n",
       "4  4  tr|A0A1R4KFK1|A0A1R4KFK1_9LACT  A0A1R4KFK1"
      ]
     },
     "execution_count": 4,
     "metadata": {},
     "output_type": "execute_result"
    }
   ],
   "source": [
    "header_map=pd.read_csv(\"../output/IPR001761_header_map.txt\", dtype=str)\n",
    "header_map['Entry']=header_map['header'].str.split(\"|\").str[1]\n",
    "header_map.head()"
   ]
  },
  {
   "cell_type": "code",
   "execution_count": 5,
   "metadata": {},
   "outputs": [
    {
     "data": {
      "text/html": [
       "<div>\n",
       "<style scoped>\n",
       "    .dataframe tbody tr th:only-of-type {\n",
       "        vertical-align: middle;\n",
       "    }\n",
       "\n",
       "    .dataframe tbody tr th {\n",
       "        vertical-align: top;\n",
       "    }\n",
       "\n",
       "    .dataframe thead th {\n",
       "        text-align: right;\n",
       "    }\n",
       "</style>\n",
       "<table border=\"1\" class=\"dataframe\">\n",
       "  <thead>\n",
       "    <tr style=\"text-align: right;\">\n",
       "      <th></th>\n",
       "      <th>id</th>\n",
       "      <th>137.0</th>\n",
       "      <th>196.0</th>\n",
       "      <th>303.0</th>\n",
       "      <th>Entry</th>\n",
       "    </tr>\n",
       "  </thead>\n",
       "  <tbody>\n",
       "    <tr>\n",
       "      <th>0</th>\n",
       "      <td>0</td>\n",
       "      <td>0</td>\n",
       "      <td>0</td>\n",
       "      <td>7</td>\n",
       "      <td>Q88HH7</td>\n",
       "    </tr>\n",
       "    <tr>\n",
       "      <th>1</th>\n",
       "      <td>1</td>\n",
       "      <td>0</td>\n",
       "      <td>0</td>\n",
       "      <td>187</td>\n",
       "      <td>A0A0M1P0M0</td>\n",
       "    </tr>\n",
       "    <tr>\n",
       "      <th>2</th>\n",
       "      <td>10</td>\n",
       "      <td>0</td>\n",
       "      <td>0</td>\n",
       "      <td>3</td>\n",
       "      <td>A0A485EFL7</td>\n",
       "    </tr>\n",
       "    <tr>\n",
       "      <th>3</th>\n",
       "      <td>100</td>\n",
       "      <td>0</td>\n",
       "      <td>0</td>\n",
       "      <td>3</td>\n",
       "      <td>A0A1G9ETG5</td>\n",
       "    </tr>\n",
       "    <tr>\n",
       "      <th>4</th>\n",
       "      <td>1000</td>\n",
       "      <td>0</td>\n",
       "      <td>0</td>\n",
       "      <td>260</td>\n",
       "      <td>A0A943EYG6</td>\n",
       "    </tr>\n",
       "  </tbody>\n",
       "</table>\n",
       "</div>"
      ],
      "text/plain": [
       "     id 137.0 196.0 303.0       Entry\n",
       "0     0     0     0     7      Q88HH7\n",
       "1     1     0     0   187  A0A0M1P0M0\n",
       "2    10     0     0     3  A0A485EFL7\n",
       "3   100     0     0     3  A0A1G9ETG5\n",
       "4  1000     0     0   260  A0A943EYG6"
      ]
     },
     "execution_count": 5,
     "metadata": {},
     "output_type": "execute_result"
    }
   ],
   "source": [
    "clusters=clusters.merge(header_map[['id','Entry']], on=\"id\")\n",
    "clusters.head()"
   ]
  },
  {
   "cell_type": "markdown",
   "metadata": {},
   "source": [
    "Now the sequence level annotations can be matched directly to the clusters through this table."
   ]
  },
  {
   "cell_type": "markdown",
   "metadata": {},
   "source": [
    "Let's remake the plot to see the sequence space."
   ]
  },
  {
   "cell_type": "code",
   "execution_count": 6,
   "metadata": {},
   "outputs": [],
   "source": [
    "# load layout\n",
    "layout=pickle.load(open(\"layouts/mmseqs_137-196-303.pkl\", \"rb\"))\n",
    "\n",
    "levels=clusters.columns[1:4]\n",
    "# create annotations of taxonomy and review status\n",
    "phylum=an.AnnotateClusters(clusters, levels, annot_table, \"Phylum\", \"Entry\", \"Entry\")\n",
    "phylum_colors=an.ColorAnnot(phylum, cmap=\"Set3\", top_n=10, saturation=.7, shuffle_colors_seed=1)\n",
    "\n",
    "is_reviewed=annot_table['Reviewed']=='reviewed'\n",
    "reviewed_only=clusters[clusters['Entry'].isin(annot_table[is_reviewed]['Entry'])]\n",
    "reviewed=an.AnnotateClusters(reviewed_only, [levels[-1]], annot_table, \"Reviewed\", \"Entry\", \"Entry\")\n",
    "reviewed_colors=an.ColorAnnot(reviewed, cmap=ListedColormap(['red']), saturation=.7)"
   ]
  },
  {
   "cell_type": "code",
   "execution_count": 8,
   "metadata": {},
   "outputs": [
    {
     "data": {
      "text/html": [
       "\n",
       "  <div id=\"b1c7f56a-cfb8-48bf-bc28-006e4200ceb5\" data-root-id=\"p1494\" style=\"display: contents;\"></div>\n"
      ]
     },
     "metadata": {},
     "output_type": "display_data"
    },
    {
     "data": {
      "application/javascript": "(function(root) {\n  function embed_document(root) {\n  const docs_json = {\"20a8ac38-385c-4c97-9079-71abdf8f3827\":{\"version\":\"3.4.0\",\"title\":\"Bokeh Application\",\"roots\":[{\"type\":\"object\",\"name\":\"Row\",\"id\":\"p1494\",\"attributes\":{\"children\":[{\"type\":\"object\",\"name\":\"Figure\",\"id\":\"p1255\",\"attributes\":{\"width\":800,\"height\":800,\"x_range\":{\"type\":\"object\",\"name\":\"DataRange1d\",\"id\":\"p1256\"},\"y_range\":{\"type\":\"object\",\"name\":\"DataRange1d\",\"id\":\"p1257\"},\"x_scale\":{\"type\":\"object\",\"name\":\"LinearScale\",\"id\":\"p1264\"},\"y_scale\":{\"type\":\"object\",\"name\":\"LinearScale\",\"id\":\"p1265\"},\"title\":{\"type\":\"object\",\"name\":\"Title\",\"id\":\"p1262\"},\"renderers\":[{\"type\":\"object\",\"name\":\"GlyphRenderer\",\"id\":\"p1288\",\"attributes\":{\"data_source\":{\"type\":\"object\",\"name\":\"ColumnDataSource\",\"id\":\"p1279\",\"attributes\":{\"selected\":{\"type\":\"object\",\"name\":\"Selection\",\"id\":\"p1280\",\"attributes\":{\"indices\":[],\"line_indices\":[]}},\"selection_policy\":{\"type\":\"object\",\"name\":\"UnionRenderers\",\"id\":\"p1281\"},\"data\":{\"type\":\"map\",\"entries\":[[\"x\",[0.10297811880954555,-22.066462627497827,-117.27679549798123,-65.92407714470974,101.8711613501633,46.4910458411301,15.74382484808811,-115.63124953850857,22.000553974064673,85.11449325934299,117.37359512701877,105.73791397467502,-1.1941319619094486,116.13467300787815,-111.75969039544216,-25.93527900323025,26.559813388737524,-39.4870921288406,58.17292679205784,-77.77660476311794,115.1893986548508,87.3731373633469,-60.879456630793726,97.14892471686252,33.88273895636448,-57.16531859978787,72.52014053717502,-115.64387618645779]],[\"y\",[8.66168604783077,-131.41402615614874,4.572080239572713,-88.79541195937138,67.13858614853878,-99.42650784560185,-134.3578432948206,27.687719449320028,155.9603940098669,-72.35618771620732,7.559525117197225,-42.200017824849894,140.57864962510126,24.973924741068075,43.5356122105505,153.09949313096064,126.11559115342159,118.82573519639034,-93.57727231093388,-79.14977444716435,-12.085908785543253,89.79435549668331,-143.16852749892217,-58.30099286147099,-104.62105740614872,111.31944857529659,-84.08751858778935,-12.091573610982707]],[\"r\",[93.95069528149601,26.14213697532393,1.692568750643269,1.692568750643269,1.692568750643269,1.692568750643269,1.692568750643269,1.5957691216057308,1.5957691216057308,1.5957691216057308,1.5957691216057308,1.4927053303604616,16.244349652921244,1.4927053303604616,1.4927053303604616,1.4927053303604616,1.381976597885342,1.381976597885342,1.381976597885342,1.381976597885342,1.2615662610100802,3.477898169151024,3.1915382432114616,2.111004122822376,1.9544100476116797,1.8712051592547776,1.7841241161527712,1.7841241161527712]],[\"colors\",[\"rgba(207,210,179,255)\",\"rgba(192,222,143,255)\",\"rgba(255,255,255,255)\",\"rgba(223,222,234,255)\",\"rgba(162,211,202,255)\",\"rgba(255,255,255,255)\",\"rgba(217,217,217,255)\",\"rgba(221,210,209,255)\",\"rgba(254,250,252,255)\",\"rgba(252,219,235,255)\",\"rgba(255,255,255,255)\",\"rgba(188,146,189,255)\",\"rgba(192,222,140,255)\",\"rgba(191,194,216,255)\",\"rgba(255,255,255,255)\",\"rgba(188,146,189,255)\",\"rgba(255,255,255,255)\",\"rgba(217,217,217,255)\",\"rgba(255,255,255,255)\",\"rgba(188,146,189,255)\",\"rgba(252,219,235,255)\",\"rgba(166,213,205,255)\",\"rgba(194,157,180,255)\",\"rgba(255,255,255,255)\",\"rgba(191,222,140,255)\",\"rgba(220,212,211,255)\",\"rgba(255,255,255,255)\",\"rgba(217,217,217,255)\"]],[\"line_colors\",[\"rgba(0,0,0,255)\",\"rgba(0,0,0,255)\",\"rgba(0,0,0,255)\",\"rgba(0,0,0,255)\",\"rgba(0,0,0,255)\",\"rgba(0,0,0,255)\",\"rgba(0,0,0,255)\",\"rgba(0,0,0,255)\",\"rgba(0,0,0,255)\",\"rgba(0,0,0,255)\",\"rgba(0,0,0,255)\",\"rgba(0,0,0,255)\",\"rgba(0,0,0,255)\",\"rgba(0,0,0,255)\",\"rgba(0,0,0,255)\",\"rgba(0,0,0,255)\",\"rgba(0,0,0,255)\",\"rgba(0,0,0,255)\",\"rgba(0,0,0,255)\",\"rgba(0,0,0,255)\",\"rgba(0,0,0,255)\",\"rgba(0,0,0,255)\",\"rgba(0,0,0,255)\",\"rgba(0,0,0,255)\",\"rgba(0,0,0,255)\",\"rgba(0,0,0,255)\",\"rgba(0,0,0,255)\",\"rgba(0,0,0,255)\"]],[\"line_widths\",[1,1,1,1,1,1,1,1,1,1,1,1,1,1,1,1,1,1,1,1,1,1,1,1,1,1,1,1]],[\"name\",[\"0\",\"1\",\"10\",\"11\",\"12\",\"13\",\"14\",\"15\",\"16\",\"17\",\"18\",\"19\",\"2\",\"20\",\"21\",\"22\",\"23\",\"24\",\"25\",\"26\",\"27\",\"3\",\"4\",\"5\",\"6\",\"7\",\"8\",\"9\"]],[\"level\",[\"137.0\",\"137.0\",\"137.0\",\"137.0\",\"137.0\",\"137.0\",\"137.0\",\"137.0\",\"137.0\",\"137.0\",\"137.0\",\"137.0\",\"137.0\",\"137.0\",\"137.0\",\"137.0\",\"137.0\",\"137.0\",\"137.0\",\"137.0\",\"137.0\",\"137.0\",\"137.0\",\"137.0\",\"137.0\",\"137.0\",\"137.0\",\"137.0\"]],[\"size\",[27730,2147,9,9,9,9,9,8,8,8,8,7,829,7,7,7,6,6,6,6,5,38,32,14,12,11,10,10]]]}}},\"view\":{\"type\":\"object\",\"name\":\"CDSView\",\"id\":\"p1289\",\"attributes\":{\"filter\":{\"type\":\"object\",\"name\":\"AllIndices\",\"id\":\"p1290\"}}},\"glyph\":{\"type\":\"object\",\"name\":\"Circle\",\"id\":\"p1285\",\"attributes\":{\"x\":{\"type\":\"field\",\"field\":\"x\"},\"y\":{\"type\":\"field\",\"field\":\"y\"},\"radius\":{\"type\":\"field\",\"field\":\"r\"},\"line_color\":{\"type\":\"field\",\"field\":\"line_colors\"},\"line_width\":{\"type\":\"field\",\"field\":\"line_widths\"},\"fill_color\":{\"type\":\"field\",\"field\":\"colors\"}}},\"nonselection_glyph\":{\"type\":\"object\",\"name\":\"Circle\",\"id\":\"p1286\",\"attributes\":{\"x\":{\"type\":\"field\",\"field\":\"x\"},\"y\":{\"type\":\"field\",\"field\":\"y\"},\"radius\":{\"type\":\"field\",\"field\":\"r\"},\"line_color\":{\"type\":\"field\",\"field\":\"line_colors\"},\"line_alpha\":{\"type\":\"value\",\"value\":0.1},\"line_width\":{\"type\":\"field\",\"field\":\"line_widths\"},\"fill_color\":{\"type\":\"field\",\"field\":\"colors\"},\"fill_alpha\":{\"type\":\"value\",\"value\":0.1},\"hatch_alpha\":{\"type\":\"value\",\"value\":0.1}}},\"muted_glyph\":{\"type\":\"object\",\"name\":\"Circle\",\"id\":\"p1287\",\"attributes\":{\"x\":{\"type\":\"field\",\"field\":\"x\"},\"y\":{\"type\":\"field\",\"field\":\"y\"},\"radius\":{\"type\":\"field\",\"field\":\"r\"},\"line_color\":{\"type\":\"field\",\"field\":\"line_colors\"},\"line_alpha\":{\"type\":\"value\",\"value\":0.2},\"line_width\":{\"type\":\"field\",\"field\":\"line_widths\"},\"fill_color\":{\"type\":\"field\",\"field\":\"colors\"},\"fill_alpha\":{\"type\":\"value\",\"value\":0.2},\"hatch_alpha\":{\"type\":\"value\",\"value\":0.2}}}}},{\"type\":\"object\",\"name\":\"GlyphRenderer\",\"id\":\"p1300\",\"attributes\":{\"data_source\":{\"type\":\"object\",\"name\":\"ColumnDataSource\",\"id\":\"p1291\",\"attributes\":{\"selected\":{\"type\":\"object\",\"name\":\"Selection\",\"id\":\"p1292\",\"attributes\":{\"indices\":[],\"line_indices\":[]}},\"selection_policy\":{\"type\":\"object\",\"name\":\"UnionRenderers\",\"id\":\"p1293\"},\"data\":{\"type\":\"map\",\"entries\":[[\"x\",[-22.066462627497827,101.8711613501633,46.4910458411301,15.74382484808811,-111.75969039544216,-117.27679549798123,87.3731373633469,115.1893986548508,117.37359512701877,26.559813388737524,116.13467300787815,-39.4870921288406,-25.93527900323025,-115.63124953850857,33.88273895636448,97.14892471686252,72.52014053717502,-57.16531859978787,22.000553974064673,-115.64387618645779,-1.1941319619094486,-59.169504925898565,-63.17744855611707,6.355864401434744,-44.44942391338459,-81.15663445415608,-54.116152886773264,52.09108435687908,2.600195016239965,-30.72824395122639,-67.13981163921467,-83.75659478130451,5.377131577109182,37.32398688373455,9.788478727911794,-88.65538323345295,23.620703573798025,-76.79236138286701,-85.1530257505428,59.541703100775564,-82.72243035259358,-10.914390687371409,-55.71015084209553,12.25055300769695,54.27878272113689,-49.37275612774006,6.769449110602224,-15.594752435113108,-81.40809166851155,-3.4784537595759986,-62.360179070855295,31.28128325519451,-18.253070001031077,-83.11849511089436,-51.77241814556233,-79.92434227886311,-59.751406793023264,-62.58833611431233,-67.1907225889217,40.69085013446697,14.295822020148123,-75.68912041607014,-67.24792778911701,-35.10082924785725,-4.612193231011545,-57.950713281060374,-62.04008019390217,-82.41634667339436,-0.23681700649372317,-22.548531655694163,-1.4176653665553687,-19.967341546441233,-57.45271218242756,43.08281027850994,-59.737731103326,-64.28301537456623,-77.60113060894123,-64.84582055034748,-59.94452584209553,28.737885351752126,-83.71945488872639,1.294687147711599,-17.426583413506663,-82.77292931499592,-48.62568962993733,16.80114638385662,-46.611888055230295,43.51299368915447,-80.44131005230061]],[\"y\",[-131.41402615614874,67.13858614853878,-99.42650784560185,-134.3578432948206,43.5356122105505,4.572080239572713,89.79435549668331,-12.085908785543253,7.559525117197225,126.11559115342159,24.973924741068075,118.82573519639034,153.09949313096064,27.687719449320028,-104.62105740614872,-58.30099286147099,-84.08751858778935,111.31944857529659,155.9603940098669,-12.091573610982707,140.57864962510126,-142.64375288181083,-144.2813423364617,14.968406706417802,-66.75117871228336,-36.45410916272282,-55.76347729626774,-69.54207226697086,-76.04118725720524,-71.39877697888492,-39.797447175418135,9.976948528851274,-80.08564373913883,-73.7749900526154,-74.93326184216617,15.97582724627376,-79.31592175427555,-20.124441117678877,5.459112434948686,-61.01672741833805,-1.7467603391754594,-77.7835120863068,-50.366409272586104,-79.8628577894318,-61.23427197400211,-58.875820130740394,-75.66482922497867,-72.54365918103336,-14.333154649173018,-78.25210186902164,-44.26831051770329,-71.50597760144352,-71.72378918591617,24.865652113522295,-61.267375916873206,-21.735197038089034,-46.764854401980635,-48.41504284802556,-36.872425050173995,-68.2336845106232,-74.69984814587711,-23.103845567141768,-43.75706479016423,-65.70866772595524,-74.60369488659977,-51.75488278332829,-51.33787152234196,-6.061341256533858,-78.41836926404117,-72.10620495740055,-75.23884961072086,-75.88452526990055,-48.510528535281416,-69.94295117322086,-49.827442140017745,-41.32507702771306,-17.501909226809737,-46.48254391614079,-54.04590985242009,-72.4518470472443,22.077327757443193,-80.96443554822086,-74.59337231579899,1.5016751581084762,-56.278224915896644,-74.44668957654117,-58.087375611697425,-67.02497479382633,-9.349721879397627]],[\"r\",[25.94045295272489,1.692568750643269,1.5957691216057308,1.692568750643269,1.4927053303604616,1.4927053303604616,1.4927053303604616,1.2615662610100802,1.5957691216057308,1.381976597885342,1.2615662610100802,1.381976597885342,1.4927053303604616,1.5957691216057308,1.8712051592547776,2.111004122822376,1.7841241161527712,1.2615662610100802,1.5957691216057308,1.7841241161527712,16.11647812414279,2.4592453796829674,1.8712051592547776,88.76264024250962,7.463526651802308,12.741194683142286,4.296739856991561,7.334464586120832,2.326213245840639,5.232078956954491,1.692568750643269,1.4927053303604616,2.5854414729132054,5.232078956954491,1.2615662610100802,6.257165172872317,7.091753098990329,1.4927053303604616,3.2410224072142872,3.989422804014327,1.8712051592547776,5.585191925620057,1.381976597885342,4.296739856991561,1.2615662610100802,1.381976597885342,1.8712051592547776,1.4927053303604616,3.6996385101659595,1.8712051592547776,1.9544100476116797,1.2615662610100802,1.381976597885342,1.2615662610100802,1.692568750643269,2.0342144725641096,1.692568750643269,1.5957691216057308,1.2615662610100802,1.2615662610100802,1.2615662610100802,1.692568750643269,2.256758334191025,1.9544100476116797,1.4927053303604616,1.2615662610100802,1.381976597885342,2.4592453796829674,1.381976597885342,2.985410660720923,1.7841241161527712,1.5957691216057308,1.2615662610100802,1.692568750643269,1.381976597885342,1.5957691216057308,1.2615662610100802,1.381976597885342,1.7841241161527712,1.4927053303604616,1.5957691216057308,1.5957691216057308,1.2615662610100802,1.381976597885342,1.2615662610100802,1.2615662610100802,1.4927053303604616,1.2615662610100802,1.381976597885342]],[\"colors\",[\"rgba(192,222,143,255)\",\"rgba(162,211,202,255)\",\"rgba(255,255,255,255)\",\"rgba(217,217,217,255)\",\"rgba(255,255,255,255)\",\"rgba(255,255,255,255)\",\"rgba(175,217,210,255)\",\"rgba(252,219,235,255)\",\"rgba(255,255,255,255)\",\"rgba(255,255,255,255)\",\"rgba(198,195,218,255)\",\"rgba(217,217,217,255)\",\"rgba(188,146,189,255)\",\"rgba(221,210,209,255)\",\"rgba(191,222,140,255)\",\"rgba(255,255,255,255)\",\"rgba(255,255,255,255)\",\"rgba(223,206,204,255)\",\"rgba(254,250,252,255)\",\"rgba(217,217,217,255)\",\"rgba(191,222,140,255)\",\"rgba(195,164,176,255)\",\"rgba(188,146,188,255)\",\"rgba(208,212,179,255)\",\"rgba(192,222,140,255)\",\"rgba(193,222,142,255)\",\"rgba(190,191,159,255)\",\"rgba(188,146,189,255)\",\"rgba(188,146,189,255)\",\"rgba(217,217,217,255)\",\"rgba(188,146,189,255)\",\"rgba(191,221,140,255)\",\"rgba(188,146,189,255)\",\"rgba(215,216,201,255)\",\"rgba(201,168,202,255)\",\"rgba(188,146,188,255)\",\"rgba(214,207,212,255)\",\"rgba(188,146,189,255)\",\"rgba(188,146,189,255)\",\"rgba(191,222,140,255)\",\"rgba(191,215,144,255)\",\"rgba(192,221,141,255)\",\"rgba(199,155,181,255)\",\"rgba(218,215,215,255)\",\"rgba(253,201,144,255)\",\"rgba(191,222,140,255)\",\"rgba(191,222,140,255)\",\"rgba(188,146,189,255)\",\"rgba(191,222,140,255)\",\"rgba(188,146,188,255)\",\"rgba(251,164,155,255)\",\"rgba(188,146,189,255)\",\"rgba(191,222,140,255)\",\"rgba(217,217,217,255)\",\"rgba(188,146,189,255)\",\"rgba(188,146,189,255)\",\"rgba(188,146,189,255)\",\"rgba(188,146,189,255)\",\"rgba(217,217,217,255)\",\"rgba(217,217,217,255)\",\"rgba(191,222,140,255)\",\"rgba(217,217,217,255)\",\"rgba(191,222,140,255)\",\"rgba(250,216,178,255)\",\"rgba(188,146,189,255)\",\"rgba(152,187,211,255)\",\"rgba(251,164,155,255)\",\"rgba(217,217,217,255)\",\"rgba(217,217,217,255)\",\"rgba(188,146,189,255)\",\"rgba(188,146,189,255)\",\"rgba(188,146,189,255)\",\"rgba(217,217,217,255)\",\"rgba(209,164,174,255)\",\"rgba(188,146,189,255)\",\"rgba(217,217,217,255)\",\"rgba(253,201,144,255)\",\"rgba(253,201,144,255)\",\"rgba(220,220,220,255)\",\"rgba(217,217,217,255)\",\"rgba(191,222,140,255)\",\"rgba(251,164,155,255)\",\"rgba(188,146,189,255)\",\"rgba(188,146,189,255)\",\"rgba(188,146,189,255)\",\"rgba(217,217,217,255)\",\"rgba(217,217,217,255)\",\"rgba(191,222,140,255)\",\"rgba(236,213,214,255)\"]],[\"line_colors\",[\"rgba(0,0,0,255)\",\"rgba(0,0,0,255)\",\"rgba(0,0,0,255)\",\"rgba(0,0,0,255)\",\"rgba(0,0,0,255)\",\"rgba(0,0,0,255)\",\"rgba(0,0,0,255)\",\"rgba(0,0,0,255)\",\"rgba(0,0,0,255)\",\"rgba(0,0,0,255)\",\"rgba(0,0,0,255)\",\"rgba(0,0,0,255)\",\"rgba(0,0,0,255)\",\"rgba(0,0,0,255)\",\"rgba(0,0,0,255)\",\"rgba(0,0,0,255)\",\"rgba(0,0,0,255)\",\"rgba(0,0,0,255)\",\"rgba(0,0,0,255)\",\"rgba(0,0,0,255)\",\"rgba(0,0,0,255)\",\"rgba(0,0,0,255)\",\"rgba(0,0,0,255)\",\"rgba(0,0,0,255)\",\"rgba(0,0,0,255)\",\"rgba(0,0,0,255)\",\"rgba(0,0,0,255)\",\"rgba(0,0,0,255)\",\"rgba(0,0,0,255)\",\"rgba(0,0,0,255)\",\"rgba(0,0,0,255)\",\"rgba(0,0,0,255)\",\"rgba(0,0,0,255)\",\"rgba(0,0,0,255)\",\"rgba(0,0,0,255)\",\"rgba(0,0,0,255)\",\"rgba(0,0,0,255)\",\"rgba(0,0,0,255)\",\"rgba(0,0,0,255)\",\"rgba(0,0,0,255)\",\"rgba(0,0,0,255)\",\"rgba(0,0,0,255)\",\"rgba(0,0,0,255)\",\"rgba(0,0,0,255)\",\"rgba(0,0,0,255)\",\"rgba(0,0,0,255)\",\"rgba(0,0,0,255)\",\"rgba(0,0,0,255)\",\"rgba(0,0,0,255)\",\"rgba(0,0,0,255)\",\"rgba(0,0,0,255)\",\"rgba(0,0,0,255)\",\"rgba(0,0,0,255)\",\"rgba(0,0,0,255)\",\"rgba(0,0,0,255)\",\"rgba(0,0,0,255)\",\"rgba(0,0,0,255)\",\"rgba(0,0,0,255)\",\"rgba(0,0,0,255)\",\"rgba(0,0,0,255)\",\"rgba(0,0,0,255)\",\"rgba(0,0,0,255)\",\"rgba(0,0,0,255)\",\"rgba(0,0,0,255)\",\"rgba(0,0,0,255)\",\"rgba(0,0,0,255)\",\"rgba(0,0,0,255)\",\"rgba(0,0,0,255)\",\"rgba(0,0,0,255)\",\"rgba(0,0,0,255)\",\"rgba(0,0,0,255)\",\"rgba(0,0,0,255)\",\"rgba(0,0,0,255)\",\"rgba(0,0,0,255)\",\"rgba(0,0,0,255)\",\"rgba(0,0,0,255)\",\"rgba(0,0,0,255)\",\"rgba(0,0,0,255)\",\"rgba(0,0,0,255)\",\"rgba(0,0,0,255)\",\"rgba(0,0,0,255)\",\"rgba(0,0,0,255)\",\"rgba(0,0,0,255)\",\"rgba(0,0,0,255)\",\"rgba(0,0,0,255)\",\"rgba(0,0,0,255)\",\"rgba(0,0,0,255)\",\"rgba(0,0,0,255)\",\"rgba(0,0,0,255)\"]],[\"line_widths\",[1,1,1,1,1,1,1,1,1,1,1,1,1,1,1,1,1,1,1,1,1,1,1,1,1,1,1,1,1,1,1,1,1,1,1,1,1,1,1,1,1,1,1,1,1,1,1,1,1,1,1,1,1,1,1,1,1,1,1,1,1,1,1,1,1,1,1,1,1,1,1,1,1,1,1,1,1,1,1,1,1,1,1,1,1,1,1,1,1]],[\"name\",[\"1\",\"39\",\"45\",\"41\",\"58\",\"53\",\"54\",\"78\",\"47\",\"61\",\"77\",\"62\",\"59\",\"42\",\"27\",\"22\",\"31\",\"72\",\"43\",\"34\",\"2\",\"18\",\"30\",\"0\",\"4\",\"3\",\"12\",\"5\",\"20\",\"9\",\"40\",\"60\",\"17\",\"10\",\"75\",\"7\",\"6\",\"55\",\"15\",\"13\",\"26\",\"8\",\"71\",\"11\",\"83\",\"68\",\"29\",\"56\",\"14\",\"28\",\"25\",\"76\",\"63\",\"88\",\"35\",\"23\",\"38\",\"48\",\"86\",\"87\",\"80\",\"36\",\"21\",\"24\",\"52\",\"81\",\"66\",\"19\",\"67\",\"16\",\"32\",\"46\",\"85\",\"37\",\"65\",\"50\",\"84\",\"70\",\"33\",\"57\",\"44\",\"49\",\"73\",\"64\",\"79\",\"74\",\"51\",\"82\",\"69\"]],[\"level\",[\"196.0\",\"196.0\",\"196.0\",\"196.0\",\"196.0\",\"196.0\",\"196.0\",\"196.0\",\"196.0\",\"196.0\",\"196.0\",\"196.0\",\"196.0\",\"196.0\",\"196.0\",\"196.0\",\"196.0\",\"196.0\",\"196.0\",\"196.0\",\"196.0\",\"196.0\",\"196.0\",\"196.0\",\"196.0\",\"196.0\",\"196.0\",\"196.0\",\"196.0\",\"196.0\",\"196.0\",\"196.0\",\"196.0\",\"196.0\",\"196.0\",\"196.0\",\"196.0\",\"196.0\",\"196.0\",\"196.0\",\"196.0\",\"196.0\",\"196.0\",\"196.0\",\"196.0\",\"196.0\",\"196.0\",\"196.0\",\"196.0\",\"196.0\",\"196.0\",\"196.0\",\"196.0\",\"196.0\",\"196.0\",\"196.0\",\"196.0\",\"196.0\",\"196.0\",\"196.0\",\"196.0\",\"196.0\",\"196.0\",\"196.0\",\"196.0\",\"196.0\",\"196.0\",\"196.0\",\"196.0\",\"196.0\",\"196.0\",\"196.0\",\"196.0\",\"196.0\",\"196.0\",\"196.0\",\"196.0\",\"196.0\",\"196.0\",\"196.0\",\"196.0\",\"196.0\",\"196.0\",\"196.0\",\"196.0\",\"196.0\",\"196.0\",\"196.0\",\"196.0\"]],[\"size\",[2114,9,8,9,7,7,7,5,8,6,5,6,7,8,11,14,10,5,8,10,816,19,11,24752,175,510,58,169,17,86,9,7,21,86,5,123,158,7,33,50,11,98,6,58,5,6,11,7,43,11,12,5,6,5,9,13,9,8,5,5,5,9,16,12,7,5,6,19,6,28,10,8,5,9,6,8,5,6,10,7,8,8,5,6,5,5,7,5,6]]]}}},\"view\":{\"type\":\"object\",\"name\":\"CDSView\",\"id\":\"p1301\",\"attributes\":{\"filter\":{\"type\":\"object\",\"name\":\"AllIndices\",\"id\":\"p1302\"}}},\"glyph\":{\"type\":\"object\",\"name\":\"Circle\",\"id\":\"p1297\",\"attributes\":{\"x\":{\"type\":\"field\",\"field\":\"x\"},\"y\":{\"type\":\"field\",\"field\":\"y\"},\"radius\":{\"type\":\"field\",\"field\":\"r\"},\"line_color\":{\"type\":\"field\",\"field\":\"line_colors\"},\"line_width\":{\"type\":\"field\",\"field\":\"line_widths\"},\"fill_color\":{\"type\":\"field\",\"field\":\"colors\"}}},\"nonselection_glyph\":{\"type\":\"object\",\"name\":\"Circle\",\"id\":\"p1298\",\"attributes\":{\"x\":{\"type\":\"field\",\"field\":\"x\"},\"y\":{\"type\":\"field\",\"field\":\"y\"},\"radius\":{\"type\":\"field\",\"field\":\"r\"},\"line_color\":{\"type\":\"field\",\"field\":\"line_colors\"},\"line_alpha\":{\"type\":\"value\",\"value\":0.1},\"line_width\":{\"type\":\"field\",\"field\":\"line_widths\"},\"fill_color\":{\"type\":\"field\",\"field\":\"colors\"},\"fill_alpha\":{\"type\":\"value\",\"value\":0.1},\"hatch_alpha\":{\"type\":\"value\",\"value\":0.1}}},\"muted_glyph\":{\"type\":\"object\",\"name\":\"Circle\",\"id\":\"p1299\",\"attributes\":{\"x\":{\"type\":\"field\",\"field\":\"x\"},\"y\":{\"type\":\"field\",\"field\":\"y\"},\"radius\":{\"type\":\"field\",\"field\":\"r\"},\"line_color\":{\"type\":\"field\",\"field\":\"line_colors\"},\"line_alpha\":{\"type\":\"value\",\"value\":0.2},\"line_width\":{\"type\":\"field\",\"field\":\"line_widths\"},\"fill_color\":{\"type\":\"field\",\"field\":\"colors\"},\"fill_alpha\":{\"type\":\"value\",\"value\":0.2},\"hatch_alpha\":{\"type\":\"value\",\"value\":0.2}}}}},{\"type\":\"object\",\"name\":\"GlyphRenderer\",\"id\":\"p1312\",\"attributes\":{\"data_source\":{\"type\":\"object\",\"name\":\"ColumnDataSource\",\"id\":\"p1303\",\"attributes\":{\"selected\":{\"type\":\"object\",\"name\":\"Selection\",\"id\":\"p1304\",\"attributes\":{\"indices\":[],\"line_indices\":[]}},\"selection_policy\":{\"type\":\"object\",\"name\":\"UnionRenderers\",\"id\":\"p1305\"},\"data\":{\"type\":\"map\",\"entries\":[[\"x\",[-81.40809166851155,-54.116152886773264,-82.41634667339436,37.32398688373455,-22.066462627497827,-59.169504925898565,-85.1530257505428,-35.10082924785725,-82.72243035259358,97.14892471686252,-21.291046925900847,-23.897571750996978,-67.24792778911701,33.88273895636448,-62.360179070855295,13.40534523934755,9.286199130720231,-79.92434227886311,-1.4176653665553687,-75.68912041607014,-3.4784537595759986,-63.17744855611707,101.8711613501633,6.769449110602224,22.000553974064673,72.52014053717502,-115.64387618645779,46.4910458411301,-51.77241814556233,-59.751406793023264,-19.967341546441233,-67.13981163921467,15.74382484808811,-115.63124953850857,117.37359512701877,1.294687147711599,-64.28301537456623,-49.37275612774006,14.295822020148123,-83.75659478130451,-4.612193231011545,-111.75969039544216,28.737885351752126,43.08281027850994,87.3731373633469,-0.23681700649372317,-57.45271218242756,1.8213607656810513,-15.148425997510172,-16.23639482380412,-14.293219507947184,-76.79236138286701,-25.93527900323025,54.07156051047451,45.525430061894724,-39.4870921288406,57.77166051306329,60.398857659479,59.735865539689875,61.71271843351922,-30.72824395122639,-83.11849511089436,-67.1907225889217,-14.620395848002659,-9.675715157237278,-85.72918778737963,-94.11998456796587,-43.20582666497407,-51.22519713144479,-49.11917572717843,-50.750102336217736,-78.78208909268498,-85.28764567608953,-91.39458356137395,-88.79549393887639,-74.62487540478826,-78.394620635463,26.067013455962773,20.484787417983647,25.953927232360478,29.07985778007471,20.991812659835453,18.142353965377445,28.06164684234102,34.976363562922074,-10.718147850652144,-30.372282601018355,42.56267299590547,80.07308711944063,28.690266990046098,-53.22290668549101,-14.06502780975859,35.15960254607637,61.3805631631418,50.95799007354219,9.070080005507066,73.08775844512422,-28.522673226018355,-26.906942940373824,-6.038611984868453,-36.74974689545195,65.69775142608125,-22.289911842961715,87.46935024199922,42.491982840876176,4.879863881449296,84.85260524688204,63.44852199492891,-53.41416034760039,73.77812709746797,-37.19325504364531,73.41775264678438,46.695989035944535,38.756610297541215,10.914855145792558,-73.72005710663359,-53.70468769135039,-36.07091388763945,-47.62039432587187,61.515229606012895,18.325827025751664,-72.77727756561796,-68.1276269918875,39.42856922088106,87.10541286406954,-40.90889988007109,-53.43892154755156,-39.959013558049605,55.26407375274141,71.51532115874727,88.58928432403047,64.60804500518282,-64.164614296575,81.48992671905,-58.555788612981246,-72.13382206024687,-60.04951725067656,-67.25540409149687,-16.60372409882109,76.87639369903047,4.8769024842782756,61.078549765925004,28.38950862822969,-27.575876808782027,-9.07729587616484,85.36619319854219,25.02177181182344,49.936372184137895,-72.131899452825,4.397575044016435,20.63604583678682,13.801082038263871,-67.17145786346953,78.60667934356172,-63.004030800481246,67.04468669829805,-46.18460331024687,-52.005766487737105,79.97044887481172,55.95778407988985,30.3286890023752,-13.101706123967574,-3.0376220709280233,61.77290096221407,-3.257524109502242,-76.59971866669218,-64.40016422333281,53.830476188044145,84.66386928496797,-57.12668094696562,-51.259943581242965,19.22472228942354,-24.044081307073043,83.13176479278047,59.300691031794145,-58.66116581024687,87.51231899199922,8.007253595571115,-72.65243015350859,4.746453666071488,-61.68599948944609,68.61600246367891,-49.24534473480742,-59.36726627411406,74.79298152862032,5.2950846189065714,47.6754964822336,-72.91002140106718,-3.720724678655074,77.30868282256563,77.16788997588594,-46.3987222677664,-7.572396851201461,52.27480068145235,85.18324031768282,22.641765975336625,76.32378139434297,-65.07693729462187,83.07006587920625,46.56985988555391,52.03326549468477,58.135983847956254,68.1818326943918,57.771794700007035,-66.97587833466093,30.774194144587113,-48.04734668793242,64.39963664946993,90.40375270781954,71.80589427886446,-52.37126026215117,78.1122640603586,-7.435106850285933,63.874421500544145,77.03094997344454,83.04086055694063,67.95093669829805,-13.233421898503707,64.05057659087618,-70.98378238739531,88.34481563506563,-35.76784000458281,80.46674098906954,79.22528591094454,81.86551418242891,-37.20756778778593,-65.4031167990164,62.39243068633516,70.17986431060274,-3.7524448400930623,83.50181331572969,2.4662159913583537,-36.93417987885039,-46.172304726262496,64.5508626931711,54.08047237334688,-15.053104973454879,81.7004980081125,-63.00193271698515,-53.17581424774687,83.92829647002657,-74.71604404511015,-20.67360935272734,-24.109472847600387,-21.779020882268355,-50.58323154511015,72.4605306619211,-51.78852329315703,-61.440241432805465,46.15941753325899,73.06569423613985,87.9045003884836,49.82214488921602,69.5689290994211,63.66076030669649,79.70237483916719,91.21350612578829,88.6525472634836,-61.218073464055465,77.01931514678438,72.41732540069063,-6.855173683782027,-73.90404758514921,17.164758109430863,-26.58880481781523,80.0686849587961,-53.21201953949492,79.80545558867891,-71.69545230927031,-32.35571918549101,-26.474516487737105,-48.95228061737578,-77.92700443329375,61.58985652862032,73.83753719268282,-51.41071186127226,-18.58661518158476,-62.003962135930465,-31.3174348837332,1.3308176034494181,-13.047817803044722,-70.11280307831328,-71.14672336639921,70.58189144072969,-44.505861855168746,74.00790920196016,-57.02260074677031,31.45248928008516,84.73256435332735,7.664042674879624,-74.18584690155546,26.931502723078324,86.84205379424532,90.46828212676485,0.8737091058297892,-2.966229057927535,17.430603408197953,-9.51473484100859,-61.38674411835234,8.878603124003007,82.2749837869211,71.11549510894258,-41.96383915009062,75.57925167022188,37.68165531096895,-6.251397705693648,-58.38155613007109,89.83289852080782,64.17272701201875,32.86273899016817,60.55437602935274,84.18642177520235,-30.32881412567656,57.016789817194535,-32.12865314545195,84.3797201150461,-67.33641300262968,-43.724062538762496,75.12333431182344,-33.46398029388945,-45.38361225189726,-21.688595390935347,66.00598659453829,87.20909633574922,-48.295370674748824,41.201230429987504,-67.58360538544218,71.59661998687227,56.998017691950395,-64.70539341034453,31.534591101984574,47.30466976104219,-52.12160739960234,-58.76803073944609,-69.35151920380156,-67.87623081268828,-59.27749118866484,71.38339748321016,-68.47844181122343,-69.48494205536406,83.16843166289766,-53.48155460419218,69.4135450357004,87.26090755401094,79.59043636260469,20.29357757506807,-55.46324787201445,-49.648771858830855,-72.40817508759062,-76.94628391327421,-72.62865696014921,-50.72354373993437,87.87881221709688,-68.78398380341093,-23.440382576604293,-26.35061130585234,-30.50998172821562,91.40736904082735,76.68719997344454,67.63830699859102,-68.75044498505156,23.045304679255082,-64.28576908173125,73.57813777862032,-48.30149326386015,-71.53048191132109,-69.36313114227812,-11.841457939763472,-65.2641016012625,4.569249057154252,-1.9696355825857381,1.7063001626535197,87.82884731231172,73.02570857940157,-64.32388553680937,-61.360712624211715,10.333361291269853,14.148709678034379,-37.61849460663359,-9.849341011662887,-6.415693855901168,77.66736354766329,-6.428120232243941,3.1044534677072306,84.92658748565157,-28.121752358098433,-74.02891025604765,44.38430538115938,-46.64636859955351,81.46892299590547,85.54532375274141,-48.72510395111601,-50.24586734833281,50.48350658355196,-64.21634159149687,-17.0336214071707,24.804889106134965,78.04075374541719,-66.01938877167265,-0.9664226538137655,-41.4147134787039,-3.3208004003957967,4.8217102521463175,85.51209011016329,-64.13279972137968,73.78172817168672,70.88301982818086,-65.40709934296171,12.01166167197664,69.7285856240793,-50.71841678680937,12.0790072911783,-50.97036228241484,80.49921932158907,67.84940471587618,-65.2868066793875,-55.25314579071562,-71.40939579071562,21.649050139765336,87.34446468291719,47.341008567194535,84.40998592315157,47.90610256133516,80.67770900664766,76.0930990212961,69.88425579009493,-37.36817035736601,60.63672771392305,-27.919294930119918,0.32589187560517985,-16.222088432927535,-32.39990863861601,-20.08166942657988,75.75555171905]],[\"y\",[-14.333154649173018,-55.76347729626774,-6.061341256533858,-73.7749900526154,-131.41402615614874,-142.64375288181083,5.459112434948686,-65.70866772595524,-1.7467603391754594,-58.30099286147099,-73.20824315780544,-70.91261139148617,-43.75706479016423,-104.62105740614872,-44.26831051770329,-79.9511760006013,-77.9649779329362,-21.735197038089034,-75.23884961072086,-23.103845567141768,-78.25210186902164,-144.2813423364617,67.13858614853878,-75.66482922497867,155.9603940098669,-84.08751858778935,-12.091573610982707,-99.42650784560185,-61.267375916873206,-46.764854401980635,-75.88452526990055,-39.797447175418135,-134.3578432948206,27.687719449320028,7.559525117197225,-80.96443554822086,-41.32507702771306,-58.875820130740394,-74.69984814587711,9.976948528851274,-74.60369488659977,43.5356122105505,-72.4518470472443,-69.94295117322086,89.79435549668331,-78.41836926404117,-48.510528535281416,140.57864962510126,133.47021807163316,141.81625176399308,137.98482883899766,-20.124441117678877,153.09949313096064,-69.54207226697086,-72.2111448949921,118.82573519639034,-60.112360876484985,-57.705300312920684,-63.75572107402908,-60.58423359362709,-71.39877697888492,24.865652113522295,-36.872425050173995,-74.19004216394154,-78.90965237817494,15.97582724627376,16.326528697575334,-67.64636347303073,-66.93143684649746,-61.096466193440364,-64.22090352559368,-31.83301888139775,-46.262333017902876,-35.562981718348766,-39.629764658527876,-43.581329447346235,-44.20676813753178,-82.27482527223844,-76.63786047426481,-77.06823509660978,-77.54414123026152,-81.97935670343657,-81.83311646906157,67.35760957728934,-72.56919782627514,-11.373007945904028,-67.1831504629939,48.0396087838323,-26.489054851421606,-75.86387556065014,-1.186664752849829,92.65574724208423,-19.729571514019263,37.892700977435815,6.31168491374563,79.6917274666936,18.573161430469263,29.267319507709253,83.30370409022876,61.726155109515894,59.75264818202566,-15.562510661968481,-68.08467786777905,31.000775165668237,80.10570604335376,-48.60177534092356,0.8746889306218506,-27.410033397564185,49.05918581019949,-21.021842174419653,1.8150766564519287,56.71458894740652,-55.94470899570873,89.57943040858814,-71.81986158359936,17.465752906909692,-9.854573421367895,-37.09636991489817,11.340677924266565,55.6790016366155,26.49436838161062,8.902560539355981,-16.793139629253638,-74.18089979160717,-26.80726163853098,-12.41764562595774,-26.31970518101145,82.65685350429126,15.680158205142725,-47.17895048130442,-4.738896541485083,-48.82613294590403,-18.61983411777903,51.07966310512136,-23.424132518657935,-11.787053279766333,29.158890552631128,-22.10172193516184,-39.05680006016184,36.38688547145437,100.36615068446704,-2.5462476538508056,-48.726466350445044,96.7321556283147,-69.0003883169978,25.99763280879568,-58.573699169048574,79.23778612147876,49.507962055316675,105.93841630946704,94.09156877528736,-67.84899061191967,53.430291004291284,30.50643236171316,-2.7646810339777588,78.83416063319754,-2.9721881674616455,-44.961215190777075,40.36917383205007,90.77642137538501,102.85364610683033,-63.301055126079824,95.43380052577564,-64.10698621738842,85.69097215663501,5.92812139522146,57.18995363246511,65.72717744838309,12.765896417012918,69.10646898280692,64.35996324550223,-63.972571544536855,100.02005846034595,-18.310490779766333,-38.34279172886301,-35.294398479351294,-15.752486400493872,-73.93069379795483,11.64598483573507,93.86803514491626,9.73758275043081,72.21157533656668,77.21479875575614,61.007622547260034,-4.178889446148169,86.6977089120061,25.750634975543726,36.75999147426199,-70.6155235098689,3.467615909686792,-12.140198879131567,4.46574289332937,99.61287767421314,53.17286378871511,-2.7452871130793213,-69.7516319083064,-33.109191112407935,50.00212556850027,-33.23939817417551,16.605586357227075,87.55960161220142,77.2361534310491,66.99574739467215,-67.5789787100642,44.267918415179956,-66.64759748447827,-22.8893462942927,59.67969591151785,8.829610176196802,0.7617901040227295,78.44323045741629,-36.362818889507544,-66.79424970615796,76.48522645961356,69.53371889125418,20.23404008876394,75.78662187587332,82.30452806483814,71.33100587855887,30.322218723407495,6.277002163043726,95.6209724618108,63.58192140590261,47.56885606776785,22.819653339496362,-55.03999250400951,63.01463014613699,9.777578420749414,7.51145298015188,102.5709999276311,16.565182991138208,-68.63316267002514,91.08776170741626,80.6763694955022,63.01112443934988,22.461950130573022,-73.51683729160717,5.175787754169214,70.83777315150809,73.1146057320745,-7.348151378521216,45.20148927699636,-52.17964094150951,93.78138811122486,96.78764421474048,-32.189799480327856,70.15212709437918,83.36457139979908,-9.322449855694067,95.79775316249439,-43.3084022330134,11.886437840572107,-73.36569135654858,-34.888407878765356,80.80358201991626,-1.8275930212824463,5.153177089801538,2.5176351739079834,66.69300539027762,-41.73446577061106,-26.337992839702856,-75.11636274326733,1.45839483272146,-73.54795759190014,69.44535524379324,10.13237959872793,-18.56783979404856,-33.09118955601145,3.841681308856714,93.83744127284595,-62.97591321934154,-29.35739057529856,41.33973772059988,83.75270158778736,-39.281256847271216,18.35131484996389,98.68817979823658,-28.049349956402075,-62.39661329258373,-74.34968488682202,101.4013679696233,-2.3693372534601806,-5.124875240215552,-6.715491466411841,72.53820116054129,47.00794298183035,-16.376143627056372,99.60069353114673,-12.765050105938208,-69.01441114414624,30.307429142108667,-72.0254356192439,-22.734076671489966,16.8190437031896,100.32815629970142,99.72291643153736,-78.41639631260327,-72.8594199942439,40.504475422015894,100.51791460048267,44.86900217067312,-40.27868955601145,88.34030229579517,7.715498275867212,-69.33504407871655,-64.33223646152905,-4.832179241070044,13.844497807136285,-57.74553602207592,97.0106971932561,81.11534959804126,9.156125612369287,-51.197905712017324,83.4528587533147,97.34349901210376,32.24392206203054,-0.6104451941340088,-49.76009672153881,-36.51758115757395,72.30453187953543,85.53254014979908,92.95451433192798,-62.38604658115795,15.380595274081934,-7.103419475445044,-70.37925642002514,20.024759597888696,73.30749971400809,87.9055946541936,-28.961318187603247,-73.32384412754467,85.49630815517017,-29.08161466587473,-12.814231090435278,-13.666512660869849,-4.283957652935278,73.27605134975028,-50.645510845073964,-7.3984672354548096,23.07548982631277,35.59297449122976,-41.9205962942927,-23.389151744732153,19.86811048518728,-39.16550367344309,-77.02383344639233,77.44825059901785,-42.97731702793528,26.38381273280691,23.607096500507105,-2.4150659369318603,-40.57539670933176,-1.0659639166681885,-10.358092479595435,-61.483557872661855,-59.802710704693105,-55.13482587803295,11.728375382533777,-38.64880674351145,-41.58913343418528,50.244744129291284,-77.02557294834546,-22.751307659038794,-30.209517650493872,1.0413282586247803,-8.573239498028052,1.8732536507756592,-70.11402051914624,-13.134473018535864,-72.26597517002514,-75.93221967686108,79.38949663173267,-10.107096843609106,66.55024415980887,-25.700167827495825,-14.69343679417063,105.26924974452564,-78.43722455967358,76.795391864887,103.63472826015064,104.14805681239673,-18.812201671489966,92.81486589442798,-77.57611005772046,38.938530750385034,-57.70696180332592,-4.505463771709692,-71.68555372227124,-48.65910261143137,13.575635440459955,3.986719913593042,-45.77291028965403,-15.862948589214575,92.58120805751392,39.363098926654565,100.95589525233814,-74.5434791373103,65.0348480416448,-9.583296947368872,103.88700944911548,-51.0231925772517,105.5092552376897,-75.31230848301342,6.458761997333276,52.87755281459402,72.93737489711356,75.69311220180106,-6.578770809063208,102.63125688563892,-44.725905589947,-35.21665876377512,-75.28394239414624,-37.83450239170481,24.915730304828394,-54.551314525493886,67.43189317714285,-28.138018779644263,0.046418018451440446,-74.50110548008374,9.073872633090723,92.78463823329517,42.78743822108816,90.09417802821704,-35.468207530864966,44.28792650233816,-29.036303691753638,86.64613420497486,73.34132081996512,-65.54621046055249,-77.5607902335017,-69.22600477207592,-58.089095287212636,-61.86275403965404,65.9254844857366]],[\"r\",[3.477898169151024,4.259537945889915,2.4592453796829674,5.201570947860099,25.613212907107002,1.7841241161527712,3.1915382432114616,1.5957691216057308,1.4927053303604616,2.111004122822376,1.7841241161527712,1.692568750643269,2.111004122822376,1.4927053303604616,1.381976597885342,3.1915382432114616,1.381976597885342,1.692568750643269,1.7841241161527712,1.5957691216057308,1.7841241161527712,1.7841241161527712,1.692568750643269,1.8712051592547776,1.5957691216057308,1.7841241161527712,1.7841241161527712,1.2615662610100802,1.692568750643269,1.5957691216057308,1.5957691216057308,1.692568750643269,1.4927053303604616,1.4927053303604616,1.5957691216057308,1.5957691216057308,1.5957691216057308,1.381976597885342,1.2615662610100802,1.4927053303604616,1.4927053303604616,1.381976597885342,1.381976597885342,1.4927053303604616,1.4927053303604616,1.381976597885342,1.2615662610100802,15.065024024177417,3.3377905890622728,3.0382538898732494,1.2615662610100802,1.4927053303604616,1.381976597885342,6.770275002573076,2.1850968611841584,1.381976597885342,2.1850968611841584,1.381976597885342,1.9544100476116797,1.7841241161527712,5.170882945826411,1.2615662610100802,1.2615662610100802,2.1850968611841584,4.652426491681278,5.4700209598571305,2.9316150714175193,6.793742230659745,1.2615662610100802,2.0342144725641096,1.4927053303604616,10.509687459947386,5.322553886092406,2.6462837142006137,2.1850968611841584,1.9544100476116797,1.8712051592547776,3.826519928662906,4.1073621666150775,1.381976597885342,1.7841241161527712,1.2615662610100802,1.5957691216057308,16.869174201729876,2.0342144725641096,22.581683676520505,1.692568750643269,7.2909362219603215,5.352372348458314,2.326213245840639,4.068428945128219,6.282549314314218,24.055921788244397,14.093451279891855,6.407961869245868,5.781222885281108,8.500373177909337,21.792621462004423,9.607802401865856,17.697935698969246,9.788323438736636,6.770275002573076,4.918490759365935,1.9544100476116797,2.393653682408596,17.787636910694122,1.9544100476116797,5.262410103554244,10.013371767186818,2.985410660720923,7.001408606295148,8.253382073025046,13.957279475043833,7.797255174810172,1.4927053303604616,4.54864184146723,4.61809077155419,13.540550005146152,4.406461512053774,3.6996385101659595,25.142860496789307,1.381976597885342,1.4927053303604616,2.7057581899030048,1.692568750643269,7.632215220473915,1.381976597885342,3.385137501286538,3.9088200952233594,1.7841241161527712,2.256758334191025,5.322553886092406,2.876813695875796,1.5957691216057308,4.51351666838205,1.4927053303604616,9.739422266375435,1.7841241161527712,5.725898905580716,1.4927053303604616,1.4927053303604616,7.046725639945928,5.725898905580716,3.3377905890622728,1.4927053303604616,3.477898169151024,4.686510657907603,5.108953969950291,1.5957691216057308,4.1073621666150775,10.881694613449236,3.431831258788849,1.692568750643269,4.652426491681278,2.8209479177387813,1.4927053303604616,3.1915382432114616,1.692568750643269,3.5682482323055424,1.5957691216057308,2.1850968611841584,5.440847306724618,2.9316150714175193,3.1915382432114616,6.432750982580687,3.477898169151024,2.985410660720923,8.95623198216277,1.8712051592547776,2.111004122822376,5.440847306724618,3.2410224072142872,1.4927053303604616,3.385137501286538,6.432750982580687,6.723094811029982,1.692568750643269,2.111004122822376,1.381976597885342,5.014626706796775,9.755749892701914,1.9544100476116797,1.4927053303604616,3.3377905890622728,1.5957691216057308,2.1850968611841584,4.222008245644752,5.201570947860099,4.1073621666150775,1.9544100476116797,5.201570947860099,2.5854414729132054,3.2410224072142872,3.6996385101659595,1.692568750643269,3.477898169151024,2.256758334191025,1.692568750643269,2.0342144725641096,4.787307364817192,3.477898169151024,3.3377905890622728,3.2897623212397704,2.111004122822376,4.370193722368317,5.232078956954491,5.046265044040321,1.2615662610100802,1.692568750643269,4.1841419359420025,1.8712051592547776,1.4927053303604616,1.2615662610100802,2.4592453796829674,2.5854414729132054,1.5957691216057308,1.692568750643269,4.1073621666150775,2.7057581899030048,1.2615662610100802,1.5957691216057308,1.5957691216057308,1.5957691216057308,2.5854414729132054,1.2615662610100802,4.442433223290478,2.9316150714175193,5.352372348458314,2.763953195770684,1.5957691216057308,2.111004122822376,2.393653682408596,3.0901936161855166,3.141274657157109,2.111004122822376,2.985410660720923,3.1915382432114616,2.763953195770684,1.8712051592547776,3.523362819972964,3.0901936161855166,3.431831258788849,8.018640596081465,1.2615662610100802,2.4592453796829674,1.7841241161527712,2.0342144725641096,3.0901936161855166,3.141274657157109,1.8712051592547776,2.393653682408596,1.4927053303604616,3.742410318509555,4.406461512053774,1.8712051592547776,3.8678889139475245,1.4927053303604616,2.1850968611841584,2.6462837142006137,1.8712051592547776,2.326213245840639,1.381976597885342,1.381976597885342,3.1915382432114616,4.259537945889915,2.4592453796829674,1.692568750643269,1.2615662610100802,1.8712051592547776,2.256758334191025,1.692568750643269,1.4927053303604616,1.5957691216057308,1.5957691216057308,1.692568750643269,3.5682482323055424,1.2615662610100802,1.2615662610100802,3.1915382432114616,2.1850968611841584,2.5231325220201604,1.2615662610100802,1.692568750643269,3.3377905890622728,5.170882945826411,1.4927053303604616,2.7057581899030048,1.2615662610100802,2.393653682408596,2.8209479177387813,1.381976597885342,1.381976597885342,2.393653682408596,1.7841241161527712,2.5231325220201604,1.381976597885342,1.692568750643269,2.111004122822376,1.692568750643269,2.5231325220201604,1.4927053303604616,1.2615662610100802,2.6462837142006137,2.6462837142006137,2.1850968611841584,1.4927053303604616,2.256758334191025,1.2615662610100802,3.6125759969217834,1.692568750643269,1.2615662610100802,1.7841241161527712,1.692568750643269,2.985410660720923,1.2615662610100802,1.381976597885342,2.0342144725641096,1.2615662610100802,1.381976597885342,3.1915382432114616,1.7841241161527712,1.381976597885342,1.381976597885342,1.7841241161527712,1.4927053303604616,1.4927053303604616,2.111004122822376,1.2615662610100802,1.4927053303604616,1.5957691216057308,1.4927053303604616,1.692568750643269,1.692568750643269,1.2615662610100802,1.8712051592547776,1.692568750643269,2.5854414729132054,1.692568750643269,1.4927053303604616,1.4927053303604616,2.1850968611841584,1.692568750643269,1.9544100476116797,2.6462837142006137,1.692568750643269,1.4927053303604616,1.381976597885342,1.2615662610100802,2.9316150714175193,2.393653682408596,1.2615662610100802,1.381976597885342,1.4927053303604616,1.4927053303604616,1.692568750643269,1.4927053303604616,2.256758334191025,1.381976597885342,1.2615662610100802,2.5231325220201604,1.8712051592547776,1.2615662610100802,1.2615662610100802,1.7841241161527712,1.381976597885342,1.7841241161527712,1.2615662610100802,1.4927053303604616,2.256758334191025,1.692568750643269,1.4927053303604616,1.5957691216057308,1.692568750643269,1.5957691216057308,1.692568750643269,1.9544100476116797,1.8712051592547776,1.5957691216057308,2.9316150714175193,1.381976597885342,1.4927053303604616,1.4927053303604616,1.381976597885342,1.4927053303604616,1.5957691216057308,1.2615662610100802,1.2615662610100802,1.9544100476116797,1.8712051592547776,1.2615662610100802,1.2615662610100802,1.692568750643269,2.326213245840639,1.7841241161527712,1.381976597885342,1.4927053303604616,1.7841241161527712,1.2615662610100802,1.381976597885342,1.4927053303604616,1.381976597885342,1.381976597885342,1.381976597885342,1.2615662610100802,1.381976597885342,1.381976597885342,1.2615662610100802,1.692568750643269,1.2615662610100802,1.2615662610100802,1.2615662610100802,2.1850968611841584,1.381976597885342,1.2615662610100802,1.2615662610100802,1.4927053303604616,1.2615662610100802,1.4927053303604616,1.381976597885342,1.381976597885342,1.381976597885342,1.4927053303604616,1.381976597885342,1.2615662610100802,1.9544100476116797,1.381976597885342,1.381976597885342,1.2615662610100802,1.2615662610100802,1.2615662610100802,1.2615662610100802,1.2615662610100802,1.692568750643269,1.2615662610100802]],[\"colors\",[\"rgba(191,222,140,255)\",\"rgba(190,191,159,255)\",\"rgba(217,217,217,255)\",\"rgba(215,216,202,255)\",\"rgba(192,222,142,255)\",\"rgba(188,146,189,255)\",\"rgba(188,146,189,255)\",\"rgba(248,210,167,255)\",\"rgba(191,221,140,255)\",\"rgba(255,255,255,255)\",\"rgba(188,146,189,255)\",\"rgba(188,146,189,255)\",\"rgba(191,221,140,255)\",\"rgba(191,221,140,255)\",\"rgba(251,164,155,255)\",\"rgba(217,217,217,255)\",\"rgba(217,217,217,255)\",\"rgba(188,146,189,255)\",\"rgba(188,146,189,255)\",\"rgba(217,217,217,255)\",\"rgba(188,146,189,255)\",\"rgba(188,146,189,255)\",\"rgba(162,211,202,255)\",\"rgba(191,222,140,255)\",\"rgba(254,250,252,255)\",\"rgba(255,255,255,255)\",\"rgba(217,217,217,255)\",\"rgba(255,255,255,255)\",\"rgba(188,146,189,255)\",\"rgba(188,146,189,255)\",\"rgba(188,146,189,255)\",\"rgba(188,146,189,255)\",\"rgba(217,217,217,255)\",\"rgba(217,217,217,255)\",\"rgba(255,255,255,255)\",\"rgba(251,164,155,255)\",\"rgba(217,217,217,255)\",\"rgba(191,222,140,255)\",\"rgba(191,222,140,255)\",\"rgba(191,221,140,255)\",\"rgba(188,146,189,255)\",\"rgba(255,255,255,255)\",\"rgba(217,217,217,255)\",\"rgba(216,170,169,255)\",\"rgba(175,217,210,255)\",\"rgba(217,217,217,255)\",\"rgba(217,217,217,255)\",\"rgba(191,222,140,255)\",\"rgba(191,222,140,255)\",\"rgba(191,222,140,255)\",\"rgba(191,222,140,255)\",\"rgba(188,146,189,255)\",\"rgba(188,146,189,255)\",\"rgba(188,147,189,255)\",\"rgba(188,146,188,255)\",\"rgba(217,217,217,255)\",\"rgba(191,222,140,255)\",\"rgba(191,222,140,255)\",\"rgba(191,222,140,255)\",\"rgba(191,222,140,255)\",\"rgba(217,217,217,255)\",\"rgba(217,217,217,255)\",\"rgba(217,217,217,255)\",\"rgba(191,222,140,255)\",\"rgba(191,222,140,255)\",\"rgba(188,146,189,255)\",\"rgba(188,146,189,255)\",\"rgba(192,222,140,255)\",\"rgba(191,222,140,255)\",\"rgba(191,222,140,255)\",\"rgba(191,221,140,255)\",\"rgba(192,222,140,255)\",\"rgba(192,222,141,255)\",\"rgba(191,222,140,255)\",\"rgba(191,222,140,255)\",\"rgba(191,222,140,255)\",\"rgba(226,240,202,255)\",\"rgba(216,216,216,255)\",\"rgba(207,186,201,255)\",\"rgba(217,217,217,255)\",\"rgba(217,217,217,255)\",\"rgba(224,224,224,255)\",\"rgba(217,217,217,255)\",\"rgba(192,221,140,255)\",\"rgba(212,206,212,255)\",\"rgba(210,205,187,255)\",\"rgba(217,217,217,255)\",\"rgba(191,200,154,255)\",\"rgba(191,222,140,255)\",\"rgba(188,146,189,255)\",\"rgba(188,146,189,255)\",\"rgba(188,146,189,255)\",\"rgba(192,222,140,255)\",\"rgba(192,222,140,255)\",\"rgba(217,217,217,255)\",\"rgba(192,222,141,255)\",\"rgba(191,222,140,255)\",\"rgba(191,222,140,255)\",\"rgba(192,222,140,255)\",\"rgba(192,222,140,255)\",\"rgba(215,217,211,255)\",\"rgba(211,202,211,255)\",\"rgba(222,213,146,255)\",\"rgba(191,222,140,255)\",\"rgba(217,217,217,255)\",\"rgba(192,222,140,255)\",\"rgba(191,222,140,255)\",\"rgba(191,222,140,255)\",\"rgba(192,222,141,255)\",\"rgba(217,217,217,255)\",\"rgba(217,217,217,255)\",\"rgba(192,221,141,255)\",\"rgba(217,217,217,255)\",\"rgba(188,146,189,255)\",\"rgba(217,217,217,255)\",\"rgba(217,217,217,255)\",\"rgba(191,222,140,255)\",\"rgba(217,216,217,255)\",\"rgba(250,226,239,255)\",\"rgba(191,222,140,255)\",\"rgba(251,219,235,255)\",\"rgba(252,219,235,255)\",\"rgba(217,217,217,255)\",\"rgba(221,217,219,255)\",\"rgba(255,255,255,255)\",\"rgba(191,222,140,255)\",\"rgba(217,217,217,255)\",\"rgba(217,217,217,255)\",\"rgba(252,219,236,255)\",\"rgba(217,217,217,255)\",\"rgba(217,217,217,255)\",\"rgba(221,211,210,255)\",\"rgba(188,146,189,255)\",\"rgba(217,217,217,255)\",\"rgba(188,146,189,255)\",\"rgba(217,217,217,255)\",\"rgba(191,222,140,255)\",\"rgba(217,217,217,255)\",\"rgba(197,220,157,255)\",\"rgba(191,221,140,255)\",\"rgba(188,146,189,255)\",\"rgba(188,146,189,255)\",\"rgba(199,156,180,255)\",\"rgba(238,191,186,255)\",\"rgba(188,146,189,255)\",\"rgba(217,213,214,255)\",\"rgba(252,219,235,255)\",\"rgba(197,222,144,255)\",\"rgba(191,222,140,255)\",\"rgba(252,219,236,255)\",\"rgba(252,219,235,255)\",\"rgba(193,222,143,255)\",\"rgba(198,225,152,255)\",\"rgba(191,222,140,255)\",\"rgba(221,221,221,255)\",\"rgba(188,146,189,255)\",\"rgba(190,149,191,255)\",\"rgba(188,146,189,255)\",\"rgba(188,146,189,255)\",\"rgba(188,146,189,255)\",\"rgba(192,153,193,255)\",\"rgba(192,222,141,255)\",\"rgba(217,217,217,255)\",\"rgba(217,217,217,255)\",\"rgba(217,217,217,255)\",\"rgba(220,212,210,255)\",\"rgba(217,217,217,255)\",\"rgba(217,217,217,255)\",\"rgba(188,146,188,255)\",\"rgba(227,227,227,255)\",\"rgba(216,216,216,255)\",\"rgba(191,222,140,255)\",\"rgba(191,221,140,255)\",\"rgba(255,255,255,255)\",\"rgba(215,217,211,255)\",\"rgba(217,217,217,255)\",\"rgba(221,221,221,255)\",\"rgba(216,192,217,255)\",\"rgba(188,146,189,255)\",\"rgba(216,216,216,255)\",\"rgba(217,217,217,255)\",\"rgba(188,146,189,255)\",\"rgba(188,146,189,255)\",\"rgba(189,176,169,255)\",\"rgba(191,222,140,255)\",\"rgba(217,217,217,255)\",\"rgba(188,146,189,255)\",\"rgba(252,220,236,255)\",\"rgba(217,217,217,255)\",\"rgba(217,217,217,255)\",\"rgba(191,222,140,255)\",\"rgba(217,217,217,255)\",\"rgba(188,146,189,255)\",\"rgba(191,151,192,255)\",\"rgba(188,146,189,255)\",\"rgba(191,149,186,255)\",\"rgba(221,212,208,255)\",\"rgba(191,222,140,255)\",\"rgba(206,226,165,255)\",\"rgba(252,220,236,255)\",\"rgba(217,217,217,255)\",\"rgba(188,146,189,255)\",\"rgba(191,222,140,255)\",\"rgba(188,146,189,255)\",\"rgba(190,148,187,255)\",\"rgba(192,222,141,255)\",\"rgba(217,217,217,255)\",\"rgba(188,146,189,255)\",\"rgba(188,146,189,255)\",\"rgba(191,222,140,255)\",\"rgba(191,222,140,255)\",\"rgba(191,221,140,255)\",\"rgba(224,224,224,255)\",\"rgba(217,217,217,255)\",\"rgba(191,221,140,255)\",\"rgba(191,222,140,255)\",\"rgba(191,222,140,255)\",\"rgba(191,222,140,255)\",\"rgba(216,216,216,255)\",\"rgba(255,255,255,255)\",\"rgba(217,217,217,255)\",\"rgba(191,222,140,255)\",\"rgba(188,146,189,255)\",\"rgba(217,217,217,255)\",\"rgba(191,222,140,255)\",\"rgba(254,250,251,255)\",\"rgba(217,217,217,255)\",\"rgba(213,207,213,255)\",\"rgba(194,223,144,255)\",\"rgba(188,146,189,255)\",\"rgba(191,221,140,255)\",\"rgba(191,222,140,255)\",\"rgba(218,216,214,255)\",\"rgba(242,184,177,255)\",\"rgba(251,171,162,255)\",\"rgba(251,174,165,255)\",\"rgba(191,222,140,255)\",\"rgba(191,222,140,255)\",\"rgba(217,217,217,255)\",\"rgba(215,215,214,255)\",\"rgba(218,218,218,255)\",\"rgba(218,216,216,255)\",\"rgba(188,146,189,255)\",\"rgba(191,222,140,255)\",\"rgba(217,217,217,255)\",\"rgba(217,217,217,255)\",\"rgba(217,217,217,255)\",\"rgba(188,146,188,255)\",\"rgba(188,146,189,255)\",\"rgba(194,156,195,255)\",\"rgba(217,217,217,255)\",\"rgba(217,217,217,255)\",\"rgba(217,217,217,255)\",\"rgba(191,222,140,255)\",\"rgba(252,219,235,255)\",\"rgba(216,215,216,255)\",\"rgba(188,146,189,255)\",\"rgba(188,146,188,255)\",\"rgba(217,217,217,255)\",\"rgba(254,251,253,255)\",\"rgba(188,146,189,255)\",\"rgba(188,146,189,255)\",\"rgba(191,222,140,255)\",\"rgba(191,222,140,255)\",\"rgba(188,147,188,255)\",\"rgba(157,190,203,255)\",\"rgba(217,217,217,255)\",\"rgba(217,217,217,255)\",\"rgba(217,217,217,255)\",\"rgba(195,224,147,255)\",\"rgba(191,222,140,255)\",\"rgba(191,221,140,255)\",\"rgba(244,219,223,255)\",\"rgba(191,222,140,255)\",\"rgba(191,222,140,255)\",\"rgba(191,222,140,255)\",\"rgba(188,146,189,255)\",\"rgba(217,217,217,255)\",\"rgba(221,221,221,255)\",\"rgba(191,222,140,255)\",\"rgba(191,222,140,255)\",\"rgba(217,217,217,255)\",\"rgba(198,225,152,255)\",\"rgba(188,146,189,255)\",\"rgba(251,251,212,255)\",\"rgba(217,217,217,255)\",\"rgba(188,146,189,255)\",\"rgba(217,217,217,255)\",\"rgba(217,217,217,255)\",\"rgba(188,146,189,255)\",\"rgba(252,219,235,255)\",\"rgba(199,164,200,255)\",\"rgba(191,222,140,255)\",\"rgba(188,146,189,255)\",\"rgba(217,217,217,255)\",\"rgba(191,222,140,255)\",\"rgba(188,146,189,255)\",\"rgba(255,255,255,255)\",\"rgba(254,251,252,255)\",\"rgba(191,222,140,255)\",\"rgba(217,217,217,255)\",\"rgba(217,217,217,255)\",\"rgba(250,220,235,255)\",\"rgba(162,211,202,255)\",\"rgba(191,222,140,255)\",\"rgba(217,217,217,255)\",\"rgba(191,222,140,255)\",\"rgba(252,219,235,255)\",\"rgba(217,217,217,255)\",\"rgba(217,217,217,255)\",\"rgba(191,222,140,255)\",\"rgba(217,217,217,255)\",\"rgba(191,222,140,255)\",\"rgba(188,146,189,255)\",\"rgba(252,219,235,255)\",\"rgba(188,146,189,255)\",\"rgba(252,219,235,255)\",\"rgba(191,222,140,255)\",\"rgba(191,222,140,255)\",\"rgba(191,222,140,255)\",\"rgba(251,182,175,255)\",\"rgba(254,246,236,255)\",\"rgba(191,222,140,255)\",\"rgba(191,222,140,255)\",\"rgba(191,221,140,255)\",\"rgba(253,201,144,255)\",\"rgba(252,219,235,255)\",\"rgba(188,146,189,255)\",\"rgba(191,221,140,255)\",\"rgba(188,146,189,255)\",\"rgba(152,187,211,255)\",\"rgba(255,255,201,255)\",\"rgba(247,232,236,255)\",\"rgba(188,146,189,255)\",\"rgba(217,217,217,255)\",\"rgba(250,164,155,255)\",\"rgba(217,217,217,255)\",\"rgba(217,217,217,255)\",\"rgba(217,217,217,255)\",\"rgba(191,221,140,255)\",\"rgba(188,146,188,255)\",\"rgba(188,146,189,255)\",\"rgba(188,146,189,255)\",\"rgba(252,219,235,255)\",\"rgba(255,255,201,255)\",\"rgba(188,146,189,255)\",\"rgba(188,146,189,255)\",\"rgba(217,217,217,255)\",\"rgba(217,217,217,255)\",\"rgba(191,222,140,255)\",\"rgba(188,146,189,255)\",\"rgba(217,217,217,255)\",\"rgba(252,219,235,255)\",\"rgba(188,146,189,255)\",\"rgba(217,217,217,255)\",\"rgba(217,217,217,255)\",\"rgba(191,222,140,255)\",\"rgba(188,146,189,255)\",\"rgba(211,202,211,255)\",\"rgba(217,217,217,255)\",\"rgba(223,207,205,255)\",\"rgba(188,146,189,255)\",\"rgba(247,247,204,255)\",\"rgba(217,217,217,255)\",\"rgba(217,217,217,255)\",\"rgba(217,217,217,255)\",\"rgba(217,217,217,255)\",\"rgba(253,201,144,255)\",\"rgba(229,203,200,255)\",\"rgba(211,218,199,255)\",\"rgba(217,217,217,255)\",\"rgba(245,245,245,255)\",\"rgba(247,170,161,255)\",\"rgba(217,217,217,255)\",\"rgba(191,222,140,255)\",\"rgba(191,222,140,255)\",\"rgba(191,222,140,255)\",\"rgba(217,217,217,255)\",\"rgba(190,150,191,255)\",\"rgba(188,146,189,255)\",\"rgba(252,219,235,255)\",\"rgba(191,221,140,255)\",\"rgba(188,146,189,255)\",\"rgba(188,146,189,255)\",\"rgba(152,187,211,255)\",\"rgba(152,187,211,255)\",\"rgba(252,219,235,255)\",\"rgba(193,150,185,255)\",\"rgba(217,217,217,255)\",\"rgba(217,217,217,255)\",\"rgba(188,146,189,255)\",\"rgba(217,217,217,255)\",\"rgba(219,213,213,255)\",\"rgba(217,217,217,255)\",\"rgba(217,217,217,255)\",\"rgba(191,221,140,255)\",\"rgba(237,229,228,255)\",\"rgba(152,187,211,255)\",\"rgba(191,222,140,255)\",\"rgba(152,187,211,255)\",\"rgba(217,217,217,255)\",\"rgba(217,217,217,255)\",\"rgba(252,219,235,255)\",\"rgba(252,219,235,255)\",\"rgba(212,233,178,255)\",\"rgba(202,227,159,255)\",\"rgba(188,146,189,255)\",\"rgba(250,250,250,255)\",\"rgba(188,146,189,255)\",\"rgba(191,222,140,255)\",\"rgba(244,218,232,255)\",\"rgba(191,222,140,255)\",\"rgba(191,222,140,255)\",\"rgba(188,146,189,255)\",\"rgba(217,217,217,255)\",\"rgba(217,217,217,255)\",\"rgba(252,219,235,255)\",\"rgba(217,217,217,255)\",\"rgba(252,219,235,255)\",\"rgba(217,217,217,255)\",\"rgba(217,217,217,255)\",\"rgba(227,227,227,255)\",\"rgba(188,146,189,255)\",\"rgba(188,146,189,255)\",\"rgba(217,217,217,255)\",\"rgba(243,236,244,255)\",\"rgba(191,222,140,255)\",\"rgba(217,217,217,255)\",\"rgba(188,146,189,255)\",\"rgba(252,219,235,255)\",\"rgba(250,164,155,255)\",\"rgba(217,217,217,255)\",\"rgba(188,146,189,255)\",\"rgba(255,255,255,255)\"]],[\"line_colors\",[\"rgba(0,0,0,255)\",\"rgba(0,0,0,255)\",\"rgba(0,0,0,255)\",\"rgba(0,0,0,255)\",\"rgba(0,0,0,255)\",\"rgba(0,0,0,255)\",\"rgba(0,0,0,255)\",\"rgba(0,0,0,255)\",\"rgba(0,0,0,255)\",\"rgba(0,0,0,255)\",\"rgba(0,0,0,255)\",\"rgba(0,0,0,255)\",\"rgba(0,0,0,255)\",\"rgba(0,0,0,255)\",\"rgba(0,0,0,255)\",\"rgba(0,0,0,255)\",\"rgba(0,0,0,255)\",\"rgba(0,0,0,255)\",\"rgba(0,0,0,255)\",\"rgba(0,0,0,255)\",\"rgba(0,0,0,255)\",\"rgba(0,0,0,255)\",\"rgba(0,0,0,255)\",\"rgba(0,0,0,255)\",\"rgba(0,0,0,255)\",\"rgba(0,0,0,255)\",\"rgba(0,0,0,255)\",\"rgba(0,0,0,255)\",\"rgba(0,0,0,255)\",\"rgba(0,0,0,255)\",\"rgba(0,0,0,255)\",\"rgba(0,0,0,255)\",\"rgba(0,0,0,255)\",\"rgba(0,0,0,255)\",\"rgba(0,0,0,255)\",\"rgba(0,0,0,255)\",\"rgba(0,0,0,255)\",\"rgba(0,0,0,255)\",\"rgba(0,0,0,255)\",\"rgba(0,0,0,255)\",\"rgba(0,0,0,255)\",\"rgba(0,0,0,255)\",\"rgba(0,0,0,255)\",\"rgba(0,0,0,255)\",\"rgba(0,0,0,255)\",\"rgba(0,0,0,255)\",\"rgba(0,0,0,255)\",\"rgba(255,76,76,255)\",\"rgba(0,0,0,255)\",\"rgba(0,0,0,255)\",\"rgba(0,0,0,255)\",\"rgba(0,0,0,255)\",\"rgba(0,0,0,255)\",\"rgba(0,0,0,255)\",\"rgba(0,0,0,255)\",\"rgba(0,0,0,255)\",\"rgba(0,0,0,255)\",\"rgba(0,0,0,255)\",\"rgba(0,0,0,255)\",\"rgba(0,0,0,255)\",\"rgba(0,0,0,255)\",\"rgba(0,0,0,255)\",\"rgba(0,0,0,255)\",\"rgba(0,0,0,255)\",\"rgba(0,0,0,255)\",\"rgba(255,76,76,255)\",\"rgba(0,0,0,255)\",\"rgba(255,76,76,255)\",\"rgba(0,0,0,255)\",\"rgba(0,0,0,255)\",\"rgba(0,0,0,255)\",\"rgba(0,0,0,255)\",\"rgba(0,0,0,255)\",\"rgba(0,0,0,255)\",\"rgba(0,0,0,255)\",\"rgba(0,0,0,255)\",\"rgba(0,0,0,255)\",\"rgba(0,0,0,255)\",\"rgba(0,0,0,255)\",\"rgba(0,0,0,255)\",\"rgba(0,0,0,255)\",\"rgba(0,0,0,255)\",\"rgba(0,0,0,255)\",\"rgba(255,76,76,255)\",\"rgba(0,0,0,255)\",\"rgba(255,76,76,255)\",\"rgba(0,0,0,255)\",\"rgba(0,0,0,255)\",\"rgba(0,0,0,255)\",\"rgba(0,0,0,255)\",\"rgba(0,0,0,255)\",\"rgba(0,0,0,255)\",\"rgba(0,0,0,255)\",\"rgba(0,0,0,255)\",\"rgba(0,0,0,255)\",\"rgba(0,0,0,255)\",\"rgba(0,0,0,255)\",\"rgba(255,76,76,255)\",\"rgba(255,76,76,255)\",\"rgba(0,0,0,255)\",\"rgba(0,0,0,255)\",\"rgba(0,0,0,255)\",\"rgba(0,0,0,255)\",\"rgba(0,0,0,255)\",\"rgba(0,0,0,255)\",\"rgba(0,0,0,255)\",\"rgba(0,0,0,255)\",\"rgba(0,0,0,255)\",\"rgba(0,0,0,255)\",\"rgba(0,0,0,255)\",\"rgba(0,0,0,255)\",\"rgba(255,76,76,255)\",\"rgba(255,76,76,255)\",\"rgba(0,0,0,255)\",\"rgba(0,0,0,255)\",\"rgba(0,0,0,255)\",\"rgba(0,0,0,255)\",\"rgba(0,0,0,255)\",\"rgba(0,0,0,255)\",\"rgba(0,0,0,255)\",\"rgba(0,0,0,255)\",\"rgba(0,0,0,255)\",\"rgba(0,0,0,255)\",\"rgba(0,0,0,255)\",\"rgba(0,0,0,255)\",\"rgba(0,0,0,255)\",\"rgba(0,0,0,255)\",\"rgba(0,0,0,255)\",\"rgba(0,0,0,255)\",\"rgba(0,0,0,255)\",\"rgba(0,0,0,255)\",\"rgba(0,0,0,255)\",\"rgba(0,0,0,255)\",\"rgba(0,0,0,255)\",\"rgba(0,0,0,255)\",\"rgba(0,0,0,255)\",\"rgba(0,0,0,255)\",\"rgba(0,0,0,255)\",\"rgba(0,0,0,255)\",\"rgba(0,0,0,255)\",\"rgba(0,0,0,255)\",\"rgba(0,0,0,255)\",\"rgba(0,0,0,255)\",\"rgba(0,0,0,255)\",\"rgba(0,0,0,255)\",\"rgba(0,0,0,255)\",\"rgba(0,0,0,255)\",\"rgba(0,0,0,255)\",\"rgba(0,0,0,255)\",\"rgba(0,0,0,255)\",\"rgba(0,0,0,255)\",\"rgba(0,0,0,255)\",\"rgba(0,0,0,255)\",\"rgba(0,0,0,255)\",\"rgba(0,0,0,255)\",\"rgba(0,0,0,255)\",\"rgba(0,0,0,255)\",\"rgba(0,0,0,255)\",\"rgba(0,0,0,255)\",\"rgba(0,0,0,255)\",\"rgba(0,0,0,255)\",\"rgba(0,0,0,255)\",\"rgba(0,0,0,255)\",\"rgba(0,0,0,255)\",\"rgba(0,0,0,255)\",\"rgba(0,0,0,255)\",\"rgba(0,0,0,255)\",\"rgba(0,0,0,255)\",\"rgba(0,0,0,255)\",\"rgba(0,0,0,255)\",\"rgba(0,0,0,255)\",\"rgba(0,0,0,255)\",\"rgba(0,0,0,255)\",\"rgba(0,0,0,255)\",\"rgba(0,0,0,255)\",\"rgba(255,76,76,255)\",\"rgba(0,0,0,255)\",\"rgba(0,0,0,255)\",\"rgba(0,0,0,255)\",\"rgba(0,0,0,255)\",\"rgba(255,76,76,255)\",\"rgba(0,0,0,255)\",\"rgba(0,0,0,255)\",\"rgba(0,0,0,255)\",\"rgba(0,0,0,255)\",\"rgba(0,0,0,255)\",\"rgba(0,0,0,255)\",\"rgba(0,0,0,255)\",\"rgba(0,0,0,255)\",\"rgba(0,0,0,255)\",\"rgba(0,0,0,255)\",\"rgba(0,0,0,255)\",\"rgba(0,0,0,255)\",\"rgba(0,0,0,255)\",\"rgba(0,0,0,255)\",\"rgba(0,0,0,255)\",\"rgba(0,0,0,255)\",\"rgba(0,0,0,255)\",\"rgba(0,0,0,255)\",\"rgba(0,0,0,255)\",\"rgba(0,0,0,255)\",\"rgba(0,0,0,255)\",\"rgba(0,0,0,255)\",\"rgba(0,0,0,255)\",\"rgba(0,0,0,255)\",\"rgba(0,0,0,255)\",\"rgba(0,0,0,255)\",\"rgba(0,0,0,255)\",\"rgba(0,0,0,255)\",\"rgba(0,0,0,255)\",\"rgba(0,0,0,255)\",\"rgba(0,0,0,255)\",\"rgba(0,0,0,255)\",\"rgba(0,0,0,255)\",\"rgba(0,0,0,255)\",\"rgba(0,0,0,255)\",\"rgba(0,0,0,255)\",\"rgba(0,0,0,255)\",\"rgba(0,0,0,255)\",\"rgba(0,0,0,255)\",\"rgba(0,0,0,255)\",\"rgba(0,0,0,255)\",\"rgba(0,0,0,255)\",\"rgba(0,0,0,255)\",\"rgba(0,0,0,255)\",\"rgba(0,0,0,255)\",\"rgba(0,0,0,255)\",\"rgba(0,0,0,255)\",\"rgba(0,0,0,255)\",\"rgba(0,0,0,255)\",\"rgba(0,0,0,255)\",\"rgba(0,0,0,255)\",\"rgba(0,0,0,255)\",\"rgba(0,0,0,255)\",\"rgba(0,0,0,255)\",\"rgba(0,0,0,255)\",\"rgba(0,0,0,255)\",\"rgba(0,0,0,255)\",\"rgba(0,0,0,255)\",\"rgba(0,0,0,255)\",\"rgba(0,0,0,255)\",\"rgba(0,0,0,255)\",\"rgba(0,0,0,255)\",\"rgba(0,0,0,255)\",\"rgba(0,0,0,255)\",\"rgba(0,0,0,255)\",\"rgba(0,0,0,255)\",\"rgba(0,0,0,255)\",\"rgba(0,0,0,255)\",\"rgba(0,0,0,255)\",\"rgba(0,0,0,255)\",\"rgba(0,0,0,255)\",\"rgba(0,0,0,255)\",\"rgba(0,0,0,255)\",\"rgba(0,0,0,255)\",\"rgba(0,0,0,255)\",\"rgba(0,0,0,255)\",\"rgba(0,0,0,255)\",\"rgba(0,0,0,255)\",\"rgba(0,0,0,255)\",\"rgba(0,0,0,255)\",\"rgba(0,0,0,255)\",\"rgba(0,0,0,255)\",\"rgba(0,0,0,255)\",\"rgba(0,0,0,255)\",\"rgba(0,0,0,255)\",\"rgba(0,0,0,255)\",\"rgba(0,0,0,255)\",\"rgba(0,0,0,255)\",\"rgba(0,0,0,255)\",\"rgba(0,0,0,255)\",\"rgba(0,0,0,255)\",\"rgba(0,0,0,255)\",\"rgba(0,0,0,255)\",\"rgba(0,0,0,255)\",\"rgba(0,0,0,255)\",\"rgba(0,0,0,255)\",\"rgba(0,0,0,255)\",\"rgba(0,0,0,255)\",\"rgba(0,0,0,255)\",\"rgba(0,0,0,255)\",\"rgba(0,0,0,255)\",\"rgba(0,0,0,255)\",\"rgba(0,0,0,255)\",\"rgba(0,0,0,255)\",\"rgba(0,0,0,255)\",\"rgba(0,0,0,255)\",\"rgba(0,0,0,255)\",\"rgba(0,0,0,255)\",\"rgba(0,0,0,255)\",\"rgba(0,0,0,255)\",\"rgba(0,0,0,255)\",\"rgba(0,0,0,255)\",\"rgba(0,0,0,255)\",\"rgba(0,0,0,255)\",\"rgba(0,0,0,255)\",\"rgba(0,0,0,255)\",\"rgba(0,0,0,255)\",\"rgba(0,0,0,255)\",\"rgba(0,0,0,255)\",\"rgba(0,0,0,255)\",\"rgba(0,0,0,255)\",\"rgba(0,0,0,255)\",\"rgba(0,0,0,255)\",\"rgba(0,0,0,255)\",\"rgba(0,0,0,255)\",\"rgba(0,0,0,255)\",\"rgba(0,0,0,255)\",\"rgba(0,0,0,255)\",\"rgba(0,0,0,255)\",\"rgba(0,0,0,255)\",\"rgba(0,0,0,255)\",\"rgba(0,0,0,255)\",\"rgba(0,0,0,255)\",\"rgba(0,0,0,255)\",\"rgba(0,0,0,255)\",\"rgba(0,0,0,255)\",\"rgba(0,0,0,255)\",\"rgba(0,0,0,255)\",\"rgba(0,0,0,255)\",\"rgba(0,0,0,255)\",\"rgba(0,0,0,255)\",\"rgba(0,0,0,255)\",\"rgba(0,0,0,255)\",\"rgba(0,0,0,255)\",\"rgba(0,0,0,255)\",\"rgba(0,0,0,255)\",\"rgba(0,0,0,255)\",\"rgba(0,0,0,255)\",\"rgba(0,0,0,255)\",\"rgba(0,0,0,255)\",\"rgba(0,0,0,255)\",\"rgba(0,0,0,255)\",\"rgba(0,0,0,255)\",\"rgba(0,0,0,255)\",\"rgba(0,0,0,255)\",\"rgba(0,0,0,255)\",\"rgba(0,0,0,255)\",\"rgba(0,0,0,255)\",\"rgba(0,0,0,255)\",\"rgba(0,0,0,255)\",\"rgba(0,0,0,255)\",\"rgba(0,0,0,255)\",\"rgba(0,0,0,255)\",\"rgba(0,0,0,255)\",\"rgba(0,0,0,255)\",\"rgba(0,0,0,255)\",\"rgba(0,0,0,255)\",\"rgba(0,0,0,255)\",\"rgba(0,0,0,255)\",\"rgba(0,0,0,255)\",\"rgba(0,0,0,255)\",\"rgba(0,0,0,255)\",\"rgba(0,0,0,255)\",\"rgba(0,0,0,255)\",\"rgba(0,0,0,255)\",\"rgba(0,0,0,255)\",\"rgba(0,0,0,255)\",\"rgba(0,0,0,255)\",\"rgba(0,0,0,255)\",\"rgba(0,0,0,255)\",\"rgba(0,0,0,255)\",\"rgba(0,0,0,255)\",\"rgba(0,0,0,255)\",\"rgba(0,0,0,255)\",\"rgba(0,0,0,255)\",\"rgba(0,0,0,255)\",\"rgba(0,0,0,255)\",\"rgba(0,0,0,255)\",\"rgba(0,0,0,255)\",\"rgba(0,0,0,255)\",\"rgba(0,0,0,255)\",\"rgba(0,0,0,255)\",\"rgba(0,0,0,255)\",\"rgba(0,0,0,255)\",\"rgba(0,0,0,255)\",\"rgba(0,0,0,255)\",\"rgba(0,0,0,255)\",\"rgba(0,0,0,255)\",\"rgba(0,0,0,255)\",\"rgba(0,0,0,255)\",\"rgba(0,0,0,255)\",\"rgba(0,0,0,255)\",\"rgba(0,0,0,255)\",\"rgba(0,0,0,255)\",\"rgba(0,0,0,255)\",\"rgba(0,0,0,255)\",\"rgba(0,0,0,255)\",\"rgba(0,0,0,255)\",\"rgba(0,0,0,255)\",\"rgba(0,0,0,255)\",\"rgba(0,0,0,255)\",\"rgba(0,0,0,255)\",\"rgba(0,0,0,255)\",\"rgba(0,0,0,255)\",\"rgba(0,0,0,255)\",\"rgba(0,0,0,255)\",\"rgba(0,0,0,255)\",\"rgba(0,0,0,255)\",\"rgba(0,0,0,255)\",\"rgba(0,0,0,255)\",\"rgba(0,0,0,255)\",\"rgba(0,0,0,255)\",\"rgba(0,0,0,255)\",\"rgba(0,0,0,255)\",\"rgba(0,0,0,255)\",\"rgba(0,0,0,255)\",\"rgba(0,0,0,255)\",\"rgba(0,0,0,255)\",\"rgba(0,0,0,255)\",\"rgba(0,0,0,255)\",\"rgba(0,0,0,255)\",\"rgba(0,0,0,255)\",\"rgba(0,0,0,255)\",\"rgba(0,0,0,255)\",\"rgba(0,0,0,255)\",\"rgba(0,0,0,255)\",\"rgba(0,0,0,255)\",\"rgba(0,0,0,255)\",\"rgba(0,0,0,255)\",\"rgba(0,0,0,255)\",\"rgba(0,0,0,255)\",\"rgba(0,0,0,255)\",\"rgba(0,0,0,255)\",\"rgba(0,0,0,255)\",\"rgba(0,0,0,255)\",\"rgba(0,0,0,255)\",\"rgba(0,0,0,255)\",\"rgba(0,0,0,255)\",\"rgba(0,0,0,255)\",\"rgba(0,0,0,255)\",\"rgba(0,0,0,255)\",\"rgba(0,0,0,255)\",\"rgba(0,0,0,255)\"]],[\"line_widths\",[1,1,1,1,1,1,1,1,1,1,1,1,1,1,1,1,1,1,1,1,1,1,1,1,1,1,1,1,1,1,1,1,1,1,1,1,1,1,1,1,1,1,1,1,1,1,1,2,1,1,1,1,1,1,1,1,1,1,1,1,1,1,1,1,1,2,1,2,1,1,1,1,1,1,1,1,1,1,1,1,1,1,1,2,1,2,1,1,1,1,1,1,1,1,1,1,1,2,2,1,1,1,1,1,1,1,1,1,1,1,1,2,2,1,1,1,1,1,1,1,1,1,1,1,1,1,1,1,1,1,1,1,1,1,1,1,1,1,1,1,1,1,1,1,1,1,1,1,1,1,1,1,1,1,1,1,1,1,1,1,1,1,1,1,1,1,1,1,1,1,1,1,1,1,1,2,1,1,1,1,2,1,1,1,1,1,1,1,1,1,1,1,1,1,1,1,1,1,1,1,1,1,1,1,1,1,1,1,1,1,1,1,1,1,1,1,1,1,1,1,1,1,1,1,1,1,1,1,1,1,1,1,1,1,1,1,1,1,1,1,1,1,1,1,1,1,1,1,1,1,1,1,1,1,1,1,1,1,1,1,1,1,1,1,1,1,1,1,1,1,1,1,1,1,1,1,1,1,1,1,1,1,1,1,1,1,1,1,1,1,1,1,1,1,1,1,1,1,1,1,1,1,1,1,1,1,1,1,1,1,1,1,1,1,1,1,1,1,1,1,1,1,1,1,1,1,1,1,1,1,1,1,1,1,1,1,1,1,1,1,1,1,1,1,1,1,1,1,1,1,1,1,1,1,1,1,1,1,1,1,1,1,1,1,1,1,1,1,1,1,1,1,1,1,1,1,1,1,1,1,1,1,1,1,1,1,1,1,1,1,1,1,1,1,1,1,1,1,1,1,1,1,1,1,1,1,1,1,1,1,1,1,1,1,1,1,1,1,1,1,1,1,1,1,1,1,1,1,1,1,1,1,1,1]],[\"name\",[\"91\",\"69\",\"151\",\"50\",\"0\",\"219\",\"106\",\"287\",\"299\",\"179\",\"224\",\"261\",\"184\",\"313\",\"345\",\"107\",\"377\",\"242\",\"216\",\"276\",\"218\",\"233\",\"248\",\"206\",\"272\",\"215\",\"221\",\"406\",\"235\",\"277\",\"280\",\"251\",\"335\",\"296\",\"282\",\"289\",\"290\",\"361\",\"411\",\"338\",\"304\",\"363\",\"362\",\"300\",\"309\",\"360\",\"432\",\"8\",\"98\",\"117\",\"385\",\"319\",\"375\",\"29\",\"172\",\"346\",\"176\",\"369\",\"198\",\"223\",\"52\",\"429\",\"431\",\"171\",\"59\",\"39\",\"122\",\"28\",\"396\",\"189\",\"315\",\"13\",\"45\",\"135\",\"173\",\"199\",\"203\",\"79\",\"72\",\"356\",\"225\",\"400\",\"278\",\"7\",\"187\",\"3\",\"260\",\"25\",\"42\",\"159\",\"76\",\"35\",\"2\",\"9\",\"34\",\"36\",\"20\",\"4\",\"18\",\"6\",\"15\",\"30\",\"56\",\"196\",\"152\",\"5\",\"197\",\"46\",\"14\",\"120\",\"27\",\"21\",\"10\",\"23\",\"297\",\"62\",\"61\",\"11\",\"66\",\"82\",\"1\",\"349\",\"316\",\"133\",\"245\",\"24\",\"341\",\"95\",\"77\",\"226\",\"162\",\"44\",\"127\",\"294\",\"63\",\"303\",\"17\",\"231\",\"38\",\"326\",\"298\",\"26\",\"37\",\"100\",\"317\",\"89\",\"58\",\"53\",\"281\",\"73\",\"12\",\"93\",\"252\",\"60\",\"128\",\"333\",\"109\",\"247\",\"84\",\"273\",\"170\",\"40\",\"123\",\"111\",\"33\",\"88\",\"121\",\"19\",\"211\",\"183\",\"41\",\"103\",\"318\",\"94\",\"32\",\"31\",\"244\",\"181\",\"352\",\"55\",\"16\",\"192\",\"312\",\"99\",\"288\",\"177\",\"70\",\"48\",\"75\",\"201\",\"49\",\"142\",\"102\",\"81\",\"236\",\"90\",\"165\",\"238\",\"191\",\"57\",\"87\",\"96\",\"101\",\"186\",\"67\",\"47\",\"54\",\"392\",\"263\",\"71\",\"210\",\"329\",\"407\",\"150\",\"141\",\"274\",\"253\",\"74\",\"132\",\"408\",\"283\",\"284\",\"271\",\"140\",\"423\",\"64\",\"124\",\"43\",\"131\",\"279\",\"185\",\"154\",\"116\",\"112\",\"182\",\"118\",\"110\",\"130\",\"212\",\"86\",\"115\",\"92\",\"22\",\"387\",\"149\",\"228\",\"188\",\"114\",\"113\",\"204\",\"157\",\"308\",\"80\",\"65\",\"213\",\"78\",\"334\",\"168\",\"138\",\"205\",\"158\",\"351\",\"350\",\"104\",\"68\",\"148\",\"246\",\"410\",\"202\",\"163\",\"264\",\"328\",\"292\",\"285\",\"254\",\"85\",\"391\",\"409\",\"108\",\"167\",\"145\",\"398\",\"255\",\"97\",\"51\",\"320\",\"134\",\"390\",\"156\",\"129\",\"367\",\"378\",\"153\",\"227\",\"144\",\"357\",\"256\",\"180\",\"249\",\"147\",\"302\",\"430\",\"139\",\"137\",\"174\",\"321\",\"164\",\"397\",\"83\",\"269\",\"393\",\"229\",\"240\",\"119\",\"386\",\"364\",\"190\",\"413\",\"343\",\"105\",\"234\",\"358\",\"359\",\"222\",\"337\",\"336\",\"178\",\"427\",\"339\",\"286\",\"340\",\"257\",\"250\",\"412\",\"214\",\"237\",\"143\",\"259\",\"327\",\"295\",\"175\",\"258\",\"193\",\"136\",\"262\",\"332\",\"342\",\"416\",\"126\",\"155\",\"428\",\"371\",\"306\",\"322\",\"241\",\"301\",\"166\",\"379\",\"415\",\"146\",\"209\",\"422\",\"388\",\"217\",\"374\",\"220\",\"399\",\"324\",\"161\",\"239\",\"323\",\"270\",\"265\",\"275\",\"267\",\"200\",\"207\",\"291\",\"125\",\"354\",\"314\",\"325\",\"381\",\"305\",\"293\",\"395\",\"394\",\"195\",\"208\",\"401\",\"419\",\"266\",\"160\",\"230\",\"382\",\"311\",\"232\",\"414\",\"348\",\"307\",\"366\",\"370\",\"376\",\"418\",\"365\",\"368\",\"403\",\"268\",\"433\",\"404\",\"417\",\"169\",\"372\",\"420\",\"384\",\"310\",\"402\",\"330\",\"353\",\"344\",\"380\",\"331\",\"347\",\"424\",\"194\",\"355\",\"373\",\"421\",\"425\",\"426\",\"383\",\"405\",\"243\",\"389\"]],[\"level\",[\"303.0\",\"303.0\",\"303.0\",\"303.0\",\"303.0\",\"303.0\",\"303.0\",\"303.0\",\"303.0\",\"303.0\",\"303.0\",\"303.0\",\"303.0\",\"303.0\",\"303.0\",\"303.0\",\"303.0\",\"303.0\",\"303.0\",\"303.0\",\"303.0\",\"303.0\",\"303.0\",\"303.0\",\"303.0\",\"303.0\",\"303.0\",\"303.0\",\"303.0\",\"303.0\",\"303.0\",\"303.0\",\"303.0\",\"303.0\",\"303.0\",\"303.0\",\"303.0\",\"303.0\",\"303.0\",\"303.0\",\"303.0\",\"303.0\",\"303.0\",\"303.0\",\"303.0\",\"303.0\",\"303.0\",\"303.0\",\"303.0\",\"303.0\",\"303.0\",\"303.0\",\"303.0\",\"303.0\",\"303.0\",\"303.0\",\"303.0\",\"303.0\",\"303.0\",\"303.0\",\"303.0\",\"303.0\",\"303.0\",\"303.0\",\"303.0\",\"303.0\",\"303.0\",\"303.0\",\"303.0\",\"303.0\",\"303.0\",\"303.0\",\"303.0\",\"303.0\",\"303.0\",\"303.0\",\"303.0\",\"303.0\",\"303.0\",\"303.0\",\"303.0\",\"303.0\",\"303.0\",\"303.0\",\"303.0\",\"303.0\",\"303.0\",\"303.0\",\"303.0\",\"303.0\",\"303.0\",\"303.0\",\"303.0\",\"303.0\",\"303.0\",\"303.0\",\"303.0\",\"303.0\",\"303.0\",\"303.0\",\"303.0\",\"303.0\",\"303.0\",\"303.0\",\"303.0\",\"303.0\",\"303.0\",\"303.0\",\"303.0\",\"303.0\",\"303.0\",\"303.0\",\"303.0\",\"303.0\",\"303.0\",\"303.0\",\"303.0\",\"303.0\",\"303.0\",\"303.0\",\"303.0\",\"303.0\",\"303.0\",\"303.0\",\"303.0\",\"303.0\",\"303.0\",\"303.0\",\"303.0\",\"303.0\",\"303.0\",\"303.0\",\"303.0\",\"303.0\",\"303.0\",\"303.0\",\"303.0\",\"303.0\",\"303.0\",\"303.0\",\"303.0\",\"303.0\",\"303.0\",\"303.0\",\"303.0\",\"303.0\",\"303.0\",\"303.0\",\"303.0\",\"303.0\",\"303.0\",\"303.0\",\"303.0\",\"303.0\",\"303.0\",\"303.0\",\"303.0\",\"303.0\",\"303.0\",\"303.0\",\"303.0\",\"303.0\",\"303.0\",\"303.0\",\"303.0\",\"303.0\",\"303.0\",\"303.0\",\"303.0\",\"303.0\",\"303.0\",\"303.0\",\"303.0\",\"303.0\",\"303.0\",\"303.0\",\"303.0\",\"303.0\",\"303.0\",\"303.0\",\"303.0\",\"303.0\",\"303.0\",\"303.0\",\"303.0\",\"303.0\",\"303.0\",\"303.0\",\"303.0\",\"303.0\",\"303.0\",\"303.0\",\"303.0\",\"303.0\",\"303.0\",\"303.0\",\"303.0\",\"303.0\",\"303.0\",\"303.0\",\"303.0\",\"303.0\",\"303.0\",\"303.0\",\"303.0\",\"303.0\",\"303.0\",\"303.0\",\"303.0\",\"303.0\",\"303.0\",\"303.0\",\"303.0\",\"303.0\",\"303.0\",\"303.0\",\"303.0\",\"303.0\",\"303.0\",\"303.0\",\"303.0\",\"303.0\",\"303.0\",\"303.0\",\"303.0\",\"303.0\",\"303.0\",\"303.0\",\"303.0\",\"303.0\",\"303.0\",\"303.0\",\"303.0\",\"303.0\",\"303.0\",\"303.0\",\"303.0\",\"303.0\",\"303.0\",\"303.0\",\"303.0\",\"303.0\",\"303.0\",\"303.0\",\"303.0\",\"303.0\",\"303.0\",\"303.0\",\"303.0\",\"303.0\",\"303.0\",\"303.0\",\"303.0\",\"303.0\",\"303.0\",\"303.0\",\"303.0\",\"303.0\",\"303.0\",\"303.0\",\"303.0\",\"303.0\",\"303.0\",\"303.0\",\"303.0\",\"303.0\",\"303.0\",\"303.0\",\"303.0\",\"303.0\",\"303.0\",\"303.0\",\"303.0\",\"303.0\",\"303.0\",\"303.0\",\"303.0\",\"303.0\",\"303.0\",\"303.0\",\"303.0\",\"303.0\",\"303.0\",\"303.0\",\"303.0\",\"303.0\",\"303.0\",\"303.0\",\"303.0\",\"303.0\",\"303.0\",\"303.0\",\"303.0\",\"303.0\",\"303.0\",\"303.0\",\"303.0\",\"303.0\",\"303.0\",\"303.0\",\"303.0\",\"303.0\",\"303.0\",\"303.0\",\"303.0\",\"303.0\",\"303.0\",\"303.0\",\"303.0\",\"303.0\",\"303.0\",\"303.0\",\"303.0\",\"303.0\",\"303.0\",\"303.0\",\"303.0\",\"303.0\",\"303.0\",\"303.0\",\"303.0\",\"303.0\",\"303.0\",\"303.0\",\"303.0\",\"303.0\",\"303.0\",\"303.0\",\"303.0\",\"303.0\",\"303.0\",\"303.0\",\"303.0\",\"303.0\",\"303.0\",\"303.0\",\"303.0\",\"303.0\",\"303.0\",\"303.0\",\"303.0\",\"303.0\",\"303.0\",\"303.0\",\"303.0\",\"303.0\",\"303.0\",\"303.0\",\"303.0\",\"303.0\",\"303.0\",\"303.0\",\"303.0\",\"303.0\",\"303.0\",\"303.0\",\"303.0\",\"303.0\",\"303.0\",\"303.0\",\"303.0\",\"303.0\",\"303.0\",\"303.0\",\"303.0\",\"303.0\",\"303.0\",\"303.0\",\"303.0\",\"303.0\",\"303.0\",\"303.0\",\"303.0\",\"303.0\",\"303.0\",\"303.0\",\"303.0\",\"303.0\",\"303.0\",\"303.0\",\"303.0\",\"303.0\",\"303.0\",\"303.0\",\"303.0\",\"303.0\",\"303.0\",\"303.0\",\"303.0\",\"303.0\",\"303.0\",\"303.0\",\"303.0\",\"303.0\",\"303.0\",\"303.0\",\"303.0\",\"303.0\",\"303.0\",\"303.0\",\"303.0\",\"303.0\",\"303.0\",\"303.0\",\"303.0\",\"303.0\",\"303.0\",\"303.0\",\"303.0\",\"303.0\",\"303.0\",\"303.0\",\"303.0\",\"303.0\",\"303.0\",\"303.0\",\"303.0\",\"303.0\",\"303.0\",\"303.0\",\"303.0\",\"303.0\",\"303.0\",\"303.0\",\"303.0\",\"303.0\",\"303.0\",\"303.0\",\"303.0\",\"303.0\",\"303.0\",\"303.0\",\"303.0\",\"303.0\"]],[\"size\",[38,57,19,85,2061,10,32,8,7,14,10,9,14,7,6,32,6,9,10,8,10,10,9,11,8,10,10,5,9,8,8,9,7,7,8,8,8,6,5,7,7,6,6,7,7,6,5,713,35,29,5,7,6,144,15,6,15,6,12,10,84,5,5,15,68,94,27,145,5,13,7,347,89,22,15,12,11,46,53,6,10,5,8,894,13,1602,9,167,90,17,52,124,1818,624,129,105,227,1492,290,984,301,144,76,12,18,994,12,87,315,28,154,214,612,191,7,65,67,576,61,43,1986,6,7,23,9,183,6,36,48,10,16,89,26,8,64,7,298,10,103,7,7,156,103,35,7,38,69,82,8,53,372,37,9,68,25,7,32,9,40,8,15,93,27,32,130,38,28,252,11,14,93,33,7,36,130,142,9,14,6,79,299,12,7,35,8,15,56,85,53,12,85,21,33,43,9,38,16,9,13,72,38,35,34,14,60,86,80,5,9,55,11,7,5,19,21,8,9,53,23,5,8,8,8,21,5,62,27,90,24,8,14,18,30,31,14,28,32,24,11,39,30,37,202,5,19,10,13,30,31,11,18,7,44,61,11,47,7,15,22,11,17,6,6,32,57,19,9,5,11,16,9,7,8,8,9,40,5,5,32,15,20,5,9,35,84,7,23,5,18,25,6,6,18,10,20,6,9,14,9,20,7,5,22,22,15,7,16,5,41,9,5,10,9,28,5,6,13,5,6,32,10,6,6,10,7,7,14,5,7,8,7,9,9,5,11,9,21,9,7,7,15,9,12,22,9,7,6,5,27,18,5,6,7,7,9,7,16,6,5,20,11,5,5,10,6,10,5,7,16,9,7,8,9,8,9,12,11,8,27,6,7,7,6,7,8,5,5,12,11,5,5,9,17,10,6,7,10,5,6,7,6,6,6,5,6,6,5,9,5,5,5,15,6,5,5,7,5,7,6,6,6,7,6,5,12,6,6,5,5,5,5,5,9,5]]]}}},\"view\":{\"type\":\"object\",\"name\":\"CDSView\",\"id\":\"p1313\",\"attributes\":{\"filter\":{\"type\":\"object\",\"name\":\"AllIndices\",\"id\":\"p1314\"}}},\"glyph\":{\"type\":\"object\",\"name\":\"Circle\",\"id\":\"p1309\",\"attributes\":{\"x\":{\"type\":\"field\",\"field\":\"x\"},\"y\":{\"type\":\"field\",\"field\":\"y\"},\"radius\":{\"type\":\"field\",\"field\":\"r\"},\"line_color\":{\"type\":\"field\",\"field\":\"line_colors\"},\"line_width\":{\"type\":\"field\",\"field\":\"line_widths\"},\"fill_color\":{\"type\":\"field\",\"field\":\"colors\"}}},\"nonselection_glyph\":{\"type\":\"object\",\"name\":\"Circle\",\"id\":\"p1310\",\"attributes\":{\"x\":{\"type\":\"field\",\"field\":\"x\"},\"y\":{\"type\":\"field\",\"field\":\"y\"},\"radius\":{\"type\":\"field\",\"field\":\"r\"},\"line_color\":{\"type\":\"field\",\"field\":\"line_colors\"},\"line_alpha\":{\"type\":\"value\",\"value\":0.1},\"line_width\":{\"type\":\"field\",\"field\":\"line_widths\"},\"fill_color\":{\"type\":\"field\",\"field\":\"colors\"},\"fill_alpha\":{\"type\":\"value\",\"value\":0.1},\"hatch_alpha\":{\"type\":\"value\",\"value\":0.1}}},\"muted_glyph\":{\"type\":\"object\",\"name\":\"Circle\",\"id\":\"p1311\",\"attributes\":{\"x\":{\"type\":\"field\",\"field\":\"x\"},\"y\":{\"type\":\"field\",\"field\":\"y\"},\"radius\":{\"type\":\"field\",\"field\":\"r\"},\"line_color\":{\"type\":\"field\",\"field\":\"line_colors\"},\"line_alpha\":{\"type\":\"value\",\"value\":0.2},\"line_width\":{\"type\":\"field\",\"field\":\"line_widths\"},\"fill_color\":{\"type\":\"field\",\"field\":\"colors\"},\"fill_alpha\":{\"type\":\"value\",\"value\":0.2},\"hatch_alpha\":{\"type\":\"value\",\"value\":0.2}}}}}],\"toolbar\":{\"type\":\"object\",\"name\":\"Toolbar\",\"id\":\"p1263\",\"attributes\":{\"tools\":[{\"type\":\"object\",\"name\":\"WheelZoomTool\",\"id\":\"p1248\",\"attributes\":{\"renderers\":\"auto\",\"zoom_on_axis\":false}},{\"type\":\"object\",\"name\":\"BoxZoomTool\",\"id\":\"p1249\",\"attributes\":{\"overlay\":{\"type\":\"object\",\"name\":\"BoxAnnotation\",\"id\":\"p1250\",\"attributes\":{\"syncable\":false,\"level\":\"overlay\",\"visible\":false,\"left\":{\"type\":\"number\",\"value\":\"nan\"},\"right\":{\"type\":\"number\",\"value\":\"nan\"},\"top\":{\"type\":\"number\",\"value\":\"nan\"},\"bottom\":{\"type\":\"number\",\"value\":\"nan\"},\"left_units\":\"canvas\",\"right_units\":\"canvas\",\"top_units\":\"canvas\",\"bottom_units\":\"canvas\",\"line_color\":\"black\",\"line_alpha\":1.0,\"line_width\":2,\"line_dash\":[4,4],\"fill_color\":\"lightgrey\",\"fill_alpha\":0.5}},\"match_aspect\":true}},{\"type\":\"object\",\"name\":\"PanTool\",\"id\":\"p1276\"},{\"type\":\"object\",\"name\":\"ResetTool\",\"id\":\"p1277\"},{\"type\":\"object\",\"name\":\"SaveTool\",\"id\":\"p1278\"},{\"type\":\"object\",\"name\":\"HoverTool\",\"id\":\"p1315\",\"attributes\":{\"renderers\":[{\"id\":\"p1312\"}],\"tooltips\":[[\"Level\",\"@level\"],[\"Cluster\",\"@name\"],[\"Size\",\"@size\"]]}}],\"active_scroll\":{\"id\":\"p1248\"}}},\"left\":[{\"type\":\"object\",\"name\":\"LinearAxis\",\"id\":\"p1271\",\"attributes\":{\"ticker\":{\"type\":\"object\",\"name\":\"BasicTicker\",\"id\":\"p1272\",\"attributes\":{\"mantissas\":[1,2,5]}},\"formatter\":{\"type\":\"object\",\"name\":\"BasicTickFormatter\",\"id\":\"p1273\"},\"major_label_policy\":{\"type\":\"object\",\"name\":\"AllLabels\",\"id\":\"p1274\"}}}],\"below\":[{\"type\":\"object\",\"name\":\"LinearAxis\",\"id\":\"p1266\",\"attributes\":{\"ticker\":{\"type\":\"object\",\"name\":\"BasicTicker\",\"id\":\"p1267\",\"attributes\":{\"mantissas\":[1,2,5]}},\"formatter\":{\"type\":\"object\",\"name\":\"BasicTickFormatter\",\"id\":\"p1268\"},\"major_label_policy\":{\"type\":\"object\",\"name\":\"AllLabels\",\"id\":\"p1269\"}}}],\"center\":[{\"type\":\"object\",\"name\":\"Grid\",\"id\":\"p1270\",\"attributes\":{\"axis\":{\"id\":\"p1266\"}}},{\"type\":\"object\",\"name\":\"Grid\",\"id\":\"p1275\",\"attributes\":{\"dimension\":1,\"axis\":{\"id\":\"p1271\"}}}],\"min_border\":50,\"match_aspect\":true}},{\"type\":\"object\",\"name\":\"Figure\",\"id\":\"p1318\",\"attributes\":{\"width\":200,\"height\":800,\"x_range\":{\"type\":\"object\",\"name\":\"DataRange1d\",\"id\":\"p1319\"},\"y_range\":{\"type\":\"object\",\"name\":\"DataRange1d\",\"id\":\"p1320\"},\"x_scale\":{\"type\":\"object\",\"name\":\"LinearScale\",\"id\":\"p1327\"},\"y_scale\":{\"type\":\"object\",\"name\":\"LinearScale\",\"id\":\"p1328\"},\"title\":{\"type\":\"object\",\"name\":\"Title\",\"id\":\"p1325\",\"attributes\":{\"text\":\"Phylum counts (fill)\",\"text_font_size\":\"10pt\",\"align\":\"center\"}},\"outline_line_color\":null,\"renderers\":[{\"type\":\"object\",\"name\":\"GlyphRenderer\",\"id\":\"p1356\",\"attributes\":{\"data_source\":{\"type\":\"object\",\"name\":\"ColumnDataSource\",\"id\":\"p1350\",\"attributes\":{\"selected\":{\"type\":\"object\",\"name\":\"Selection\",\"id\":\"p1351\",\"attributes\":{\"indices\":[],\"line_indices\":[]}},\"selection_policy\":{\"type\":\"object\",\"name\":\"UnionRenderers\",\"id\":\"p1352\"},\"data\":{\"type\":\"map\",\"entries\":[[\"fill_color\",[\"rgba(191,222,140,255)\"]],[\"hatch_color\",[\"rgba(191,222,140,255)\"]],[\"line_color\",[\"black\"]]]}}},\"view\":{\"type\":\"object\",\"name\":\"CDSView\",\"id\":\"p1357\",\"attributes\":{\"filter\":{\"type\":\"object\",\"name\":\"AllIndices\",\"id\":\"p1358\"}}},\"glyph\":{\"type\":\"object\",\"name\":\"Circle\",\"id\":\"p1353\",\"attributes\":{\"x\":{\"type\":\"value\",\"value\":0},\"y\":{\"type\":\"value\",\"value\":0},\"radius\":{\"type\":\"value\",\"value\":0},\"line_color\":{\"type\":\"field\",\"field\":\"line_color\"},\"fill_color\":{\"type\":\"field\",\"field\":\"fill_color\"},\"hatch_color\":{\"type\":\"field\",\"field\":\"hatch_color\"}}},\"nonselection_glyph\":{\"type\":\"object\",\"name\":\"Circle\",\"id\":\"p1354\",\"attributes\":{\"x\":{\"type\":\"value\",\"value\":0},\"y\":{\"type\":\"value\",\"value\":0},\"radius\":{\"type\":\"value\",\"value\":0},\"line_color\":{\"type\":\"field\",\"field\":\"line_color\"},\"line_alpha\":{\"type\":\"value\",\"value\":0.1},\"fill_color\":{\"type\":\"field\",\"field\":\"fill_color\"},\"fill_alpha\":{\"type\":\"value\",\"value\":0.1},\"hatch_color\":{\"type\":\"field\",\"field\":\"hatch_color\"},\"hatch_alpha\":{\"type\":\"value\",\"value\":0.1}}},\"muted_glyph\":{\"type\":\"object\",\"name\":\"Circle\",\"id\":\"p1355\",\"attributes\":{\"x\":{\"type\":\"value\",\"value\":0},\"y\":{\"type\":\"value\",\"value\":0},\"radius\":{\"type\":\"value\",\"value\":0},\"line_color\":{\"type\":\"field\",\"field\":\"line_color\"},\"line_alpha\":{\"type\":\"value\",\"value\":0.2},\"fill_color\":{\"type\":\"field\",\"field\":\"fill_color\"},\"fill_alpha\":{\"type\":\"value\",\"value\":0.2},\"hatch_color\":{\"type\":\"field\",\"field\":\"hatch_color\"},\"hatch_alpha\":{\"type\":\"value\",\"value\":0.2}}}}},{\"type\":\"object\",\"name\":\"GlyphRenderer\",\"id\":\"p1366\",\"attributes\":{\"data_source\":{\"type\":\"object\",\"name\":\"ColumnDataSource\",\"id\":\"p1360\",\"attributes\":{\"selected\":{\"type\":\"object\",\"name\":\"Selection\",\"id\":\"p1361\",\"attributes\":{\"indices\":[],\"line_indices\":[]}},\"selection_policy\":{\"type\":\"object\",\"name\":\"UnionRenderers\",\"id\":\"p1362\"},\"data\":{\"type\":\"map\",\"entries\":[[\"fill_color\",[\"rgba(217,217,217,255)\"]],[\"hatch_color\",[\"rgba(217,217,217,255)\"]],[\"line_color\",[\"black\"]]]}}},\"view\":{\"type\":\"object\",\"name\":\"CDSView\",\"id\":\"p1367\",\"attributes\":{\"filter\":{\"type\":\"object\",\"name\":\"AllIndices\",\"id\":\"p1368\"}}},\"glyph\":{\"type\":\"object\",\"name\":\"Circle\",\"id\":\"p1363\",\"attributes\":{\"x\":{\"type\":\"value\",\"value\":0},\"y\":{\"type\":\"value\",\"value\":0},\"radius\":{\"type\":\"value\",\"value\":0},\"line_color\":{\"type\":\"field\",\"field\":\"line_color\"},\"fill_color\":{\"type\":\"field\",\"field\":\"fill_color\"},\"hatch_color\":{\"type\":\"field\",\"field\":\"hatch_color\"}}},\"nonselection_glyph\":{\"type\":\"object\",\"name\":\"Circle\",\"id\":\"p1364\",\"attributes\":{\"x\":{\"type\":\"value\",\"value\":0},\"y\":{\"type\":\"value\",\"value\":0},\"radius\":{\"type\":\"value\",\"value\":0},\"line_color\":{\"type\":\"field\",\"field\":\"line_color\"},\"line_alpha\":{\"type\":\"value\",\"value\":0.1},\"fill_color\":{\"type\":\"field\",\"field\":\"fill_color\"},\"fill_alpha\":{\"type\":\"value\",\"value\":0.1},\"hatch_color\":{\"type\":\"field\",\"field\":\"hatch_color\"},\"hatch_alpha\":{\"type\":\"value\",\"value\":0.1}}},\"muted_glyph\":{\"type\":\"object\",\"name\":\"Circle\",\"id\":\"p1365\",\"attributes\":{\"x\":{\"type\":\"value\",\"value\":0},\"y\":{\"type\":\"value\",\"value\":0},\"radius\":{\"type\":\"value\",\"value\":0},\"line_color\":{\"type\":\"field\",\"field\":\"line_color\"},\"line_alpha\":{\"type\":\"value\",\"value\":0.2},\"fill_color\":{\"type\":\"field\",\"field\":\"fill_color\"},\"fill_alpha\":{\"type\":\"value\",\"value\":0.2},\"hatch_color\":{\"type\":\"field\",\"field\":\"hatch_color\"},\"hatch_alpha\":{\"type\":\"value\",\"value\":0.2}}}}},{\"type\":\"object\",\"name\":\"GlyphRenderer\",\"id\":\"p1376\",\"attributes\":{\"data_source\":{\"type\":\"object\",\"name\":\"ColumnDataSource\",\"id\":\"p1370\",\"attributes\":{\"selected\":{\"type\":\"object\",\"name\":\"Selection\",\"id\":\"p1371\",\"attributes\":{\"indices\":[],\"line_indices\":[]}},\"selection_policy\":{\"type\":\"object\",\"name\":\"UnionRenderers\",\"id\":\"p1372\"},\"data\":{\"type\":\"map\",\"entries\":[[\"fill_color\",[\"rgba(188,146,189,255)\"]],[\"hatch_color\",[\"rgba(188,146,189,255)\"]],[\"line_color\",[\"black\"]]]}}},\"view\":{\"type\":\"object\",\"name\":\"CDSView\",\"id\":\"p1377\",\"attributes\":{\"filter\":{\"type\":\"object\",\"name\":\"AllIndices\",\"id\":\"p1378\"}}},\"glyph\":{\"type\":\"object\",\"name\":\"Circle\",\"id\":\"p1373\",\"attributes\":{\"x\":{\"type\":\"value\",\"value\":0},\"y\":{\"type\":\"value\",\"value\":0},\"radius\":{\"type\":\"value\",\"value\":0},\"line_color\":{\"type\":\"field\",\"field\":\"line_color\"},\"fill_color\":{\"type\":\"field\",\"field\":\"fill_color\"},\"hatch_color\":{\"type\":\"field\",\"field\":\"hatch_color\"}}},\"nonselection_glyph\":{\"type\":\"object\",\"name\":\"Circle\",\"id\":\"p1374\",\"attributes\":{\"x\":{\"type\":\"value\",\"value\":0},\"y\":{\"type\":\"value\",\"value\":0},\"radius\":{\"type\":\"value\",\"value\":0},\"line_color\":{\"type\":\"field\",\"field\":\"line_color\"},\"line_alpha\":{\"type\":\"value\",\"value\":0.1},\"fill_color\":{\"type\":\"field\",\"field\":\"fill_color\"},\"fill_alpha\":{\"type\":\"value\",\"value\":0.1},\"hatch_color\":{\"type\":\"field\",\"field\":\"hatch_color\"},\"hatch_alpha\":{\"type\":\"value\",\"value\":0.1}}},\"muted_glyph\":{\"type\":\"object\",\"name\":\"Circle\",\"id\":\"p1375\",\"attributes\":{\"x\":{\"type\":\"value\",\"value\":0},\"y\":{\"type\":\"value\",\"value\":0},\"radius\":{\"type\":\"value\",\"value\":0},\"line_color\":{\"type\":\"field\",\"field\":\"line_color\"},\"line_alpha\":{\"type\":\"value\",\"value\":0.2},\"fill_color\":{\"type\":\"field\",\"field\":\"fill_color\"},\"fill_alpha\":{\"type\":\"value\",\"value\":0.2},\"hatch_color\":{\"type\":\"field\",\"field\":\"hatch_color\"},\"hatch_alpha\":{\"type\":\"value\",\"value\":0.2}}}}},{\"type\":\"object\",\"name\":\"GlyphRenderer\",\"id\":\"p1386\",\"attributes\":{\"data_source\":{\"type\":\"object\",\"name\":\"ColumnDataSource\",\"id\":\"p1380\",\"attributes\":{\"selected\":{\"type\":\"object\",\"name\":\"Selection\",\"id\":\"p1381\",\"attributes\":{\"indices\":[],\"line_indices\":[]}},\"selection_policy\":{\"type\":\"object\",\"name\":\"UnionRenderers\",\"id\":\"p1382\"},\"data\":{\"type\":\"map\",\"entries\":[[\"fill_color\",[\"rgba(252,219,235,255)\"]],[\"hatch_color\",[\"rgba(252,219,235,255)\"]],[\"line_color\",[\"black\"]]]}}},\"view\":{\"type\":\"object\",\"name\":\"CDSView\",\"id\":\"p1387\",\"attributes\":{\"filter\":{\"type\":\"object\",\"name\":\"AllIndices\",\"id\":\"p1388\"}}},\"glyph\":{\"type\":\"object\",\"name\":\"Circle\",\"id\":\"p1383\",\"attributes\":{\"x\":{\"type\":\"value\",\"value\":0},\"y\":{\"type\":\"value\",\"value\":0},\"radius\":{\"type\":\"value\",\"value\":0},\"line_color\":{\"type\":\"field\",\"field\":\"line_color\"},\"fill_color\":{\"type\":\"field\",\"field\":\"fill_color\"},\"hatch_color\":{\"type\":\"field\",\"field\":\"hatch_color\"}}},\"nonselection_glyph\":{\"type\":\"object\",\"name\":\"Circle\",\"id\":\"p1384\",\"attributes\":{\"x\":{\"type\":\"value\",\"value\":0},\"y\":{\"type\":\"value\",\"value\":0},\"radius\":{\"type\":\"value\",\"value\":0},\"line_color\":{\"type\":\"field\",\"field\":\"line_color\"},\"line_alpha\":{\"type\":\"value\",\"value\":0.1},\"fill_color\":{\"type\":\"field\",\"field\":\"fill_color\"},\"fill_alpha\":{\"type\":\"value\",\"value\":0.1},\"hatch_color\":{\"type\":\"field\",\"field\":\"hatch_color\"},\"hatch_alpha\":{\"type\":\"value\",\"value\":0.1}}},\"muted_glyph\":{\"type\":\"object\",\"name\":\"Circle\",\"id\":\"p1385\",\"attributes\":{\"x\":{\"type\":\"value\",\"value\":0},\"y\":{\"type\":\"value\",\"value\":0},\"radius\":{\"type\":\"value\",\"value\":0},\"line_color\":{\"type\":\"field\",\"field\":\"line_color\"},\"line_alpha\":{\"type\":\"value\",\"value\":0.2},\"fill_color\":{\"type\":\"field\",\"field\":\"fill_color\"},\"fill_alpha\":{\"type\":\"value\",\"value\":0.2},\"hatch_color\":{\"type\":\"field\",\"field\":\"hatch_color\"},\"hatch_alpha\":{\"type\":\"value\",\"value\":0.2}}}}},{\"type\":\"object\",\"name\":\"GlyphRenderer\",\"id\":\"p1396\",\"attributes\":{\"data_source\":{\"type\":\"object\",\"name\":\"ColumnDataSource\",\"id\":\"p1390\",\"attributes\":{\"selected\":{\"type\":\"object\",\"name\":\"Selection\",\"id\":\"p1391\",\"attributes\":{\"indices\":[],\"line_indices\":[]}},\"selection_policy\":{\"type\":\"object\",\"name\":\"UnionRenderers\",\"id\":\"p1392\"},\"data\":{\"type\":\"map\",\"entries\":[[\"fill_color\",[\"rgba(253,201,144,255)\"]],[\"hatch_color\",[\"rgba(253,201,144,255)\"]],[\"line_color\",[\"black\"]]]}}},\"view\":{\"type\":\"object\",\"name\":\"CDSView\",\"id\":\"p1397\",\"attributes\":{\"filter\":{\"type\":\"object\",\"name\":\"AllIndices\",\"id\":\"p1398\"}}},\"glyph\":{\"type\":\"object\",\"name\":\"Circle\",\"id\":\"p1393\",\"attributes\":{\"x\":{\"type\":\"value\",\"value\":0},\"y\":{\"type\":\"value\",\"value\":0},\"radius\":{\"type\":\"value\",\"value\":0},\"line_color\":{\"type\":\"field\",\"field\":\"line_color\"},\"fill_color\":{\"type\":\"field\",\"field\":\"fill_color\"},\"hatch_color\":{\"type\":\"field\",\"field\":\"hatch_color\"}}},\"nonselection_glyph\":{\"type\":\"object\",\"name\":\"Circle\",\"id\":\"p1394\",\"attributes\":{\"x\":{\"type\":\"value\",\"value\":0},\"y\":{\"type\":\"value\",\"value\":0},\"radius\":{\"type\":\"value\",\"value\":0},\"line_color\":{\"type\":\"field\",\"field\":\"line_color\"},\"line_alpha\":{\"type\":\"value\",\"value\":0.1},\"fill_color\":{\"type\":\"field\",\"field\":\"fill_color\"},\"fill_alpha\":{\"type\":\"value\",\"value\":0.1},\"hatch_color\":{\"type\":\"field\",\"field\":\"hatch_color\"},\"hatch_alpha\":{\"type\":\"value\",\"value\":0.1}}},\"muted_glyph\":{\"type\":\"object\",\"name\":\"Circle\",\"id\":\"p1395\",\"attributes\":{\"x\":{\"type\":\"value\",\"value\":0},\"y\":{\"type\":\"value\",\"value\":0},\"radius\":{\"type\":\"value\",\"value\":0},\"line_color\":{\"type\":\"field\",\"field\":\"line_color\"},\"line_alpha\":{\"type\":\"value\",\"value\":0.2},\"fill_color\":{\"type\":\"field\",\"field\":\"fill_color\"},\"fill_alpha\":{\"type\":\"value\",\"value\":0.2},\"hatch_color\":{\"type\":\"field\",\"field\":\"hatch_color\"},\"hatch_alpha\":{\"type\":\"value\",\"value\":0.2}}}}},{\"type\":\"object\",\"name\":\"GlyphRenderer\",\"id\":\"p1406\",\"attributes\":{\"data_source\":{\"type\":\"object\",\"name\":\"ColumnDataSource\",\"id\":\"p1400\",\"attributes\":{\"selected\":{\"type\":\"object\",\"name\":\"Selection\",\"id\":\"p1401\",\"attributes\":{\"indices\":[],\"line_indices\":[]}},\"selection_policy\":{\"type\":\"object\",\"name\":\"UnionRenderers\",\"id\":\"p1402\"},\"data\":{\"type\":\"map\",\"entries\":[[\"fill_color\",[\"rgba(251,164,155,255)\"]],[\"hatch_color\",[\"rgba(251,164,155,255)\"]],[\"line_color\",[\"black\"]]]}}},\"view\":{\"type\":\"object\",\"name\":\"CDSView\",\"id\":\"p1407\",\"attributes\":{\"filter\":{\"type\":\"object\",\"name\":\"AllIndices\",\"id\":\"p1408\"}}},\"glyph\":{\"type\":\"object\",\"name\":\"Circle\",\"id\":\"p1403\",\"attributes\":{\"x\":{\"type\":\"value\",\"value\":0},\"y\":{\"type\":\"value\",\"value\":0},\"radius\":{\"type\":\"value\",\"value\":0},\"line_color\":{\"type\":\"field\",\"field\":\"line_color\"},\"fill_color\":{\"type\":\"field\",\"field\":\"fill_color\"},\"hatch_color\":{\"type\":\"field\",\"field\":\"hatch_color\"}}},\"nonselection_glyph\":{\"type\":\"object\",\"name\":\"Circle\",\"id\":\"p1404\",\"attributes\":{\"x\":{\"type\":\"value\",\"value\":0},\"y\":{\"type\":\"value\",\"value\":0},\"radius\":{\"type\":\"value\",\"value\":0},\"line_color\":{\"type\":\"field\",\"field\":\"line_color\"},\"line_alpha\":{\"type\":\"value\",\"value\":0.1},\"fill_color\":{\"type\":\"field\",\"field\":\"fill_color\"},\"fill_alpha\":{\"type\":\"value\",\"value\":0.1},\"hatch_color\":{\"type\":\"field\",\"field\":\"hatch_color\"},\"hatch_alpha\":{\"type\":\"value\",\"value\":0.1}}},\"muted_glyph\":{\"type\":\"object\",\"name\":\"Circle\",\"id\":\"p1405\",\"attributes\":{\"x\":{\"type\":\"value\",\"value\":0},\"y\":{\"type\":\"value\",\"value\":0},\"radius\":{\"type\":\"value\",\"value\":0},\"line_color\":{\"type\":\"field\",\"field\":\"line_color\"},\"line_alpha\":{\"type\":\"value\",\"value\":0.2},\"fill_color\":{\"type\":\"field\",\"field\":\"fill_color\"},\"fill_alpha\":{\"type\":\"value\",\"value\":0.2},\"hatch_color\":{\"type\":\"field\",\"field\":\"hatch_color\"},\"hatch_alpha\":{\"type\":\"value\",\"value\":0.2}}}}},{\"type\":\"object\",\"name\":\"GlyphRenderer\",\"id\":\"p1416\",\"attributes\":{\"data_source\":{\"type\":\"object\",\"name\":\"ColumnDataSource\",\"id\":\"p1410\",\"attributes\":{\"selected\":{\"type\":\"object\",\"name\":\"Selection\",\"id\":\"p1411\",\"attributes\":{\"indices\":[],\"line_indices\":[]}},\"selection_policy\":{\"type\":\"object\",\"name\":\"UnionRenderers\",\"id\":\"p1412\"},\"data\":{\"type\":\"map\",\"entries\":[[\"fill_color\",[\"rgba(162,211,202,255)\"]],[\"hatch_color\",[\"rgba(162,211,202,255)\"]],[\"line_color\",[\"black\"]]]}}},\"view\":{\"type\":\"object\",\"name\":\"CDSView\",\"id\":\"p1417\",\"attributes\":{\"filter\":{\"type\":\"object\",\"name\":\"AllIndices\",\"id\":\"p1418\"}}},\"glyph\":{\"type\":\"object\",\"name\":\"Circle\",\"id\":\"p1413\",\"attributes\":{\"x\":{\"type\":\"value\",\"value\":0},\"y\":{\"type\":\"value\",\"value\":0},\"radius\":{\"type\":\"value\",\"value\":0},\"line_color\":{\"type\":\"field\",\"field\":\"line_color\"},\"fill_color\":{\"type\":\"field\",\"field\":\"fill_color\"},\"hatch_color\":{\"type\":\"field\",\"field\":\"hatch_color\"}}},\"nonselection_glyph\":{\"type\":\"object\",\"name\":\"Circle\",\"id\":\"p1414\",\"attributes\":{\"x\":{\"type\":\"value\",\"value\":0},\"y\":{\"type\":\"value\",\"value\":0},\"radius\":{\"type\":\"value\",\"value\":0},\"line_color\":{\"type\":\"field\",\"field\":\"line_color\"},\"line_alpha\":{\"type\":\"value\",\"value\":0.1},\"fill_color\":{\"type\":\"field\",\"field\":\"fill_color\"},\"fill_alpha\":{\"type\":\"value\",\"value\":0.1},\"hatch_color\":{\"type\":\"field\",\"field\":\"hatch_color\"},\"hatch_alpha\":{\"type\":\"value\",\"value\":0.1}}},\"muted_glyph\":{\"type\":\"object\",\"name\":\"Circle\",\"id\":\"p1415\",\"attributes\":{\"x\":{\"type\":\"value\",\"value\":0},\"y\":{\"type\":\"value\",\"value\":0},\"radius\":{\"type\":\"value\",\"value\":0},\"line_color\":{\"type\":\"field\",\"field\":\"line_color\"},\"line_alpha\":{\"type\":\"value\",\"value\":0.2},\"fill_color\":{\"type\":\"field\",\"field\":\"fill_color\"},\"fill_alpha\":{\"type\":\"value\",\"value\":0.2},\"hatch_color\":{\"type\":\"field\",\"field\":\"hatch_color\"},\"hatch_alpha\":{\"type\":\"value\",\"value\":0.2}}}}},{\"type\":\"object\",\"name\":\"GlyphRenderer\",\"id\":\"p1426\",\"attributes\":{\"data_source\":{\"type\":\"object\",\"name\":\"ColumnDataSource\",\"id\":\"p1420\",\"attributes\":{\"selected\":{\"type\":\"object\",\"name\":\"Selection\",\"id\":\"p1421\",\"attributes\":{\"indices\":[],\"line_indices\":[]}},\"selection_policy\":{\"type\":\"object\",\"name\":\"UnionRenderers\",\"id\":\"p1422\"},\"data\":{\"type\":\"map\",\"entries\":[[\"fill_color\",[\"rgba(152,187,211,255)\"]],[\"hatch_color\",[\"rgba(152,187,211,255)\"]],[\"line_color\",[\"black\"]]]}}},\"view\":{\"type\":\"object\",\"name\":\"CDSView\",\"id\":\"p1427\",\"attributes\":{\"filter\":{\"type\":\"object\",\"name\":\"AllIndices\",\"id\":\"p1428\"}}},\"glyph\":{\"type\":\"object\",\"name\":\"Circle\",\"id\":\"p1423\",\"attributes\":{\"x\":{\"type\":\"value\",\"value\":0},\"y\":{\"type\":\"value\",\"value\":0},\"radius\":{\"type\":\"value\",\"value\":0},\"line_color\":{\"type\":\"field\",\"field\":\"line_color\"},\"fill_color\":{\"type\":\"field\",\"field\":\"fill_color\"},\"hatch_color\":{\"type\":\"field\",\"field\":\"hatch_color\"}}},\"nonselection_glyph\":{\"type\":\"object\",\"name\":\"Circle\",\"id\":\"p1424\",\"attributes\":{\"x\":{\"type\":\"value\",\"value\":0},\"y\":{\"type\":\"value\",\"value\":0},\"radius\":{\"type\":\"value\",\"value\":0},\"line_color\":{\"type\":\"field\",\"field\":\"line_color\"},\"line_alpha\":{\"type\":\"value\",\"value\":0.1},\"fill_color\":{\"type\":\"field\",\"field\":\"fill_color\"},\"fill_alpha\":{\"type\":\"value\",\"value\":0.1},\"hatch_color\":{\"type\":\"field\",\"field\":\"hatch_color\"},\"hatch_alpha\":{\"type\":\"value\",\"value\":0.1}}},\"muted_glyph\":{\"type\":\"object\",\"name\":\"Circle\",\"id\":\"p1425\",\"attributes\":{\"x\":{\"type\":\"value\",\"value\":0},\"y\":{\"type\":\"value\",\"value\":0},\"radius\":{\"type\":\"value\",\"value\":0},\"line_color\":{\"type\":\"field\",\"field\":\"line_color\"},\"line_alpha\":{\"type\":\"value\",\"value\":0.2},\"fill_color\":{\"type\":\"field\",\"field\":\"fill_color\"},\"fill_alpha\":{\"type\":\"value\",\"value\":0.2},\"hatch_color\":{\"type\":\"field\",\"field\":\"hatch_color\"},\"hatch_alpha\":{\"type\":\"value\",\"value\":0.2}}}}},{\"type\":\"object\",\"name\":\"GlyphRenderer\",\"id\":\"p1436\",\"attributes\":{\"data_source\":{\"type\":\"object\",\"name\":\"ColumnDataSource\",\"id\":\"p1430\",\"attributes\":{\"selected\":{\"type\":\"object\",\"name\":\"Selection\",\"id\":\"p1431\",\"attributes\":{\"indices\":[],\"line_indices\":[]}},\"selection_policy\":{\"type\":\"object\",\"name\":\"UnionRenderers\",\"id\":\"p1432\"},\"data\":{\"type\":\"map\",\"entries\":[[\"fill_color\",[\"rgba(255,255,201,255)\"]],[\"hatch_color\",[\"rgba(255,255,201,255)\"]],[\"line_color\",[\"black\"]]]}}},\"view\":{\"type\":\"object\",\"name\":\"CDSView\",\"id\":\"p1437\",\"attributes\":{\"filter\":{\"type\":\"object\",\"name\":\"AllIndices\",\"id\":\"p1438\"}}},\"glyph\":{\"type\":\"object\",\"name\":\"Circle\",\"id\":\"p1433\",\"attributes\":{\"x\":{\"type\":\"value\",\"value\":0},\"y\":{\"type\":\"value\",\"value\":0},\"radius\":{\"type\":\"value\",\"value\":0},\"line_color\":{\"type\":\"field\",\"field\":\"line_color\"},\"fill_color\":{\"type\":\"field\",\"field\":\"fill_color\"},\"hatch_color\":{\"type\":\"field\",\"field\":\"hatch_color\"}}},\"nonselection_glyph\":{\"type\":\"object\",\"name\":\"Circle\",\"id\":\"p1434\",\"attributes\":{\"x\":{\"type\":\"value\",\"value\":0},\"y\":{\"type\":\"value\",\"value\":0},\"radius\":{\"type\":\"value\",\"value\":0},\"line_color\":{\"type\":\"field\",\"field\":\"line_color\"},\"line_alpha\":{\"type\":\"value\",\"value\":0.1},\"fill_color\":{\"type\":\"field\",\"field\":\"fill_color\"},\"fill_alpha\":{\"type\":\"value\",\"value\":0.1},\"hatch_color\":{\"type\":\"field\",\"field\":\"hatch_color\"},\"hatch_alpha\":{\"type\":\"value\",\"value\":0.1}}},\"muted_glyph\":{\"type\":\"object\",\"name\":\"Circle\",\"id\":\"p1435\",\"attributes\":{\"x\":{\"type\":\"value\",\"value\":0},\"y\":{\"type\":\"value\",\"value\":0},\"radius\":{\"type\":\"value\",\"value\":0},\"line_color\":{\"type\":\"field\",\"field\":\"line_color\"},\"line_alpha\":{\"type\":\"value\",\"value\":0.2},\"fill_color\":{\"type\":\"field\",\"field\":\"fill_color\"},\"fill_alpha\":{\"type\":\"value\",\"value\":0.2},\"hatch_color\":{\"type\":\"field\",\"field\":\"hatch_color\"},\"hatch_alpha\":{\"type\":\"value\",\"value\":0.2}}}}},{\"type\":\"object\",\"name\":\"GlyphRenderer\",\"id\":\"p1446\",\"attributes\":{\"data_source\":{\"type\":\"object\",\"name\":\"ColumnDataSource\",\"id\":\"p1440\",\"attributes\":{\"selected\":{\"type\":\"object\",\"name\":\"Selection\",\"id\":\"p1441\",\"attributes\":{\"indices\":[],\"line_indices\":[]}},\"selection_policy\":{\"type\":\"object\",\"name\":\"UnionRenderers\",\"id\":\"p1442\"},\"data\":{\"type\":\"map\",\"entries\":[[\"fill_color\",[\"rgba(198,195,218,255)\"]],[\"hatch_color\",[\"rgba(198,195,218,255)\"]],[\"line_color\",[\"black\"]]]}}},\"view\":{\"type\":\"object\",\"name\":\"CDSView\",\"id\":\"p1447\",\"attributes\":{\"filter\":{\"type\":\"object\",\"name\":\"AllIndices\",\"id\":\"p1448\"}}},\"glyph\":{\"type\":\"object\",\"name\":\"Circle\",\"id\":\"p1443\",\"attributes\":{\"x\":{\"type\":\"value\",\"value\":0},\"y\":{\"type\":\"value\",\"value\":0},\"radius\":{\"type\":\"value\",\"value\":0},\"line_color\":{\"type\":\"field\",\"field\":\"line_color\"},\"fill_color\":{\"type\":\"field\",\"field\":\"fill_color\"},\"hatch_color\":{\"type\":\"field\",\"field\":\"hatch_color\"}}},\"nonselection_glyph\":{\"type\":\"object\",\"name\":\"Circle\",\"id\":\"p1444\",\"attributes\":{\"x\":{\"type\":\"value\",\"value\":0},\"y\":{\"type\":\"value\",\"value\":0},\"radius\":{\"type\":\"value\",\"value\":0},\"line_color\":{\"type\":\"field\",\"field\":\"line_color\"},\"line_alpha\":{\"type\":\"value\",\"value\":0.1},\"fill_color\":{\"type\":\"field\",\"field\":\"fill_color\"},\"fill_alpha\":{\"type\":\"value\",\"value\":0.1},\"hatch_color\":{\"type\":\"field\",\"field\":\"hatch_color\"},\"hatch_alpha\":{\"type\":\"value\",\"value\":0.1}}},\"muted_glyph\":{\"type\":\"object\",\"name\":\"Circle\",\"id\":\"p1445\",\"attributes\":{\"x\":{\"type\":\"value\",\"value\":0},\"y\":{\"type\":\"value\",\"value\":0},\"radius\":{\"type\":\"value\",\"value\":0},\"line_color\":{\"type\":\"field\",\"field\":\"line_color\"},\"line_alpha\":{\"type\":\"value\",\"value\":0.2},\"fill_color\":{\"type\":\"field\",\"field\":\"fill_color\"},\"fill_alpha\":{\"type\":\"value\",\"value\":0.2},\"hatch_color\":{\"type\":\"field\",\"field\":\"hatch_color\"},\"hatch_alpha\":{\"type\":\"value\",\"value\":0.2}}}}}],\"toolbar\":{\"type\":\"object\",\"name\":\"Toolbar\",\"id\":\"p1326\",\"attributes\":{\"tools\":[{\"type\":\"object\",\"name\":\"PanTool\",\"id\":\"p1339\"},{\"type\":\"object\",\"name\":\"WheelZoomTool\",\"id\":\"p1340\",\"attributes\":{\"renderers\":\"auto\"}},{\"type\":\"object\",\"name\":\"BoxZoomTool\",\"id\":\"p1341\",\"attributes\":{\"overlay\":{\"type\":\"object\",\"name\":\"BoxAnnotation\",\"id\":\"p1342\",\"attributes\":{\"syncable\":false,\"level\":\"overlay\",\"visible\":false,\"left\":{\"type\":\"number\",\"value\":\"nan\"},\"right\":{\"type\":\"number\",\"value\":\"nan\"},\"top\":{\"type\":\"number\",\"value\":\"nan\"},\"bottom\":{\"type\":\"number\",\"value\":\"nan\"},\"left_units\":\"canvas\",\"right_units\":\"canvas\",\"top_units\":\"canvas\",\"bottom_units\":\"canvas\",\"line_color\":\"black\",\"line_alpha\":1.0,\"line_width\":2,\"line_dash\":[4,4],\"fill_color\":\"lightgrey\",\"fill_alpha\":0.5}}}},{\"type\":\"object\",\"name\":\"SaveTool\",\"id\":\"p1347\"},{\"type\":\"object\",\"name\":\"ResetTool\",\"id\":\"p1348\"},{\"type\":\"object\",\"name\":\"HelpTool\",\"id\":\"p1349\"}]}},\"toolbar_location\":null,\"left\":[{\"type\":\"object\",\"name\":\"LinearAxis\",\"id\":\"p1334\",\"attributes\":{\"visible\":false,\"ticker\":{\"type\":\"object\",\"name\":\"BasicTicker\",\"id\":\"p1335\",\"attributes\":{\"mantissas\":[1,2,5]}},\"formatter\":{\"type\":\"object\",\"name\":\"BasicTickFormatter\",\"id\":\"p1336\"},\"major_label_policy\":{\"type\":\"object\",\"name\":\"AllLabels\",\"id\":\"p1337\"}}}],\"below\":[{\"type\":\"object\",\"name\":\"LinearAxis\",\"id\":\"p1329\",\"attributes\":{\"visible\":false,\"ticker\":{\"type\":\"object\",\"name\":\"BasicTicker\",\"id\":\"p1330\",\"attributes\":{\"mantissas\":[1,2,5]}},\"formatter\":{\"type\":\"object\",\"name\":\"BasicTickFormatter\",\"id\":\"p1331\"},\"major_label_policy\":{\"type\":\"object\",\"name\":\"AllLabels\",\"id\":\"p1332\"}}}],\"center\":[{\"type\":\"object\",\"name\":\"Grid\",\"id\":\"p1333\",\"attributes\":{\"visible\":false,\"axis\":{\"id\":\"p1329\"}}},{\"type\":\"object\",\"name\":\"Grid\",\"id\":\"p1338\",\"attributes\":{\"visible\":false,\"dimension\":1,\"axis\":{\"id\":\"p1334\"}}},{\"type\":\"object\",\"name\":\"Legend\",\"id\":\"p1450\",\"attributes\":{\"label_text_font_size\":\"9pt\",\"spacing\":1,\"items\":[{\"type\":\"object\",\"name\":\"LegendItem\",\"id\":\"p1359\",\"attributes\":{\"label\":{\"type\":\"value\",\"value\":\"Pseudomonadota\"},\"renderers\":[{\"id\":\"p1356\"}]}},{\"type\":\"object\",\"name\":\"LegendItem\",\"id\":\"p1369\",\"attributes\":{\"label\":{\"type\":\"value\",\"value\":\"Bacillota\"},\"renderers\":[{\"id\":\"p1366\"}]}},{\"type\":\"object\",\"name\":\"LegendItem\",\"id\":\"p1379\",\"attributes\":{\"label\":{\"type\":\"value\",\"value\":\"Actinomycetota\"},\"renderers\":[{\"id\":\"p1376\"}]}},{\"type\":\"object\",\"name\":\"LegendItem\",\"id\":\"p1389\",\"attributes\":{\"label\":{\"type\":\"value\",\"value\":\"Bacteroidota\"},\"renderers\":[{\"id\":\"p1386\"}]}},{\"type\":\"object\",\"name\":\"LegendItem\",\"id\":\"p1399\",\"attributes\":{\"label\":{\"type\":\"value\",\"value\":\"Chloroflexota\"},\"renderers\":[{\"id\":\"p1396\"}]}},{\"type\":\"object\",\"name\":\"LegendItem\",\"id\":\"p1409\",\"attributes\":{\"label\":{\"type\":\"value\",\"value\":\"Spirochaetota\"},\"renderers\":[{\"id\":\"p1406\"}]}},{\"type\":\"object\",\"name\":\"LegendItem\",\"id\":\"p1419\",\"attributes\":{\"label\":{\"type\":\"value\",\"value\":\"Verrucomicrobiota\"},\"renderers\":[{\"id\":\"p1416\"}]}},{\"type\":\"object\",\"name\":\"LegendItem\",\"id\":\"p1429\",\"attributes\":{\"label\":{\"type\":\"value\",\"value\":\"Acidobacteriota\"},\"renderers\":[{\"id\":\"p1426\"}]}},{\"type\":\"object\",\"name\":\"LegendItem\",\"id\":\"p1439\",\"attributes\":{\"label\":{\"type\":\"value\",\"value\":\"Thermotogota\"},\"renderers\":[{\"id\":\"p1436\"}]}},{\"type\":\"object\",\"name\":\"LegendItem\",\"id\":\"p1449\",\"attributes\":{\"label\":{\"type\":\"value\",\"value\":\"Planctomycetota\"},\"renderers\":[{\"id\":\"p1446\"}]}}]}}],\"min_border\":0}},{\"type\":\"object\",\"name\":\"Figure\",\"id\":\"p1451\",\"attributes\":{\"width\":200,\"height\":800,\"x_range\":{\"type\":\"object\",\"name\":\"DataRange1d\",\"id\":\"p1452\"},\"y_range\":{\"type\":\"object\",\"name\":\"DataRange1d\",\"id\":\"p1453\"},\"x_scale\":{\"type\":\"object\",\"name\":\"LinearScale\",\"id\":\"p1460\"},\"y_scale\":{\"type\":\"object\",\"name\":\"LinearScale\",\"id\":\"p1461\"},\"title\":{\"type\":\"object\",\"name\":\"Title\",\"id\":\"p1458\",\"attributes\":{\"text\":\"Reviewed counts (outline)\",\"text_font_size\":\"10pt\",\"align\":\"center\"}},\"outline_line_color\":null,\"renderers\":[{\"type\":\"object\",\"name\":\"GlyphRenderer\",\"id\":\"p1489\",\"attributes\":{\"data_source\":{\"type\":\"object\",\"name\":\"ColumnDataSource\",\"id\":\"p1483\",\"attributes\":{\"selected\":{\"type\":\"object\",\"name\":\"Selection\",\"id\":\"p1484\",\"attributes\":{\"indices\":[],\"line_indices\":[]}},\"selection_policy\":{\"type\":\"object\",\"name\":\"UnionRenderers\",\"id\":\"p1485\"},\"data\":{\"type\":\"map\",\"entries\":[[\"fill_color\",[\"rgba(255,76,76,255)\"]],[\"hatch_color\",[\"rgba(255,76,76,255)\"]],[\"line_color\",[\"black\"]]]}}},\"view\":{\"type\":\"object\",\"name\":\"CDSView\",\"id\":\"p1490\",\"attributes\":{\"filter\":{\"type\":\"object\",\"name\":\"AllIndices\",\"id\":\"p1491\"}}},\"glyph\":{\"type\":\"object\",\"name\":\"Circle\",\"id\":\"p1486\",\"attributes\":{\"x\":{\"type\":\"value\",\"value\":0},\"y\":{\"type\":\"value\",\"value\":0},\"radius\":{\"type\":\"value\",\"value\":0},\"line_color\":{\"type\":\"field\",\"field\":\"line_color\"},\"fill_color\":{\"type\":\"field\",\"field\":\"fill_color\"},\"hatch_color\":{\"type\":\"field\",\"field\":\"hatch_color\"}}},\"nonselection_glyph\":{\"type\":\"object\",\"name\":\"Circle\",\"id\":\"p1487\",\"attributes\":{\"x\":{\"type\":\"value\",\"value\":0},\"y\":{\"type\":\"value\",\"value\":0},\"radius\":{\"type\":\"value\",\"value\":0},\"line_color\":{\"type\":\"field\",\"field\":\"line_color\"},\"line_alpha\":{\"type\":\"value\",\"value\":0.1},\"fill_color\":{\"type\":\"field\",\"field\":\"fill_color\"},\"fill_alpha\":{\"type\":\"value\",\"value\":0.1},\"hatch_color\":{\"type\":\"field\",\"field\":\"hatch_color\"},\"hatch_alpha\":{\"type\":\"value\",\"value\":0.1}}},\"muted_glyph\":{\"type\":\"object\",\"name\":\"Circle\",\"id\":\"p1488\",\"attributes\":{\"x\":{\"type\":\"value\",\"value\":0},\"y\":{\"type\":\"value\",\"value\":0},\"radius\":{\"type\":\"value\",\"value\":0},\"line_color\":{\"type\":\"field\",\"field\":\"line_color\"},\"line_alpha\":{\"type\":\"value\",\"value\":0.2},\"fill_color\":{\"type\":\"field\",\"field\":\"fill_color\"},\"fill_alpha\":{\"type\":\"value\",\"value\":0.2},\"hatch_color\":{\"type\":\"field\",\"field\":\"hatch_color\"},\"hatch_alpha\":{\"type\":\"value\",\"value\":0.2}}}}}],\"toolbar\":{\"type\":\"object\",\"name\":\"Toolbar\",\"id\":\"p1459\",\"attributes\":{\"tools\":[{\"type\":\"object\",\"name\":\"PanTool\",\"id\":\"p1472\"},{\"type\":\"object\",\"name\":\"WheelZoomTool\",\"id\":\"p1473\",\"attributes\":{\"renderers\":\"auto\"}},{\"type\":\"object\",\"name\":\"BoxZoomTool\",\"id\":\"p1474\",\"attributes\":{\"overlay\":{\"type\":\"object\",\"name\":\"BoxAnnotation\",\"id\":\"p1475\",\"attributes\":{\"syncable\":false,\"level\":\"overlay\",\"visible\":false,\"left\":{\"type\":\"number\",\"value\":\"nan\"},\"right\":{\"type\":\"number\",\"value\":\"nan\"},\"top\":{\"type\":\"number\",\"value\":\"nan\"},\"bottom\":{\"type\":\"number\",\"value\":\"nan\"},\"left_units\":\"canvas\",\"right_units\":\"canvas\",\"top_units\":\"canvas\",\"bottom_units\":\"canvas\",\"line_color\":\"black\",\"line_alpha\":1.0,\"line_width\":2,\"line_dash\":[4,4],\"fill_color\":\"lightgrey\",\"fill_alpha\":0.5}}}},{\"type\":\"object\",\"name\":\"SaveTool\",\"id\":\"p1480\"},{\"type\":\"object\",\"name\":\"ResetTool\",\"id\":\"p1481\"},{\"type\":\"object\",\"name\":\"HelpTool\",\"id\":\"p1482\"}]}},\"toolbar_location\":null,\"left\":[{\"type\":\"object\",\"name\":\"LinearAxis\",\"id\":\"p1467\",\"attributes\":{\"visible\":false,\"ticker\":{\"type\":\"object\",\"name\":\"BasicTicker\",\"id\":\"p1468\",\"attributes\":{\"mantissas\":[1,2,5]}},\"formatter\":{\"type\":\"object\",\"name\":\"BasicTickFormatter\",\"id\":\"p1469\"},\"major_label_policy\":{\"type\":\"object\",\"name\":\"AllLabels\",\"id\":\"p1470\"}}}],\"below\":[{\"type\":\"object\",\"name\":\"LinearAxis\",\"id\":\"p1462\",\"attributes\":{\"visible\":false,\"ticker\":{\"type\":\"object\",\"name\":\"BasicTicker\",\"id\":\"p1463\",\"attributes\":{\"mantissas\":[1,2,5]}},\"formatter\":{\"type\":\"object\",\"name\":\"BasicTickFormatter\",\"id\":\"p1464\"},\"major_label_policy\":{\"type\":\"object\",\"name\":\"AllLabels\",\"id\":\"p1465\"}}}],\"center\":[{\"type\":\"object\",\"name\":\"Grid\",\"id\":\"p1466\",\"attributes\":{\"visible\":false,\"axis\":{\"id\":\"p1462\"}}},{\"type\":\"object\",\"name\":\"Grid\",\"id\":\"p1471\",\"attributes\":{\"visible\":false,\"dimension\":1,\"axis\":{\"id\":\"p1467\"}}},{\"type\":\"object\",\"name\":\"Legend\",\"id\":\"p1493\",\"attributes\":{\"label_text_font_size\":\"9pt\",\"spacing\":1,\"items\":[{\"type\":\"object\",\"name\":\"LegendItem\",\"id\":\"p1492\",\"attributes\":{\"label\":{\"type\":\"value\",\"value\":\"reviewed\"},\"renderers\":[{\"id\":\"p1489\"}]}}]}}],\"min_border\":0}},{\"type\":\"object\",\"name\":\"Select\",\"id\":\"p1316\",\"attributes\":{\"js_property_callbacks\":{\"type\":\"map\",\"entries\":[[\"change:value\",[{\"type\":\"object\",\"name\":\"CustomJS\",\"id\":\"p1317\",\"attributes\":{\"args\":{\"type\":\"map\",\"entries\":[[\"hover\",{\"id\":\"p1315\"}],[\"options\",{\"type\":\"map\",\"entries\":[[\"137.0\",{\"id\":\"p1288\"}],[\"196.0\",{\"id\":\"p1300\"}],[\"303.0\",{\"id\":\"p1312\"}]]}]]},\"code\":\"\\n        const value = cb_obj.value;\\n        const renderer = options[value];\\n        hover.renderers = [renderer];\\n    \"}}]]]},\"title\":\"Label level\",\"options\":[\"137.0\",\"196.0\",\"303.0\"],\"value\":\"303.0\"}}]}}]}};\n  const render_items = [{\"docid\":\"20a8ac38-385c-4c97-9079-71abdf8f3827\",\"roots\":{\"p1494\":\"b1c7f56a-cfb8-48bf-bc28-006e4200ceb5\"},\"root_ids\":[\"p1494\"]}];\n  void root.Bokeh.embed.embed_items_notebook(docs_json, render_items);\n  }\n  if (root.Bokeh !== undefined) {\n    embed_document(root);\n  } else {\n    let attempts = 0;\n    const timer = setInterval(function(root) {\n      if (root.Bokeh !== undefined) {\n        clearInterval(timer);\n        embed_document(root);\n      } else {\n        attempts++;\n        if (attempts > 100) {\n          clearInterval(timer);\n          console.log(\"Bokeh: ERROR: Unable to run BokehJS code because BokehJS library is missing\");\n        }\n      }\n    }, 10, root)\n  }\n})(window);",
      "application/vnd.bokehjs_exec.v0+json": ""
     },
     "metadata": {
      "application/vnd.bokehjs_exec.v0+json": {
       "id": "p1494"
      }
     },
     "output_type": "display_data"
    }
   ],
   "source": [
    "plot, plot_data=cp.CirclePlot(layout, size=800,\n",
    "                            annot_colors=phylum_colors,\n",
    "                            outlines=reviewed_colors,\n",
    "                            highlight_line_width=2\n",
    "                            )"
   ]
  },
  {
   "cell_type": "markdown",
   "metadata": {},
   "source": [
    "Pretend we are only interested in the main group of related sequences (big base cluster) and not in the outliers.  \n",
    "  \n",
    "We can filter for just the sequences in the big cluster (cluster 0 at cut-off of 137).  "
   ]
  },
  {
   "cell_type": "code",
   "execution_count": 32,
   "metadata": {},
   "outputs": [
    {
     "name": "stdout",
     "output_type": "stream",
     "text": [
      "(27730, 5)\n"
     ]
    },
    {
     "data": {
      "text/html": [
       "<div>\n",
       "<style scoped>\n",
       "    .dataframe tbody tr th:only-of-type {\n",
       "        vertical-align: middle;\n",
       "    }\n",
       "\n",
       "    .dataframe tbody tr th {\n",
       "        vertical-align: top;\n",
       "    }\n",
       "\n",
       "    .dataframe thead th {\n",
       "        text-align: right;\n",
       "    }\n",
       "</style>\n",
       "<table border=\"1\" class=\"dataframe\">\n",
       "  <thead>\n",
       "    <tr style=\"text-align: right;\">\n",
       "      <th></th>\n",
       "      <th>id</th>\n",
       "      <th>137.0</th>\n",
       "      <th>196.0</th>\n",
       "      <th>303.0</th>\n",
       "      <th>Entry</th>\n",
       "    </tr>\n",
       "  </thead>\n",
       "  <tbody>\n",
       "    <tr>\n",
       "      <th>0</th>\n",
       "      <td>0</td>\n",
       "      <td>0</td>\n",
       "      <td>0</td>\n",
       "      <td>7</td>\n",
       "      <td>Q88HH7</td>\n",
       "    </tr>\n",
       "    <tr>\n",
       "      <th>1</th>\n",
       "      <td>1</td>\n",
       "      <td>0</td>\n",
       "      <td>0</td>\n",
       "      <td>187</td>\n",
       "      <td>A0A0M1P0M0</td>\n",
       "    </tr>\n",
       "    <tr>\n",
       "      <th>2</th>\n",
       "      <td>10</td>\n",
       "      <td>0</td>\n",
       "      <td>0</td>\n",
       "      <td>3</td>\n",
       "      <td>A0A485EFL7</td>\n",
       "    </tr>\n",
       "    <tr>\n",
       "      <th>3</th>\n",
       "      <td>100</td>\n",
       "      <td>0</td>\n",
       "      <td>0</td>\n",
       "      <td>3</td>\n",
       "      <td>A0A1G9ETG5</td>\n",
       "    </tr>\n",
       "    <tr>\n",
       "      <th>4</th>\n",
       "      <td>1000</td>\n",
       "      <td>0</td>\n",
       "      <td>0</td>\n",
       "      <td>260</td>\n",
       "      <td>A0A943EYG6</td>\n",
       "    </tr>\n",
       "  </tbody>\n",
       "</table>\n",
       "</div>"
      ],
      "text/plain": [
       "     id 137.0 196.0 303.0       Entry\n",
       "0     0     0     0     7      Q88HH7\n",
       "1     1     0     0   187  A0A0M1P0M0\n",
       "2    10     0     0     3  A0A485EFL7\n",
       "3   100     0     0     3  A0A1G9ETG5\n",
       "4  1000     0     0   260  A0A943EYG6"
      ]
     },
     "execution_count": 32,
     "metadata": {},
     "output_type": "execute_result"
    }
   ],
   "source": [
    "non_outlier=clusters[clusters['137.0']=='0']\n",
    "print(non_outlier.shape)\n",
    "non_outlier.head()"
   ]
  },
  {
   "cell_type": "markdown",
   "metadata": {},
   "source": [
    "Say we wanted to sample just non-reviewed clusters, up to 48 of the largest ones. For picking representatives, the big cluster (~28k sequences) is too large, so we should subdivide the cluster by moving up the cut-offs. We can select using the highest cut-off in the plot (303), that looks like it has at least 50 clusters. "
   ]
  },
  {
   "cell_type": "code",
   "execution_count": 33,
   "metadata": {},
   "outputs": [
    {
     "name": "stdout",
     "output_type": "stream",
     "text": [
      "(21945, 5)\n"
     ]
    },
    {
     "data": {
      "text/html": [
       "<div>\n",
       "<style scoped>\n",
       "    .dataframe tbody tr th:only-of-type {\n",
       "        vertical-align: middle;\n",
       "    }\n",
       "\n",
       "    .dataframe tbody tr th {\n",
       "        vertical-align: top;\n",
       "    }\n",
       "\n",
       "    .dataframe thead th {\n",
       "        text-align: right;\n",
       "    }\n",
       "</style>\n",
       "<table border=\"1\" class=\"dataframe\">\n",
       "  <thead>\n",
       "    <tr style=\"text-align: right;\">\n",
       "      <th></th>\n",
       "      <th>id</th>\n",
       "      <th>137.0</th>\n",
       "      <th>196.0</th>\n",
       "      <th>303.0</th>\n",
       "      <th>Entry</th>\n",
       "    </tr>\n",
       "  </thead>\n",
       "  <tbody>\n",
       "    <tr>\n",
       "      <th>1</th>\n",
       "      <td>1</td>\n",
       "      <td>0</td>\n",
       "      <td>0</td>\n",
       "      <td>187</td>\n",
       "      <td>A0A0M1P0M0</td>\n",
       "    </tr>\n",
       "    <tr>\n",
       "      <th>4</th>\n",
       "      <td>1000</td>\n",
       "      <td>0</td>\n",
       "      <td>0</td>\n",
       "      <td>260</td>\n",
       "      <td>A0A943EYG6</td>\n",
       "    </tr>\n",
       "    <tr>\n",
       "      <th>5</th>\n",
       "      <td>10000</td>\n",
       "      <td>0</td>\n",
       "      <td>0</td>\n",
       "      <td>25</td>\n",
       "      <td>A0A246DUJ7</td>\n",
       "    </tr>\n",
       "    <tr>\n",
       "      <th>6</th>\n",
       "      <td>10001</td>\n",
       "      <td>0</td>\n",
       "      <td>0</td>\n",
       "      <td>42</td>\n",
       "      <td>A0A246DXA1</td>\n",
       "    </tr>\n",
       "    <tr>\n",
       "      <th>7</th>\n",
       "      <td>10002</td>\n",
       "      <td>0</td>\n",
       "      <td>0</td>\n",
       "      <td>159</td>\n",
       "      <td>A0A246E7G0</td>\n",
       "    </tr>\n",
       "  </tbody>\n",
       "</table>\n",
       "</div>"
      ],
      "text/plain": [
       "      id 137.0 196.0 303.0       Entry\n",
       "1      1     0     0   187  A0A0M1P0M0\n",
       "4   1000     0     0   260  A0A943EYG6\n",
       "5  10000     0     0    25  A0A246DUJ7\n",
       "6  10001     0     0    42  A0A246DXA1\n",
       "7  10002     0     0   159  A0A246E7G0"
      ]
     },
     "execution_count": 33,
     "metadata": {},
     "output_type": "execute_result"
    }
   ],
   "source": [
    "reviewed_clusters=non_outlier[non_outlier['Entry'].isin(annot_table[is_reviewed]['Entry'])]['303.0'].unique()\n",
    "non_reviewed=non_outlier[~non_outlier['303.0'].isin(reviewed_clusters)]\n",
    "print(non_reviewed.shape)\n",
    "non_reviewed.head()"
   ]
  },
  {
   "cell_type": "code",
   "execution_count": 36,
   "metadata": {},
   "outputs": [
    {
     "name": "stdout",
     "output_type": "stream",
     "text": [
      "303.0\n",
      "1    1986\n",
      "2    1818\n",
      "5     994\n",
      "6     984\n",
      "9     624\n",
      "dtype: int64\n"
     ]
    }
   ],
   "source": [
    "# rank by size\n",
    "cluster_sizes=non_reviewed.groupby('303.0').size().sort_values(ascending=False)\n",
    "print(cluster_sizes.head())\n",
    "# select top 48\n",
    "top_clusters=cluster_sizes.index[:48]"
   ]
  },
  {
   "cell_type": "markdown",
   "metadata": {},
   "source": [
    "## Pick cluster representatives\n",
    "\n",
    "Given a list of cluster IDs, we can pick some representatives."
   ]
  },
  {
   "cell_type": "markdown",
   "metadata": {},
   "source": [
    "Again, because the sequences are tracked as numbers, prepare a dataframe to map the ids back that will be used by the representative selection code. It just needs to have the id (number) and header (desired output header) as columns."
   ]
  },
  {
   "cell_type": "code",
   "execution_count": 47,
   "metadata": {},
   "outputs": [
    {
     "data": {
      "text/html": [
       "<div>\n",
       "<style scoped>\n",
       "    .dataframe tbody tr th:only-of-type {\n",
       "        vertical-align: middle;\n",
       "    }\n",
       "\n",
       "    .dataframe tbody tr th {\n",
       "        vertical-align: top;\n",
       "    }\n",
       "\n",
       "    .dataframe thead th {\n",
       "        text-align: right;\n",
       "    }\n",
       "</style>\n",
       "<table border=\"1\" class=\"dataframe\">\n",
       "  <thead>\n",
       "    <tr style=\"text-align: right;\">\n",
       "      <th></th>\n",
       "      <th>id</th>\n",
       "      <th>header</th>\n",
       "    </tr>\n",
       "  </thead>\n",
       "  <tbody>\n",
       "    <tr>\n",
       "      <th>0</th>\n",
       "      <td>0</td>\n",
       "      <td>Q88HH7</td>\n",
       "    </tr>\n",
       "    <tr>\n",
       "      <th>1</th>\n",
       "      <td>1</td>\n",
       "      <td>A0A0M1P0M0</td>\n",
       "    </tr>\n",
       "    <tr>\n",
       "      <th>2</th>\n",
       "      <td>2</td>\n",
       "      <td>A0A100YV14</td>\n",
       "    </tr>\n",
       "    <tr>\n",
       "      <th>3</th>\n",
       "      <td>3</td>\n",
       "      <td>A0A1C7IBZ4</td>\n",
       "    </tr>\n",
       "    <tr>\n",
       "      <th>4</th>\n",
       "      <td>4</td>\n",
       "      <td>A0A1R4KFK1</td>\n",
       "    </tr>\n",
       "  </tbody>\n",
       "</table>\n",
       "</div>"
      ],
      "text/plain": [
       "  id      header\n",
       "0  0      Q88HH7\n",
       "1  1  A0A0M1P0M0\n",
       "2  2  A0A100YV14\n",
       "3  3  A0A1C7IBZ4\n",
       "4  4  A0A1R4KFK1"
      ]
     },
     "execution_count": 47,
     "metadata": {},
     "output_type": "execute_result"
    }
   ],
   "source": [
    "remap_df=header_map.copy()\n",
    "remap_df.drop(columns=['header'], inplace=True)\n",
    "remap_df.rename(columns={'Entry':'header'}, inplace=True)\n",
    "remap_df.head()"
   ]
  },
  {
   "cell_type": "markdown",
   "metadata": {},
   "source": [
    "#### HMM based method"
   ]
  },
  {
   "cell_type": "code",
   "execution_count": null,
   "metadata": {},
   "outputs": [
    {
     "name": "stdout",
     "output_type": "stream",
     "text": [
      "Warning: 907 contains non-amino acid characters. Excluded from analysis.\n",
      "Warning: 1207 contains non-amino acid characters. Excluded from analysis.\n",
      "Warning: 1600 contains non-amino acid characters. Excluded from analysis.\n",
      "Warning: 1602 contains non-amino acid characters. Excluded from analysis.\n",
      "Warning: 2400 contains non-amino acid characters. Excluded from analysis.\n",
      "Warning: 2401 contains non-amino acid characters. Excluded from analysis.\n",
      "Warning: 3291 contains non-amino acid characters. Excluded from analysis.\n",
      "Warning: 3295 contains non-amino acid characters. Excluded from analysis.\n",
      "Warning: 3824 contains non-amino acid characters. Excluded from analysis.\n",
      "Warning: 5394 contains non-amino acid characters. Excluded from analysis.\n",
      "Warning: 5528 contains non-amino acid characters. Excluded from analysis.\n",
      "Warning: 5530 contains non-amino acid characters. Excluded from analysis.\n",
      "Warning: 5541 contains non-amino acid characters. Excluded from analysis.\n",
      "Warning: 5657 contains non-amino acid characters. Excluded from analysis.\n",
      "Warning: 6525 contains non-amino acid characters. Excluded from analysis.\n",
      "Warning: 6528 contains non-amino acid characters. Excluded from analysis.\n",
      "Warning: 6540 contains non-amino acid characters. Excluded from analysis.\n",
      "Warning: 7053 contains non-amino acid characters. Excluded from analysis.\n",
      "Warning: 7054 contains non-amino acid characters. Excluded from analysis.\n",
      "Warning: 7055 contains non-amino acid characters. Excluded from analysis.\n",
      "Warning: 7057 contains non-amino acid characters. Excluded from analysis.\n",
      "Warning: 7058 contains non-amino acid characters. Excluded from analysis.\n",
      "Warning: 7059 contains non-amino acid characters. Excluded from analysis.\n",
      "Warning: 7062 contains non-amino acid characters. Excluded from analysis.\n",
      "Warning: 7063 contains non-amino acid characters. Excluded from analysis.\n",
      "Warning: 9449 contains non-amino acid characters. Excluded from analysis.\n",
      "Warning: 9978 contains non-amino acid characters. Excluded from analysis.\n",
      "Warning: 10428 contains non-amino acid characters. Excluded from analysis.\n",
      "Warning: 10621 contains non-amino acid characters. Excluded from analysis.\n",
      "Warning: 10623 contains non-amino acid characters. Excluded from analysis.\n",
      "Warning: 10637 contains non-amino acid characters. Excluded from analysis.\n",
      "Warning: 10921 contains non-amino acid characters. Excluded from analysis.\n",
      "Warning: 10925 contains non-amino acid characters. Excluded from analysis.\n",
      "Warning: 11356 contains non-amino acid characters. Excluded from analysis.\n",
      "Warning: 11669 contains non-amino acid characters. Excluded from analysis.\n",
      "Warning: 11721 contains non-amino acid characters. Excluded from analysis.\n",
      "Warning: 11722 contains non-amino acid characters. Excluded from analysis.\n",
      "Warning: 11737 contains non-amino acid characters. Excluded from analysis.\n",
      "Warning: 11742 contains non-amino acid characters. Excluded from analysis.\n",
      "Warning: 11747 contains non-amino acid characters. Excluded from analysis.\n",
      "Warning: 11748 contains non-amino acid characters. Excluded from analysis.\n",
      "Warning: 11749 contains non-amino acid characters. Excluded from analysis.\n",
      "Warning: 11750 contains non-amino acid characters. Excluded from analysis.\n",
      "Warning: 11763 contains non-amino acid characters. Excluded from analysis.\n",
      "Warning: 11769 contains non-amino acid characters. Excluded from analysis.\n",
      "Warning: 11773 contains non-amino acid characters. Excluded from analysis.\n",
      "Warning: 11775 contains non-amino acid characters. Excluded from analysis.\n",
      "Warning: 11776 contains non-amino acid characters. Excluded from analysis.\n",
      "Warning: 11785 contains non-amino acid characters. Excluded from analysis.\n",
      "Warning: 11786 contains non-amino acid characters. Excluded from analysis.\n",
      "Warning: 11787 contains non-amino acid characters. Excluded from analysis.\n",
      "Warning: 11788 contains non-amino acid characters. Excluded from analysis.\n",
      "Warning: 13104 contains non-amino acid characters. Excluded from analysis.\n",
      "Warning: 14073 contains non-amino acid characters. Excluded from analysis.\n",
      "Warning: 16370 contains non-amino acid characters. Excluded from analysis.\n",
      "Warning: 16371 contains non-amino acid characters. Excluded from analysis.\n",
      "Warning: 16375 contains non-amino acid characters. Excluded from analysis.\n",
      "Warning: 17279 contains non-amino acid characters. Excluded from analysis.\n",
      "Warning: 17519 contains non-amino acid characters. Excluded from analysis.\n",
      "Warning: 17563 contains non-amino acid characters. Excluded from analysis.\n",
      "Warning: 17572 contains non-amino acid characters. Excluded from analysis.\n",
      "Warning: 18514 contains non-amino acid characters. Excluded from analysis.\n",
      "Warning: 18540 contains non-amino acid characters. Excluded from analysis.\n",
      "Warning: 18772 contains non-amino acid characters. Excluded from analysis.\n",
      "Warning: 18775 contains non-amino acid characters. Excluded from analysis.\n",
      "Warning: 18778 contains non-amino acid characters. Excluded from analysis.\n",
      "Warning: 18782 contains non-amino acid characters. Excluded from analysis.\n",
      "Warning: 18869 contains non-amino acid characters. Excluded from analysis.\n",
      "Warning: 18891 contains non-amino acid characters. Excluded from analysis.\n",
      "Warning: 19104 contains non-amino acid characters. Excluded from analysis.\n",
      "Warning: 19119 contains non-amino acid characters. Excluded from analysis.\n",
      "Warning: 19134 contains non-amino acid characters. Excluded from analysis.\n",
      "Warning: 19138 contains non-amino acid characters. Excluded from analysis.\n",
      "Warning: 19140 contains non-amino acid characters. Excluded from analysis.\n",
      "Warning: 19141 contains non-amino acid characters. Excluded from analysis.\n",
      "Warning: 19143 contains non-amino acid characters. Excluded from analysis.\n",
      "Warning: 19144 contains non-amino acid characters. Excluded from analysis.\n",
      "Warning: 19332 contains non-amino acid characters. Excluded from analysis.\n",
      "Warning: 19347 contains non-amino acid characters. Excluded from analysis.\n",
      "Warning: 19348 contains non-amino acid characters. Excluded from analysis.\n",
      "Warning: 19710 contains non-amino acid characters. Excluded from analysis.\n",
      "Warning: 19865 contains non-amino acid characters. Excluded from analysis.\n",
      "Warning: 19875 contains non-amino acid characters. Excluded from analysis.\n",
      "Warning: 20617 contains non-amino acid characters. Excluded from analysis.\n",
      "Warning: 20618 contains non-amino acid characters. Excluded from analysis.\n",
      "Warning: 20638 contains non-amino acid characters. Excluded from analysis.\n",
      "Warning: 20649 contains non-amino acid characters. Excluded from analysis.\n",
      "Warning: 22535 contains non-amino acid characters. Excluded from analysis.\n",
      "Warning: 22706 contains non-amino acid characters. Excluded from analysis.\n",
      "Warning: 22709 contains non-amino acid characters. Excluded from analysis.\n",
      "Warning: 22710 contains non-amino acid characters. Excluded from analysis.\n",
      "Warning: 22711 contains non-amino acid characters. Excluded from analysis.\n",
      "Warning: 22717 contains non-amino acid characters. Excluded from analysis.\n",
      "Warning: 22807 contains non-amino acid characters. Excluded from analysis.\n",
      "Warning: 22995 contains non-amino acid characters. Excluded from analysis.\n",
      "Warning: 23116 contains non-amino acid characters. Excluded from analysis.\n",
      "Warning: 23117 contains non-amino acid characters. Excluded from analysis.\n",
      "Warning: 23501 contains non-amino acid characters. Excluded from analysis.\n",
      "Warning: 23560 contains non-amino acid characters. Excluded from analysis.\n",
      "Warning: 23573 contains non-amino acid characters. Excluded from analysis.\n",
      "Warning: 23576 contains non-amino acid characters. Excluded from analysis.\n",
      "Warning: 23577 contains non-amino acid characters. Excluded from analysis.\n",
      "Warning: 23591 contains non-amino acid characters. Excluded from analysis.\n",
      "Warning: 23597 contains non-amino acid characters. Excluded from analysis.\n",
      "Warning: 24514 contains non-amino acid characters. Excluded from analysis.\n",
      "Warning: 24966 contains non-amino acid characters. Excluded from analysis.\n",
      "Warning: 26116 contains non-amino acid characters. Excluded from analysis.\n",
      "Warning: 26117 contains non-amino acid characters. Excluded from analysis.\n",
      "Warning: 26131 contains non-amino acid characters. Excluded from analysis.\n",
      "Warning: 26398 contains non-amino acid characters. Excluded from analysis.\n",
      "Warning: 26399 contains non-amino acid characters. Excluded from analysis.\n",
      "Warning: 26588 contains non-amino acid characters. Excluded from analysis.\n",
      "Warning: 26590 contains non-amino acid characters. Excluded from analysis.\n",
      "Warning: 26665 contains non-amino acid characters. Excluded from analysis.\n",
      "Warning: 26700 contains non-amino acid characters. Excluded from analysis.\n",
      "Warning: 26701 contains non-amino acid characters. Excluded from analysis.\n",
      "Warning: 26709 contains non-amino acid characters. Excluded from analysis.\n",
      "Warning: 26734 contains non-amino acid characters. Excluded from analysis.\n",
      "Warning: 27518 contains non-amino acid characters. Excluded from analysis.\n",
      "Warning: 27841 contains non-amino acid characters. Excluded from analysis.\n",
      "Warning: 28819 contains non-amino acid characters. Excluded from analysis.\n",
      "Warning: 28965 contains non-amino acid characters. Excluded from analysis.\n",
      "Warning: 29435 contains non-amino acid characters. Excluded from analysis.\n",
      "Warning: 29533 contains non-amino acid characters. Excluded from analysis.\n",
      "Warning: 30230 contains non-amino acid characters. Excluded from analysis.\n",
      "Warning: 30588 contains non-amino acid characters. Excluded from analysis.\n",
      "Warning: 31362 contains non-amino acid characters. Excluded from analysis.\n",
      "Warning: 31364 contains non-amino acid characters. Excluded from analysis.\n",
      "Warning: 31379 contains non-amino acid characters. Excluded from analysis.\n",
      "Warning: 31380 contains non-amino acid characters. Excluded from analysis.\n"
     ]
    }
   ],
   "source": [
    "import proteinclustertools.tools.hmm_cluster_rep as hmm_rep\n",
    "\n",
    "# this creates a zip file with all the results\n",
    "fasta_file='../output/IPR001761_cleaned.fasta' # should be cleaned fasta with numerical headers\n",
    "outfile='representatives/303.0_top48_hmm.zip'\n",
    "hmm_rep.ParseClusterLevel(clusters, '303.0', fasta_file, top_clusters, outfile, id_map=header_map)"
   ]
  },
  {
   "cell_type": "markdown",
   "metadata": {},
   "source": [
    "This creates a zip file containing 3 types of information:\n",
    "1. 'cluster_top_hits.csv' tracks which clusters each selected representative is from.\n",
    "2. 'cluster_top_hits.fasta' is just all cluster representatives in one fasta file.\n",
    "3. For every cluster analyzed, a folder is created that contains the intermediate steps in the analysis.  \n",
    "    a. The MSA of all sequences in the cluster  \n",
    "    b. The HMM created from the MSA  \n",
    "    c. The results of searching all sequences with the HMM. The user can traverse down this list for other hits (e.g., second or third best)  "
   ]
  },
  {
   "cell_type": "markdown",
   "metadata": {},
   "source": [
    "#### Vector based method"
   ]
  },
  {
   "cell_type": "code",
   "execution_count": 69,
   "metadata": {},
   "outputs": [],
   "source": [
    "import proteinclustertools.tools.vector_cluster_rep as vec_rep\n",
    "import pickle\n",
    "\n",
    "# need to load vector embeddings\n",
    "embeddings=pickle.load(open(\"../output/IPR001761_embeddings.pkl\", \"rb\"))\n",
    "vreps=vec_rep.ClusterVectorRepresentative(clusters, '303.0', embeddings, top_clusters)"
   ]
  },
  {
   "cell_type": "code",
   "execution_count": 70,
   "metadata": {},
   "outputs": [
    {
     "data": {
      "text/html": [
       "<div>\n",
       "<style scoped>\n",
       "    .dataframe tbody tr th:only-of-type {\n",
       "        vertical-align: middle;\n",
       "    }\n",
       "\n",
       "    .dataframe tbody tr th {\n",
       "        vertical-align: top;\n",
       "    }\n",
       "\n",
       "    .dataframe thead th {\n",
       "        text-align: right;\n",
       "    }\n",
       "</style>\n",
       "<table border=\"1\" class=\"dataframe\">\n",
       "  <thead>\n",
       "    <tr style=\"text-align: right;\">\n",
       "      <th></th>\n",
       "      <th>cluster</th>\n",
       "      <th>top_hit</th>\n",
       "    </tr>\n",
       "  </thead>\n",
       "  <tbody>\n",
       "    <tr>\n",
       "      <th>0</th>\n",
       "      <td>1</td>\n",
       "      <td>27021</td>\n",
       "    </tr>\n",
       "    <tr>\n",
       "      <th>1</th>\n",
       "      <td>11</td>\n",
       "      <td>2922</td>\n",
       "    </tr>\n",
       "    <tr>\n",
       "      <th>2</th>\n",
       "      <td>12</td>\n",
       "      <td>12237</td>\n",
       "    </tr>\n",
       "    <tr>\n",
       "      <th>3</th>\n",
       "      <td>13</td>\n",
       "      <td>13450</td>\n",
       "    </tr>\n",
       "    <tr>\n",
       "      <th>4</th>\n",
       "      <td>14</td>\n",
       "      <td>16768</td>\n",
       "    </tr>\n",
       "  </tbody>\n",
       "</table>\n",
       "</div>"
      ],
      "text/plain": [
       "  cluster top_hit\n",
       "0       1   27021\n",
       "1      11    2922\n",
       "2      12   12237\n",
       "3      13   13450\n",
       "4      14   16768"
      ]
     },
     "execution_count": 70,
     "metadata": {},
     "output_type": "execute_result"
    }
   ],
   "source": [
    "vreps.head()"
   ]
  },
  {
   "cell_type": "markdown",
   "metadata": {},
   "source": [
    "We can save the results, and convert the sequences to their original ids."
   ]
  },
  {
   "cell_type": "code",
   "execution_count": 73,
   "metadata": {},
   "outputs": [],
   "source": [
    "id_map=remap_df.set_index('id')['header'].to_dict()"
   ]
  },
  {
   "cell_type": "markdown",
   "metadata": {},
   "source": [
    "Collect the sequences from the cleaned fasta file."
   ]
  },
  {
   "cell_type": "code",
   "execution_count": null,
   "metadata": {},
   "outputs": [
    {
     "data": {
      "text/plain": [
       "48"
      ]
     },
     "execution_count": 77,
     "metadata": {},
     "output_type": "execute_result"
    }
   ],
   "source": [
    "from Bio import SeqIO\n",
    "\n",
    "outpath='representatives/vector_picks/'\n",
    "\n",
    "fasta='../output/IPR001761_cleaned.fasta' # should be cleaned fasta with numerical headers\n",
    "seqs=[rec for rec in SeqIO.parse(fasta, \"fasta\") if rec.id in vreps['top_hit'].values]\n",
    "# convert headers\n",
    "for seq in seqs:\n",
    "    seq.id=id_map[seq.id]\n",
    "    seq.description=''\n",
    "\n",
    "# write to file\n",
    "SeqIO.write(seqs, outpath+'top_vector_picks.fasta', \"fasta\")"
   ]
  },
  {
   "cell_type": "code",
   "execution_count": 67,
   "metadata": {},
   "outputs": [
    {
     "name": "stdout",
     "output_type": "stream",
     "text": [
      "(48, 2)\n"
     ]
    },
    {
     "data": {
      "text/html": [
       "<div>\n",
       "<style scoped>\n",
       "    .dataframe tbody tr th:only-of-type {\n",
       "        vertical-align: middle;\n",
       "    }\n",
       "\n",
       "    .dataframe tbody tr th {\n",
       "        vertical-align: top;\n",
       "    }\n",
       "\n",
       "    .dataframe thead th {\n",
       "        text-align: right;\n",
       "    }\n",
       "</style>\n",
       "<table border=\"1\" class=\"dataframe\">\n",
       "  <thead>\n",
       "    <tr style=\"text-align: right;\">\n",
       "      <th></th>\n",
       "      <th>cluster</th>\n",
       "      <th>top_hit</th>\n",
       "    </tr>\n",
       "  </thead>\n",
       "  <tbody>\n",
       "    <tr>\n",
       "      <th>0</th>\n",
       "      <td>1</td>\n",
       "      <td>A0A7L4TJ50</td>\n",
       "    </tr>\n",
       "    <tr>\n",
       "      <th>1</th>\n",
       "      <td>11</td>\n",
       "      <td>A0A1B3XQA8</td>\n",
       "    </tr>\n",
       "    <tr>\n",
       "      <th>2</th>\n",
       "      <td>12</td>\n",
       "      <td>A0A1H0QTR6</td>\n",
       "    </tr>\n",
       "    <tr>\n",
       "      <th>3</th>\n",
       "      <td>13</td>\n",
       "      <td>A0A7I0K8F0</td>\n",
       "    </tr>\n",
       "    <tr>\n",
       "      <th>4</th>\n",
       "      <td>14</td>\n",
       "      <td>A0A6P2WNZ8</td>\n",
       "    </tr>\n",
       "  </tbody>\n",
       "</table>\n",
       "</div>"
      ],
      "text/plain": [
       "  cluster     top_hit\n",
       "0       1  A0A7L4TJ50\n",
       "1      11  A0A1B3XQA8\n",
       "2      12  A0A1H0QTR6\n",
       "3      13  A0A7I0K8F0\n",
       "4      14  A0A6P2WNZ8"
      ]
     },
     "execution_count": 67,
     "metadata": {},
     "output_type": "execute_result"
    }
   ],
   "source": [
    "vreps['top_hit']=vreps['top_hit'].map(id_map)\n",
    "print(vreps.shape)\n",
    "vreps.head()"
   ]
  },
  {
   "cell_type": "code",
   "execution_count": 68,
   "metadata": {},
   "outputs": [],
   "source": [
    "# save cluster-representative mapping\n",
    "vreps.to_csv('representatives/vector_picks/vector_pick_clusters.csv', index=False)"
   ]
  },
  {
   "cell_type": "markdown",
   "metadata": {},
   "source": [
    "# Sampling representatives across the entire sequence space  \n",
    "\n",
    "The following demonstrates how to somewhat evenly sample representatives across sequence space.\n",
    "\n",
    "The steps are:\n",
    "1. Isolate desired broad sequence space.\n",
    "2. Sample representatives from clusters (with max size limit).\n",
    "3. If clusters are too large, go to the next cut-off, where they split into smaller clusters and try again.\n",
    "\n",
    "All of this can be done using the cluster table."
   ]
  },
  {
   "cell_type": "code",
   "execution_count": 2,
   "metadata": {},
   "outputs": [
    {
     "data": {
      "text/html": [
       "<div>\n",
       "<style scoped>\n",
       "    .dataframe tbody tr th:only-of-type {\n",
       "        vertical-align: middle;\n",
       "    }\n",
       "\n",
       "    .dataframe tbody tr th {\n",
       "        vertical-align: top;\n",
       "    }\n",
       "\n",
       "    .dataframe thead th {\n",
       "        text-align: right;\n",
       "    }\n",
       "</style>\n",
       "<table border=\"1\" class=\"dataframe\">\n",
       "  <thead>\n",
       "    <tr style=\"text-align: right;\">\n",
       "      <th></th>\n",
       "      <th>id</th>\n",
       "      <th>100.0</th>\n",
       "      <th>150.0</th>\n",
       "      <th>200.0</th>\n",
       "      <th>250.0</th>\n",
       "      <th>300.0</th>\n",
       "    </tr>\n",
       "  </thead>\n",
       "  <tbody>\n",
       "    <tr>\n",
       "      <th>0</th>\n",
       "      <td>0</td>\n",
       "      <td>0</td>\n",
       "      <td>0</td>\n",
       "      <td>0</td>\n",
       "      <td>0</td>\n",
       "      <td>7</td>\n",
       "    </tr>\n",
       "    <tr>\n",
       "      <th>1</th>\n",
       "      <td>1</td>\n",
       "      <td>0</td>\n",
       "      <td>0</td>\n",
       "      <td>0</td>\n",
       "      <td>84</td>\n",
       "      <td>187</td>\n",
       "    </tr>\n",
       "    <tr>\n",
       "      <th>2</th>\n",
       "      <td>10</td>\n",
       "      <td>0</td>\n",
       "      <td>0</td>\n",
       "      <td>0</td>\n",
       "      <td>0</td>\n",
       "      <td>3</td>\n",
       "    </tr>\n",
       "    <tr>\n",
       "      <th>3</th>\n",
       "      <td>100</td>\n",
       "      <td>0</td>\n",
       "      <td>0</td>\n",
       "      <td>0</td>\n",
       "      <td>0</td>\n",
       "      <td>3</td>\n",
       "    </tr>\n",
       "    <tr>\n",
       "      <th>4</th>\n",
       "      <td>1000</td>\n",
       "      <td>0</td>\n",
       "      <td>0</td>\n",
       "      <td>0</td>\n",
       "      <td>117</td>\n",
       "      <td>245</td>\n",
       "    </tr>\n",
       "  </tbody>\n",
       "</table>\n",
       "</div>"
      ],
      "text/plain": [
       "     id 100.0 150.0 200.0 250.0 300.0\n",
       "0     0     0     0     0     0     7\n",
       "1     1     0     0     0    84   187\n",
       "2    10     0     0     0     0     3\n",
       "3   100     0     0     0     0     3\n",
       "4  1000     0     0     0   117   245"
      ]
     },
     "execution_count": 2,
     "metadata": {},
     "output_type": "execute_result"
    }
   ],
   "source": [
    "import pandas as pd\n",
    "\n",
    "# read cluster table of even cutoffs\n",
    "clust_dir = '../output/mmseqs_clustering/'\n",
    "cutoffs = ['100.0','150.0','200.0','250.0','300.0'] # can be higher resolution steps (e.g. every 10 bitscore), these are just examples\n",
    "\n",
    "clust = None\n",
    "for cutoff in cutoffs:\n",
    "    clust_temp = pd.read_csv(f'{clust_dir}IPR001761_mmseqs_clusters_{cutoff}.csv', dtype=str).rename(columns={'cluster':cutoff})\n",
    "    if clust is None:\n",
    "        clust = clust_temp\n",
    "    else:\n",
    "        clust = clust.merge(clust_temp, on='id', how='outer')\n",
    "\n",
    "clust.head()"
   ]
  },
  {
   "cell_type": "markdown",
   "metadata": {},
   "source": [
    "Pretend we want to ignore small outlier groups we see in the plot above (cutoff 137), we can filter to only include sequences in those large clusters (0,1,2)."
   ]
  },
  {
   "cell_type": "code",
   "execution_count": 5,
   "metadata": {},
   "outputs": [],
   "source": [
    "# read the 137.0 clusters\n",
    "clust_137 = pd.read_csv(f'{clust_dir}IPR001761_mmseqs_clusters_137.0.csv', dtype=str)\n",
    "main_137_clusters = ['0','1','2']\n",
    "clust_137 = clust_137[clust_137['cluster'].isin(main_137_clusters)]\n",
    "\n",
    "# filter cluster table\n",
    "clust = clust[clust['id'].isin(clust_137['id'])]"
   ]
  },
  {
   "cell_type": "markdown",
   "metadata": {},
   "source": [
    "Next, we iteratively sample the table. We can adjust the min and max cluster size to tune the number of clusters we sample."
   ]
  },
  {
   "cell_type": "code",
   "execution_count": 14,
   "metadata": {},
   "outputs": [
    {
     "name": "stdout",
     "output_type": "stream",
     "text": [
      "level 100.0 : 0 clusters with size between 10 and 100\n",
      "level 150.0 : 3 clusters with size between 10 and 100\n",
      "level 200.0 : 23 clusters with size between 10 and 100\n",
      "level 250.0 : 66 clusters with size between 10 and 100\n",
      "level 300.0 : 106 clusters with size between 10 and 100\n"
     ]
    }
   ],
   "source": [
    "level_start='100.0'\n",
    "index_start=cutoffs.index(level_start)\n",
    "\n",
    "min_size=10\n",
    "max_size=100\n",
    "ids_picked=set()\n",
    "cluster_picks_by_level={}\n",
    "for i in range(index_start, len(cutoffs)):\n",
    "    level=cutoffs[i]\n",
    "    slice=clust[~clust['id'].isin(ids_picked)]\n",
    "    if len(slice)==0:\n",
    "        break\n",
    "    sizes=slice.groupby(level).size()\n",
    "\n",
    "    # get clusters with size between min_size and max_size\n",
    "    cluster_picks_by_level[level]=sizes[(sizes>=min_size) & (sizes<=max_size)].index\n",
    "    print('level', level, ':', len(cluster_picks_by_level[level]), 'clusters with size between', min_size, 'and', max_size)\n",
    "\n",
    "    # get ids\n",
    "    ids_picked.update(slice[slice[level].isin(cluster_picks_by_level[level])]['id'])\n",
    "    # also add ids less than min_size, so they don't get picked up in the next level\n",
    "    ids_picked.update(slice[~slice[level].isin(sizes[sizes>=min_size].index)]['id'])"
   ]
  },
  {
   "cell_type": "markdown",
   "metadata": {},
   "source": [
    "This gives us a dictionary of ids, which we can use to extract representatives."
   ]
  },
  {
   "cell_type": "code",
   "execution_count": 17,
   "metadata": {},
   "outputs": [
    {
     "data": {
      "text/plain": [
       "{'100.0': Index([], dtype='object', name='100.0'),\n",
       " '150.0': Index(['5', '6', '8'], dtype='object', name='150.0'),\n",
       " '200.0': Index(['10', '11', '12', '13', '14', '15', '16', '17', '18', '19', '21', '22',\n",
       "        '24', '25', '27', '28', '29', '30', '32', '35', '36', '8', '9'],\n",
       "       dtype='object', name='200.0'),\n",
       " '250.0': Index(['100', '101', '102', '103', '107', '108', '109', '113', '23', '25',\n",
       "        '26', '27', '29', '32', '33', '34', '35', '37', '38', '39', '40', '41',\n",
       "        '43', '44', '45', '46', '47', '48', '51', '52', '53', '54', '56', '57',\n",
       "        '58', '59', '60', '62', '63', '64', '65', '66', '67', '68', '71', '72',\n",
       "        '74', '75', '76', '77', '78', '79', '80', '81', '82', '84', '86', '87',\n",
       "        '90', '91', '93', '94', '95', '96', '97', '99'],\n",
       "       dtype='object', name='250.0'),\n",
       " '300.0': Index(['100', '101', '103', '104', '109', '110', '112', '114', '115', '116',\n",
       "        ...\n",
       "        '82', '83', '84', '85', '87', '89', '90', '92', '94', '95'],\n",
       "       dtype='object', name='300.0', length=106)}"
      ]
     },
     "execution_count": 17,
     "metadata": {},
     "output_type": "execute_result"
    }
   ],
   "source": [
    "cluster_picks_by_level"
   ]
  },
  {
   "cell_type": "markdown",
   "metadata": {},
   "source": [
    "We can reuse the code above to extract the representatives. However, since there are now multiple cutoffs, each needs to be processed separately. Below are some scripts for convenience to avoid having to do each one by hand."
   ]
  },
  {
   "cell_type": "code",
   "execution_count": 23,
   "metadata": {},
   "outputs": [
    {
     "name": "stdout",
     "output_type": "stream",
     "text": [
      "processing 0 clusters at level 100.0\n",
      "(Warning reading fasta) Excluded 130 sequences with non-amino acid characters.\n",
      "processing 3 clusters at level 150.0\n",
      "(Warning reading fasta) Excluded 130 sequences with non-amino acid characters.\n",
      "processing 23 clusters at level 200.0\n",
      "(Warning reading fasta) Excluded 130 sequences with non-amino acid characters.\n",
      "processing 66 clusters at level 250.0\n",
      "(Warning reading fasta) Excluded 130 sequences with non-amino acid characters.\n",
      "processing 106 clusters at level 300.0\n",
      "(Warning reading fasta) Excluded 130 sequences with non-amino acid characters.\n"
     ]
    }
   ],
   "source": [
    "import proteinclustertools.tools.hmm_cluster_rep as hmm_rep\n",
    "import proteinclustertools.tools.vector_cluster_rep as vec_rep\n",
    "import importlib\n",
    "importlib.reload(hmm_rep)\n",
    "import pickle\n",
    "import os\n",
    "\n",
    "rep_levels={'levels':{},'vector_levels':{}}\n",
    "vector_reps={}\n",
    "\n",
    "# can do just one kind of representative, or both\n",
    "do_HMM=True\n",
    "do_vector=True\n",
    "force_redo=True\n",
    "\n",
    "for level, cluster_ids in cluster_picks_by_level.items():\n",
    "    fasta_file='../output/IPR001761_cleaned.fasta' # should be cleaned fasta with numerical headers\n",
    "\n",
    "    cluster_file=f\"../output/mmseqs_clustering/IPR001761_mmseqs_clusters_{level}.csv\" # path to the cluster file\n",
    "    target_clusters=cluster_ids\n",
    "\n",
    "    print(f'processing {len(target_clusters)} clusters at level {level}')\n",
    "\n",
    "    out_path=f'representatives/hmm_multi_level_reps/{level}_reps.zip'\n",
    "    os.makedirs(os.path.dirname(out_path), exist_ok=True)\n",
    "    \n",
    "    rep_levels['levels'][level]=out_path\n",
    "    if do_HMM and (force_redo or not os.path.exists(out_path)):\n",
    "        header_map=pd.read_csv('../output/IPR001761_header_map.txt', dtype=str)\n",
    "        header_map['header']=header_map['header'].str.split('|').str[1] # optional, adjust headers when outputting picks\n",
    "        hmm_rep.ParseClusterLevel(cluster_file, 'cluster', fasta_file, target_clusters, out_path, id_map=header_map)\n",
    "\n",
    "    # get vectors\n",
    "    if do_vector:\n",
    "        vectors=pickle.load(open('../output/IPR001761_embeddings.pkl', 'rb'))\n",
    "        clu=pd.read_csv(cluster_file, dtype={'id':str})\n",
    "        rep=vec_rep.ClusterVectorRepresentative(clu, 'cluster', vectors, target_clusters)\n",
    "        rep_levels['vector_levels'][level]=rep\n",
    "        vector_reps[level]=rep\n",
    "\n",
    "# save levels data\n",
    "with open('representatives/rep_levels.pkl', 'wb') as f:\n",
    "    pickle.dump(rep_levels, f)\n",
    "\n",
    "# save vector representatives, currently just a dictionary of dataframes\n",
    "if do_vector:\n",
    "    with open('representatives/vector_full_space_reps.pkl', 'wb') as f:\n",
    "        pickle.dump(vector_reps, f)"
   ]
  },
  {
   "cell_type": "markdown",
   "metadata": {},
   "source": [
    "We can grab the representatives from the files.\n",
    "  \n",
    "First, the hmms representatives can be grabbed from the individual zip files."
   ]
  },
  {
   "cell_type": "code",
   "execution_count": 25,
   "metadata": {},
   "outputs": [],
   "source": [
    "# need rep levels, can load from here if previous step was already run\n",
    "rep_levels=pickle.load(open('representatives/rep_levels.pkl', 'rb'))"
   ]
  },
  {
   "cell_type": "code",
   "execution_count": null,
   "metadata": {},
   "outputs": [
    {
     "name": "stdout",
     "output_type": "stream",
     "text": [
      "100.0 representatives/hmm_multi_level_reps/100.0_reps.zip\n",
      "['cluster_top_hits.csv', 'cluster_top_hits.fasta']\n",
      "150.0 representatives/hmm_multi_level_reps/150.0_reps.zip\n",
      "['5/cluster_5.aln', '5/cluster_5.hmm', '5/cluster_5.hits', '6/cluster_6.aln', '6/cluster_6.hmm', '6/cluster_6.hits', '8/cluster_8.aln', '8/cluster_8.hmm', '8/cluster_8.hits', 'cluster_top_hits.csv', 'cluster_top_hits.fasta']\n",
      "200.0 representatives/hmm_multi_level_reps/200.0_reps.zip\n",
      "['10/cluster_10.aln', '10/cluster_10.hmm', '10/cluster_10.hits', '11/cluster_11.aln', '11/cluster_11.hmm', '11/cluster_11.hits', '12/cluster_12.aln', '12/cluster_12.hmm', '12/cluster_12.hits', '13/cluster_13.aln', '13/cluster_13.hmm', '13/cluster_13.hits', '14/cluster_14.aln', '14/cluster_14.hmm', '14/cluster_14.hits', '15/cluster_15.aln', '15/cluster_15.hmm', '15/cluster_15.hits', '16/cluster_16.aln', '16/cluster_16.hmm', '16/cluster_16.hits', '17/cluster_17.aln', '17/cluster_17.hmm', '17/cluster_17.hits', '18/cluster_18.aln', '18/cluster_18.hmm', '18/cluster_18.hits', '19/cluster_19.aln', '19/cluster_19.hmm', '19/cluster_19.hits', '21/cluster_21.aln', '21/cluster_21.hmm', '21/cluster_21.hits', '22/cluster_22.aln', '22/cluster_22.hmm', '22/cluster_22.hits', '24/cluster_24.aln', '24/cluster_24.hmm', '24/cluster_24.hits', '25/cluster_25.aln', '25/cluster_25.hmm', '25/cluster_25.hits', '27/cluster_27.aln', '27/cluster_27.hmm', '27/cluster_27.hits', '28/cluster_28.aln', '28/cluster_28.hmm', '28/cluster_28.hits', '29/cluster_29.aln', '29/cluster_29.hmm', '29/cluster_29.hits', '30/cluster_30.aln', '30/cluster_30.hmm', '30/cluster_30.hits', '32/cluster_32.aln', '32/cluster_32.hmm', '32/cluster_32.hits', '35/cluster_35.aln', '35/cluster_35.hmm', '35/cluster_35.hits', '36/cluster_36.aln', '36/cluster_36.hmm', '36/cluster_36.hits', '8/cluster_8.aln', '8/cluster_8.hmm', '8/cluster_8.hits', '9/cluster_9.aln', '9/cluster_9.hmm', '9/cluster_9.hits', 'cluster_top_hits.csv', 'cluster_top_hits.fasta']\n",
      "250.0 representatives/hmm_multi_level_reps/250.0_reps.zip\n",
      "['100/cluster_100.aln', '100/cluster_100.hmm', '100/cluster_100.hits', '101/cluster_101.aln', '101/cluster_101.hmm', '101/cluster_101.hits', '102/cluster_102.aln', '102/cluster_102.hmm', '102/cluster_102.hits', '103/cluster_103.aln', '103/cluster_103.hmm', '103/cluster_103.hits', '107/cluster_107.aln', '107/cluster_107.hmm', '107/cluster_107.hits', '108/cluster_108.aln', '108/cluster_108.hmm', '108/cluster_108.hits', '109/cluster_109.aln', '109/cluster_109.hmm', '109/cluster_109.hits', '113/cluster_113.aln', '113/cluster_113.hmm', '113/cluster_113.hits', '23/cluster_23.aln', '23/cluster_23.hmm', '23/cluster_23.hits', '25/cluster_25.aln', '25/cluster_25.hmm', '25/cluster_25.hits', '26/cluster_26.aln', '26/cluster_26.hmm', '26/cluster_26.hits', '27/cluster_27.aln', '27/cluster_27.hmm', '27/cluster_27.hits', '29/cluster_29.aln', '29/cluster_29.hmm', '29/cluster_29.hits', '32/cluster_32.aln', '32/cluster_32.hmm', '32/cluster_32.hits', '33/cluster_33.aln', '33/cluster_33.hmm', '33/cluster_33.hits', '34/cluster_34.aln', '34/cluster_34.hmm', '34/cluster_34.hits', '35/cluster_35.aln', '35/cluster_35.hmm', '35/cluster_35.hits', '37/cluster_37.aln', '37/cluster_37.hmm', '37/cluster_37.hits', '38/cluster_38.aln', '38/cluster_38.hmm', '38/cluster_38.hits', '39/cluster_39.aln', '39/cluster_39.hmm', '39/cluster_39.hits', '40/cluster_40.aln', '40/cluster_40.hmm', '40/cluster_40.hits', '41/cluster_41.aln', '41/cluster_41.hmm', '41/cluster_41.hits', '43/cluster_43.aln', '43/cluster_43.hmm', '43/cluster_43.hits', '44/cluster_44.aln', '44/cluster_44.hmm', '44/cluster_44.hits', '45/cluster_45.aln', '45/cluster_45.hmm', '45/cluster_45.hits', '46/cluster_46.aln', '46/cluster_46.hmm', '46/cluster_46.hits', '47/cluster_47.aln', '47/cluster_47.hmm', '47/cluster_47.hits', '48/cluster_48.aln', '48/cluster_48.hmm', '48/cluster_48.hits', '51/cluster_51.aln', '51/cluster_51.hmm', '51/cluster_51.hits', '52/cluster_52.aln', '52/cluster_52.hmm', '52/cluster_52.hits', '53/cluster_53.aln', '53/cluster_53.hmm', '53/cluster_53.hits', '54/cluster_54.aln', '54/cluster_54.hmm', '54/cluster_54.hits', '56/cluster_56.aln', '56/cluster_56.hmm', '56/cluster_56.hits', '57/cluster_57.aln', '57/cluster_57.hmm', '57/cluster_57.hits', '58/cluster_58.aln', '58/cluster_58.hmm', '58/cluster_58.hits', '59/cluster_59.aln', '59/cluster_59.hmm', '59/cluster_59.hits', '60/cluster_60.aln', '60/cluster_60.hmm', '60/cluster_60.hits', '62/cluster_62.aln', '62/cluster_62.hmm', '62/cluster_62.hits', '63/cluster_63.aln', '63/cluster_63.hmm', '63/cluster_63.hits', '64/cluster_64.aln', '64/cluster_64.hmm', '64/cluster_64.hits', '65/cluster_65.aln', '65/cluster_65.hmm', '65/cluster_65.hits', '66/cluster_66.aln', '66/cluster_66.hmm', '66/cluster_66.hits', '67/cluster_67.aln', '67/cluster_67.hmm', '67/cluster_67.hits', '68/cluster_68.aln', '68/cluster_68.hmm', '68/cluster_68.hits', '71/cluster_71.aln', '71/cluster_71.hmm', '71/cluster_71.hits', '72/cluster_72.aln', '72/cluster_72.hmm', '72/cluster_72.hits', '74/cluster_74.aln', '74/cluster_74.hmm', '74/cluster_74.hits', '75/cluster_75.aln', '75/cluster_75.hmm', '75/cluster_75.hits', '76/cluster_76.aln', '76/cluster_76.hmm', '76/cluster_76.hits', '77/cluster_77.aln', '77/cluster_77.hmm', '77/cluster_77.hits', '78/cluster_78.aln', '78/cluster_78.hmm', '78/cluster_78.hits', '79/cluster_79.aln', '79/cluster_79.hmm', '79/cluster_79.hits', '80/cluster_80.aln', '80/cluster_80.hmm', '80/cluster_80.hits', '81/cluster_81.aln', '81/cluster_81.hmm', '81/cluster_81.hits', '82/cluster_82.aln', '82/cluster_82.hmm', '82/cluster_82.hits', '84/cluster_84.aln', '84/cluster_84.hmm', '84/cluster_84.hits', '86/cluster_86.aln', '86/cluster_86.hmm', '86/cluster_86.hits', '87/cluster_87.aln', '87/cluster_87.hmm', '87/cluster_87.hits', '90/cluster_90.aln', '90/cluster_90.hmm', '90/cluster_90.hits', '91/cluster_91.aln', '91/cluster_91.hmm', '91/cluster_91.hits', '93/cluster_93.aln', '93/cluster_93.hmm', '93/cluster_93.hits', '94/cluster_94.aln', '94/cluster_94.hmm', '94/cluster_94.hits', '95/cluster_95.aln', '95/cluster_95.hmm', '95/cluster_95.hits', '96/cluster_96.aln', '96/cluster_96.hmm', '96/cluster_96.hits', '97/cluster_97.aln', '97/cluster_97.hmm', '97/cluster_97.hits', '99/cluster_99.aln', '99/cluster_99.hmm', '99/cluster_99.hits', 'cluster_top_hits.csv', 'cluster_top_hits.fasta']\n",
      "300.0 representatives/hmm_multi_level_reps/300.0_reps.zip\n",
      "['100/cluster_100.aln', '100/cluster_100.hmm', '100/cluster_100.hits', '101/cluster_101.aln', '101/cluster_101.hmm', '101/cluster_101.hits', '103/cluster_103.aln', '103/cluster_103.hmm', '103/cluster_103.hits', '104/cluster_104.aln', '104/cluster_104.hmm', '104/cluster_104.hits', '109/cluster_109.aln', '109/cluster_109.hmm', '109/cluster_109.hits', '110/cluster_110.aln', '110/cluster_110.hmm', '110/cluster_110.hits', '112/cluster_112.aln', '112/cluster_112.hmm', '112/cluster_112.hits', '114/cluster_114.aln', '114/cluster_114.hmm', '114/cluster_114.hits', '115/cluster_115.aln', '115/cluster_115.hmm', '115/cluster_115.hits', '116/cluster_116.aln', '116/cluster_116.hmm', '116/cluster_116.hits', '119/cluster_119.aln', '119/cluster_119.hmm', '119/cluster_119.hits', '120/cluster_120.aln', '120/cluster_120.hmm', '120/cluster_120.hits', '122/cluster_122.aln', '122/cluster_122.hmm', '122/cluster_122.hits', '123/cluster_123.aln', '123/cluster_123.hmm', '123/cluster_123.hits', '124/cluster_124.aln', '124/cluster_124.hmm', '124/cluster_124.hits', '125/cluster_125.aln', '125/cluster_125.hmm', '125/cluster_125.hits', '126/cluster_126.aln', '126/cluster_126.hmm', '126/cluster_126.hits', '127/cluster_127.aln', '127/cluster_127.hmm', '127/cluster_127.hits', '129/cluster_129.aln', '129/cluster_129.hmm', '129/cluster_129.hits', '131/cluster_131.aln', '131/cluster_131.hmm', '131/cluster_131.hits', '132/cluster_132.aln', '132/cluster_132.hmm', '132/cluster_132.hits', '134/cluster_134.aln', '134/cluster_134.hmm', '134/cluster_134.hits', '135/cluster_135.aln', '135/cluster_135.hmm', '135/cluster_135.hits', '137/cluster_137.aln', '137/cluster_137.hmm', '137/cluster_137.hits', '138/cluster_138.aln', '138/cluster_138.hmm', '138/cluster_138.hits', '141/cluster_141.aln', '141/cluster_141.hmm', '141/cluster_141.hits', '142/cluster_142.aln', '142/cluster_142.hmm', '142/cluster_142.hits', '143/cluster_143.aln', '143/cluster_143.hmm', '143/cluster_143.hits', '144/cluster_144.aln', '144/cluster_144.hmm', '144/cluster_144.hits', '146/cluster_146.aln', '146/cluster_146.hmm', '146/cluster_146.hits', '149/cluster_149.aln', '149/cluster_149.hmm', '149/cluster_149.hits', '150/cluster_150.aln', '150/cluster_150.hmm', '150/cluster_150.hits', '152/cluster_152.aln', '152/cluster_152.hmm', '152/cluster_152.hits', '154/cluster_154.aln', '154/cluster_154.hmm', '154/cluster_154.hits', '155/cluster_155.aln', '155/cluster_155.hmm', '155/cluster_155.hits', '158/cluster_158.aln', '158/cluster_158.hmm', '158/cluster_158.hits', '159/cluster_159.aln', '159/cluster_159.hmm', '159/cluster_159.hits', '160/cluster_160.aln', '160/cluster_160.hmm', '160/cluster_160.hits', '164/cluster_164.aln', '164/cluster_164.hmm', '164/cluster_164.hits', '170/cluster_170.aln', '170/cluster_170.hmm', '170/cluster_170.hits', '171/cluster_171.aln', '171/cluster_171.hmm', '171/cluster_171.hits', '172/cluster_172.aln', '172/cluster_172.hmm', '172/cluster_172.hits', '173/cluster_173.aln', '173/cluster_173.hmm', '173/cluster_173.hits', '175/cluster_175.aln', '175/cluster_175.hmm', '175/cluster_175.hits', '181/cluster_181.aln', '181/cluster_181.hmm', '181/cluster_181.hits', '182/cluster_182.aln', '182/cluster_182.hmm', '182/cluster_182.hits', '185/cluster_185.aln', '185/cluster_185.hmm', '185/cluster_185.hits', '191/cluster_191.aln', '191/cluster_191.hmm', '191/cluster_191.hits', '195/cluster_195.aln', '195/cluster_195.hmm', '195/cluster_195.hits', '197/cluster_197.aln', '197/cluster_197.hmm', '197/cluster_197.hits', '198/cluster_198.aln', '198/cluster_198.hmm', '198/cluster_198.hits', '199/cluster_199.aln', '199/cluster_199.hmm', '199/cluster_199.hits', '200/cluster_200.aln', '200/cluster_200.hmm', '200/cluster_200.hits', '201/cluster_201.aln', '201/cluster_201.hmm', '201/cluster_201.hits', '203/cluster_203.aln', '203/cluster_203.hmm', '203/cluster_203.hits', '204/cluster_204.aln', '204/cluster_204.hmm', '204/cluster_204.hits', '208/cluster_208.aln', '208/cluster_208.hmm', '208/cluster_208.hits', '209/cluster_209.aln', '209/cluster_209.hmm', '209/cluster_209.hits', '210/cluster_210.aln', '210/cluster_210.hmm', '210/cluster_210.hits', '214/cluster_214.aln', '214/cluster_214.hmm', '214/cluster_214.hits', '215/cluster_215.aln', '215/cluster_215.hmm', '215/cluster_215.hits', '218/cluster_218.aln', '218/cluster_218.hmm', '218/cluster_218.hits', '221/cluster_221.aln', '221/cluster_221.hmm', '221/cluster_221.hits', '222/cluster_222.aln', '222/cluster_222.hmm', '222/cluster_222.hits', '223/cluster_223.aln', '223/cluster_223.hmm', '223/cluster_223.hits', '224/cluster_224.aln', '224/cluster_224.hmm', '224/cluster_224.hits', '225/cluster_225.aln', '225/cluster_225.hmm', '225/cluster_225.hits', '228/cluster_228.aln', '228/cluster_228.hmm', '228/cluster_228.hits', '230/cluster_230.aln', '230/cluster_230.hmm', '230/cluster_230.hits', '43/cluster_43.aln', '43/cluster_43.hmm', '43/cluster_43.hits', '44/cluster_44.aln', '44/cluster_44.hmm', '44/cluster_44.hits', '48/cluster_48.aln', '48/cluster_48.hmm', '48/cluster_48.hits', '49/cluster_49.aln', '49/cluster_49.hmm', '49/cluster_49.hits', '53/cluster_53.aln', '53/cluster_53.hmm', '53/cluster_53.hits', '54/cluster_54.aln', '54/cluster_54.hmm', '54/cluster_54.hits', '55/cluster_55.aln', '55/cluster_55.hmm', '55/cluster_55.hits', '56/cluster_56.aln', '56/cluster_56.hmm', '56/cluster_56.hits', '57/cluster_57.aln', '57/cluster_57.hmm', '57/cluster_57.hits', '58/cluster_58.aln', '58/cluster_58.hmm', '58/cluster_58.hits', '60/cluster_60.aln', '60/cluster_60.hmm', '60/cluster_60.hits', '61/cluster_61.aln', '61/cluster_61.hmm', '61/cluster_61.hits', '62/cluster_62.aln', '62/cluster_62.hmm', '62/cluster_62.hits', '63/cluster_63.aln', '63/cluster_63.hmm', '63/cluster_63.hits', '64/cluster_64.aln', '64/cluster_64.hmm', '64/cluster_64.hits', '65/cluster_65.aln', '65/cluster_65.hmm', '65/cluster_65.hits', '66/cluster_66.aln', '66/cluster_66.hmm', '66/cluster_66.hits', '67/cluster_67.aln', '67/cluster_67.hmm', '67/cluster_67.hits', '69/cluster_69.aln', '69/cluster_69.hmm', '69/cluster_69.hits', '71/cluster_71.aln', '71/cluster_71.hmm', '71/cluster_71.hits', '72/cluster_72.aln', '72/cluster_72.hmm', '72/cluster_72.hits', '73/cluster_73.aln', '73/cluster_73.hmm', '73/cluster_73.hits', '74/cluster_74.aln', '74/cluster_74.hmm', '74/cluster_74.hits', '76/cluster_76.aln', '76/cluster_76.hmm', '76/cluster_76.hits', '77/cluster_77.aln', '77/cluster_77.hmm', '77/cluster_77.hits', '79/cluster_79.aln', '79/cluster_79.hmm', '79/cluster_79.hits', '80/cluster_80.aln', '80/cluster_80.hmm', '80/cluster_80.hits', '82/cluster_82.aln', '82/cluster_82.hmm', '82/cluster_82.hits', '83/cluster_83.aln', '83/cluster_83.hmm', '83/cluster_83.hits', '84/cluster_84.aln', '84/cluster_84.hmm', '84/cluster_84.hits', '85/cluster_85.aln', '85/cluster_85.hmm', '85/cluster_85.hits', '87/cluster_87.aln', '87/cluster_87.hmm', '87/cluster_87.hits', '89/cluster_89.aln', '89/cluster_89.hmm', '89/cluster_89.hits', '90/cluster_90.aln', '90/cluster_90.hmm', '90/cluster_90.hits', '92/cluster_92.aln', '92/cluster_92.hmm', '92/cluster_92.hits', '94/cluster_94.aln', '94/cluster_94.hmm', '94/cluster_94.hits', '95/cluster_95.aln', '95/cluster_95.hmm', '95/cluster_95.hits', 'cluster_top_hits.csv', 'cluster_top_hits.fasta']\n"
     ]
    }
   ],
   "source": [
    "from zipfile import ZipFile\n",
    "from Bio import SeqIO\n",
    "import io\n",
    "\n",
    "hmm_reps={}\n",
    "with open('representatives/hmm_full_space_reps.fasta', 'w') as f:\n",
    "    for level, path in rep_levels['levels'].items():\n",
    "        print(level, path)\n",
    "        # read zip file list files\n",
    "        with ZipFile(path, 'r') as z:\n",
    "            print(z.namelist())\n",
    "            # read csv table\n",
    "            with z.open('cluster_top_hits.fasta') as zf:\n",
    "                with io.TextIOWrapper(zf, encoding=\"utf-8\") as tf:\n",
    "                    seqs=[seq for seq in SeqIO.parse(tf, 'fasta')]\n",
    "                    # write to file\n",
    "                    SeqIO.write(seqs, f, 'fasta')\n",
    "\n",
    "    "
   ]
  },
  {
   "cell_type": "markdown",
   "metadata": {},
   "source": [
    "Now the vector representatives."
   ]
  },
  {
   "cell_type": "code",
   "execution_count": 31,
   "metadata": {},
   "outputs": [],
   "source": [
    "vec_rep = pickle.load(open('representatives/vector_full_space_reps.pkl', 'rb'))\n",
    "\n",
    "vec_hits = []\n",
    "for level, table in vec_rep.items():\n",
    "    vec_hits.extend(table['top_hit'].values)\n",
    "\n",
    "# read all sequences\n",
    "seqs = [rec for rec in SeqIO.parse('../output/IPR001761_cleaned.fasta', 'fasta') if rec.id in vec_hits]\n",
    "# convert headers\n",
    "header_map=pd.read_csv('../output/IPR001761_header_map.txt', dtype=str)\n",
    "header_map['header']=header_map['header'].str.split('|').str[1] # optional, adjust headers when outputting picks\n",
    "id_map=header_map.set_index('id')['header'].to_dict()\n",
    "for seq in seqs:\n",
    "    seq.id=id_map[seq.id]\n",
    "    seq.description=''\n",
    "\n",
    "# write to file\n",
    "with open('representatives/vector_full_space_reps.fasta', 'w') as f:\n",
    "    SeqIO.write(seqs, f, 'fasta')"
   ]
  }
 ],
 "metadata": {
  "kernelspec": {
   "display_name": "clustertools2",
   "language": "python",
   "name": "python3"
  },
  "language_info": {
   "codemirror_mode": {
    "name": "ipython",
    "version": 3
   },
   "file_extension": ".py",
   "mimetype": "text/x-python",
   "name": "python",
   "nbconvert_exporter": "python",
   "pygments_lexer": "ipython3",
   "version": "3.12.2"
  }
 },
 "nbformat": 4,
 "nbformat_minor": 2
}
